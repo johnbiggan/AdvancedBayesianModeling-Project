{
 "cells": [
  {
   "cell_type": "markdown",
   "metadata": {
    "colab_type": "text",
    "id": "view-in-github"
   },
   "source": [
    "<a href=\"https://colab.research.google.com/github/johnbiggan/DeepLearningforHealthcare-Project/blob/main/Code/Project.ipynb\" target=\"_parent\"><img src=\"https://colab.research.google.com/assets/colab-badge.svg\" alt=\"Open In Colab\"/></a>"
   ]
  },
  {
   "cell_type": "markdown",
   "metadata": {
    "id": "7YYD-33pLZz-"
   },
   "source": [
    "Project notebook available in Google Colab space: https://colab.research.google.com/github/johnbiggan/DeepLearningforHealthcare-Project/blob/main/Code/Project.ipynb\n",
    "\n",
    "Public GitHub repo: https://github.com/johnbiggan/DeepLearningforHealthcare-Project/blob/main/Code/Project.ipynb\n",
    "\n",
    "and video presentation: [INSERT HTML HERE]"
   ]
  },
  {
   "cell_type": "markdown",
   "metadata": {
    "id": "iHlDobF8_sW7"
   },
   "source": [
    "# Domain Knowledge Guided Deep Learning\n",
    "###with Electronic Health Records Replication"
   ]
  },
  {
   "cell_type": "markdown",
   "metadata": {
    "id": "MmYpM15nAQQR"
   },
   "source": [
    "# Introduction\n",
    "\n",
    "Every year, more than a quarter of all healthcare spending in the US is spent on preventable diseases [1]. In an effort to intervene earlier researchers look to the ever-growing pool of electronic health records (EHRs) to predict disease risk. Many models have been developed, but with the recurrent nature of healthcare visits recurrent neural networks (RNNs) have shown the most promise.\n",
    "\n",
    "Unfortunately, early RNNs treated the time between consecutive visits as well as the time between visits and disease diagnosis as unimportant. Additionally, other early models fail to incorporate medical knowledge in the form of relationships between diagnosis (e.g comorbid, causes, caused-by).\n",
    "\n",
    "The Domain Knowledge Guided Recurrent Neural Network (DG-RNN) being replicated in this project addresses both shortcomings and has been found to improve heart failure prediction over-and-above previous methodologies [2]. In their paper, the authors described a model that uses multiple long short-term memory models [3] with attention to utilize disease diagnoses, procedure codes, visit time differences, and a medical knowledge graph (Figure 1). Incorporating medical knowledge graphs provides challenges. For example, the semi-structured nature of graphs adds to the complexity. Moreover, readily-available medical knowledge graphs have been few and far between.\n",
    "\n",
    "Testing this model on the MIMIC-III dataset [4,5,6], it was able to outperform numerous other models, including random forests, support vector machines, and traditional long short-term memory RNNs on a heart failure prediction task.\n"
   ]
  },
  {
   "cell_type": "markdown",
   "metadata": {
    "id": "r1VOt02kNdXv"
   },
   "source": [
    "![Figure 1](https://raw.githubusercontent.com/johnbiggan/DeepLearningforHealthcare-Project/main/Figures/Figure1.png \"Figure 1\")\n",
    "\n",
    "Figure 1. DG-RNN model."
   ]
  },
  {
   "cell_type": "markdown",
   "metadata": {
    "id": "uygL9tTPSVHB"
   },
   "source": [
    "# Scope of Reproducibility:\n",
    "\n",
    "This replication will focus on reproducing the main findings of the paper. Specifically, the following hypotheses will be tested:\n",
    "\n",
    "Hypothesis 1: Including the time between visits will improve the model over the base model that treats all visits in a simple sequential manner.\n",
    "\n",
    "Hypothesis 2: Including domain knowledge, along with the time between visits, will lead to a better performing model than the base model."
   ]
  },
  {
   "cell_type": "markdown",
   "metadata": {
    "id": "xWAHJ_1CdtaA"
   },
   "source": [
    "# Methodology\n",
    "Python version 3.11 was used.\n",
    "\n",
    "Additionally, this project uses tools from the pyhealth, numpy, pytorch, and pandas packages, which should be installed if they have not already been."
   ]
  },
  {
   "cell_type": "code",
   "execution_count": 1,
   "metadata": {
    "id": "y5Cr-eC9_TLG"
   },
   "outputs": [
    {
     "name": "stdout",
     "output_type": "stream",
     "text": [
      "Requirement already satisfied: pyhealth in c:\\users\\john\\appdata\\local\\packages\\pythonsoftwarefoundation.python.3.11_qbz5n2kfra8p0\\localcache\\local-packages\\python311\\site-packages (1.1.6)\n",
      "Requirement already satisfied: torch>=1.8.0 in c:\\users\\john\\appdata\\local\\packages\\pythonsoftwarefoundation.python.3.11_qbz5n2kfra8p0\\localcache\\local-packages\\python311\\site-packages (from pyhealth) (2.2.2)\n",
      "Requirement already satisfied: torchvision>=0.9.0 in c:\\users\\john\\appdata\\local\\packages\\pythonsoftwarefoundation.python.3.11_qbz5n2kfra8p0\\localcache\\local-packages\\python311\\site-packages (from pyhealth) (0.17.2)\n",
      "Requirement already satisfied: rdkit>=2022.03.4 in c:\\users\\john\\appdata\\local\\packages\\pythonsoftwarefoundation.python.3.11_qbz5n2kfra8p0\\localcache\\local-packages\\python311\\site-packages (from pyhealth) (2023.9.5)\n",
      "Requirement already satisfied: scikit-learn>=0.24.2 in c:\\users\\john\\appdata\\local\\packages\\pythonsoftwarefoundation.python.3.11_qbz5n2kfra8p0\\localcache\\local-packages\\python311\\site-packages (from pyhealth) (1.3.2)\n",
      "Requirement already satisfied: networkx>=2.6.3 in c:\\users\\john\\appdata\\local\\packages\\pythonsoftwarefoundation.python.3.11_qbz5n2kfra8p0\\localcache\\local-packages\\python311\\site-packages (from pyhealth) (3.2.1)\n",
      "Requirement already satisfied: pandas<2,>=1.3.2 in c:\\users\\john\\appdata\\local\\packages\\pythonsoftwarefoundation.python.3.11_qbz5n2kfra8p0\\localcache\\local-packages\\python311\\site-packages (from pyhealth) (1.5.3)\n",
      "Requirement already satisfied: pandarallel>=1.5.3 in c:\\users\\john\\appdata\\local\\packages\\pythonsoftwarefoundation.python.3.11_qbz5n2kfra8p0\\localcache\\local-packages\\python311\\site-packages (from pyhealth) (1.6.5)\n",
      "Requirement already satisfied: mne>=1.0.3 in c:\\users\\john\\appdata\\local\\packages\\pythonsoftwarefoundation.python.3.11_qbz5n2kfra8p0\\localcache\\local-packages\\python311\\site-packages (from pyhealth) (1.6.1)\n",
      "Requirement already satisfied: urllib3<=1.26.15 in c:\\users\\john\\appdata\\local\\packages\\pythonsoftwarefoundation.python.3.11_qbz5n2kfra8p0\\localcache\\local-packages\\python311\\site-packages (from pyhealth) (1.26.15)\n",
      "Requirement already satisfied: numpy in c:\\users\\john\\appdata\\local\\packages\\pythonsoftwarefoundation.python.3.11_qbz5n2kfra8p0\\localcache\\local-packages\\python311\\site-packages (from pyhealth) (1.25.2)\n",
      "Requirement already satisfied: tqdm in c:\\users\\john\\appdata\\local\\packages\\pythonsoftwarefoundation.python.3.11_qbz5n2kfra8p0\\localcache\\local-packages\\python311\\site-packages (from pyhealth) (4.66.1)\n",
      "Requirement already satisfied: scipy>=1.7.1 in c:\\users\\john\\appdata\\local\\packages\\pythonsoftwarefoundation.python.3.11_qbz5n2kfra8p0\\localcache\\local-packages\\python311\\site-packages (from mne>=1.0.3->pyhealth) (1.11.4)\n",
      "Requirement already satisfied: matplotlib>=3.5.0 in c:\\users\\john\\appdata\\local\\packages\\pythonsoftwarefoundation.python.3.11_qbz5n2kfra8p0\\localcache\\local-packages\\python311\\site-packages (from mne>=1.0.3->pyhealth) (3.8.4)\n",
      "Requirement already satisfied: pooch>=1.5 in c:\\users\\john\\appdata\\local\\packages\\pythonsoftwarefoundation.python.3.11_qbz5n2kfra8p0\\localcache\\local-packages\\python311\\site-packages (from mne>=1.0.3->pyhealth) (1.8.1)\n",
      "Requirement already satisfied: decorator in c:\\users\\john\\appdata\\local\\packages\\pythonsoftwarefoundation.python.3.11_qbz5n2kfra8p0\\localcache\\local-packages\\python311\\site-packages (from mne>=1.0.3->pyhealth) (5.1.1)\n",
      "Requirement already satisfied: packaging in c:\\users\\john\\appdata\\local\\packages\\pythonsoftwarefoundation.python.3.11_qbz5n2kfra8p0\\localcache\\local-packages\\python311\\site-packages (from mne>=1.0.3->pyhealth) (23.2)\n",
      "Requirement already satisfied: jinja2 in c:\\users\\john\\appdata\\local\\packages\\pythonsoftwarefoundation.python.3.11_qbz5n2kfra8p0\\localcache\\local-packages\\python311\\site-packages (from mne>=1.0.3->pyhealth) (3.1.2)\n",
      "Requirement already satisfied: lazy-loader>=0.3 in c:\\users\\john\\appdata\\local\\packages\\pythonsoftwarefoundation.python.3.11_qbz5n2kfra8p0\\localcache\\local-packages\\python311\\site-packages (from mne>=1.0.3->pyhealth) (0.4)\n",
      "Requirement already satisfied: dill>=0.3.1 in c:\\users\\john\\appdata\\local\\packages\\pythonsoftwarefoundation.python.3.11_qbz5n2kfra8p0\\localcache\\local-packages\\python311\\site-packages (from pandarallel>=1.5.3->pyhealth) (0.3.8)\n",
      "Requirement already satisfied: psutil in c:\\users\\john\\appdata\\local\\packages\\pythonsoftwarefoundation.python.3.11_qbz5n2kfra8p0\\localcache\\local-packages\\python311\\site-packages (from pandarallel>=1.5.3->pyhealth) (5.9.8)\n",
      "Requirement already satisfied: python-dateutil>=2.8.1 in c:\\users\\john\\appdata\\local\\packages\\pythonsoftwarefoundation.python.3.11_qbz5n2kfra8p0\\localcache\\local-packages\\python311\\site-packages (from pandas<2,>=1.3.2->pyhealth) (2.8.2)\n",
      "Requirement already satisfied: pytz>=2020.1 in c:\\users\\john\\appdata\\local\\packages\\pythonsoftwarefoundation.python.3.11_qbz5n2kfra8p0\\localcache\\local-packages\\python311\\site-packages (from pandas<2,>=1.3.2->pyhealth) (2023.3.post1)\n",
      "Requirement already satisfied: Pillow in c:\\users\\john\\appdata\\local\\packages\\pythonsoftwarefoundation.python.3.11_qbz5n2kfra8p0\\localcache\\local-packages\\python311\\site-packages (from rdkit>=2022.03.4->pyhealth) (10.0.0)\n",
      "Requirement already satisfied: joblib>=1.1.1 in c:\\users\\john\\appdata\\local\\packages\\pythonsoftwarefoundation.python.3.11_qbz5n2kfra8p0\\localcache\\local-packages\\python311\\site-packages (from scikit-learn>=0.24.2->pyhealth) (1.3.2)\n",
      "Requirement already satisfied: threadpoolctl>=2.0.0 in c:\\users\\john\\appdata\\local\\packages\\pythonsoftwarefoundation.python.3.11_qbz5n2kfra8p0\\localcache\\local-packages\\python311\\site-packages (from scikit-learn>=0.24.2->pyhealth) (3.2.0)\n",
      "Requirement already satisfied: filelock in c:\\users\\john\\appdata\\local\\packages\\pythonsoftwarefoundation.python.3.11_qbz5n2kfra8p0\\localcache\\local-packages\\python311\\site-packages (from torch>=1.8.0->pyhealth) (3.13.1)\n",
      "Requirement already satisfied: typing-extensions>=4.8.0 in c:\\users\\john\\appdata\\local\\packages\\pythonsoftwarefoundation.python.3.11_qbz5n2kfra8p0\\localcache\\local-packages\\python311\\site-packages (from torch>=1.8.0->pyhealth) (4.8.0)\n",
      "Requirement already satisfied: sympy in c:\\users\\john\\appdata\\local\\packages\\pythonsoftwarefoundation.python.3.11_qbz5n2kfra8p0\\localcache\\local-packages\\python311\\site-packages (from torch>=1.8.0->pyhealth) (1.12)\n",
      "Requirement already satisfied: fsspec in c:\\users\\john\\appdata\\local\\packages\\pythonsoftwarefoundation.python.3.11_qbz5n2kfra8p0\\localcache\\local-packages\\python311\\site-packages (from torch>=1.8.0->pyhealth) (2023.10.0)\n",
      "Requirement already satisfied: colorama in c:\\users\\john\\appdata\\local\\packages\\pythonsoftwarefoundation.python.3.11_qbz5n2kfra8p0\\localcache\\local-packages\\python311\\site-packages (from tqdm->pyhealth) (0.4.6)\n",
      "Requirement already satisfied: contourpy>=1.0.1 in c:\\users\\john\\appdata\\local\\packages\\pythonsoftwarefoundation.python.3.11_qbz5n2kfra8p0\\localcache\\local-packages\\python311\\site-packages (from matplotlib>=3.5.0->mne>=1.0.3->pyhealth) (1.2.1)\n",
      "Requirement already satisfied: cycler>=0.10 in c:\\users\\john\\appdata\\local\\packages\\pythonsoftwarefoundation.python.3.11_qbz5n2kfra8p0\\localcache\\local-packages\\python311\\site-packages (from matplotlib>=3.5.0->mne>=1.0.3->pyhealth) (0.12.1)\n",
      "Requirement already satisfied: fonttools>=4.22.0 in c:\\users\\john\\appdata\\local\\packages\\pythonsoftwarefoundation.python.3.11_qbz5n2kfra8p0\\localcache\\local-packages\\python311\\site-packages (from matplotlib>=3.5.0->mne>=1.0.3->pyhealth) (4.51.0)\n",
      "Requirement already satisfied: kiwisolver>=1.3.1 in c:\\users\\john\\appdata\\local\\packages\\pythonsoftwarefoundation.python.3.11_qbz5n2kfra8p0\\localcache\\local-packages\\python311\\site-packages (from matplotlib>=3.5.0->mne>=1.0.3->pyhealth) (1.4.5)\n",
      "Requirement already satisfied: pyparsing>=2.3.1 in c:\\users\\john\\appdata\\local\\packages\\pythonsoftwarefoundation.python.3.11_qbz5n2kfra8p0\\localcache\\local-packages\\python311\\site-packages (from matplotlib>=3.5.0->mne>=1.0.3->pyhealth) (3.1.2)\n",
      "Requirement already satisfied: platformdirs>=2.5.0 in c:\\users\\john\\appdata\\local\\packages\\pythonsoftwarefoundation.python.3.11_qbz5n2kfra8p0\\localcache\\local-packages\\python311\\site-packages (from pooch>=1.5->mne>=1.0.3->pyhealth) (4.2.0)\n",
      "Requirement already satisfied: requests>=2.19.0 in c:\\users\\john\\appdata\\local\\packages\\pythonsoftwarefoundation.python.3.11_qbz5n2kfra8p0\\localcache\\local-packages\\python311\\site-packages (from pooch>=1.5->mne>=1.0.3->pyhealth) (2.31.0)\n",
      "Requirement already satisfied: six>=1.5 in c:\\users\\john\\appdata\\local\\packages\\pythonsoftwarefoundation.python.3.11_qbz5n2kfra8p0\\localcache\\local-packages\\python311\\site-packages (from python-dateutil>=2.8.1->pandas<2,>=1.3.2->pyhealth) (1.16.0)\n",
      "Requirement already satisfied: MarkupSafe>=2.0 in c:\\users\\john\\appdata\\local\\packages\\pythonsoftwarefoundation.python.3.11_qbz5n2kfra8p0\\localcache\\local-packages\\python311\\site-packages (from jinja2->mne>=1.0.3->pyhealth) (2.1.3)\n",
      "Requirement already satisfied: mpmath>=0.19 in c:\\users\\john\\appdata\\local\\packages\\pythonsoftwarefoundation.python.3.11_qbz5n2kfra8p0\\localcache\\local-packages\\python311\\site-packages (from sympy->torch>=1.8.0->pyhealth) (1.3.0)\n",
      "Requirement already satisfied: charset-normalizer<4,>=2 in c:\\users\\john\\appdata\\local\\packages\\pythonsoftwarefoundation.python.3.11_qbz5n2kfra8p0\\localcache\\local-packages\\python311\\site-packages (from requests>=2.19.0->pooch>=1.5->mne>=1.0.3->pyhealth) (3.3.2)\n",
      "Requirement already satisfied: idna<4,>=2.5 in c:\\users\\john\\appdata\\local\\packages\\pythonsoftwarefoundation.python.3.11_qbz5n2kfra8p0\\localcache\\local-packages\\python311\\site-packages (from requests>=2.19.0->pooch>=1.5->mne>=1.0.3->pyhealth) (3.6)\n",
      "Requirement already satisfied: certifi>=2017.4.17 in c:\\users\\john\\appdata\\local\\packages\\pythonsoftwarefoundation.python.3.11_qbz5n2kfra8p0\\localcache\\local-packages\\python311\\site-packages (from requests>=2.19.0->pooch>=1.5->mne>=1.0.3->pyhealth) (2023.11.17)\n",
      "Requirement already satisfied: numpy in c:\\users\\john\\appdata\\local\\packages\\pythonsoftwarefoundation.python.3.11_qbz5n2kfra8p0\\localcache\\local-packages\\python311\\site-packages (1.25.2)\n",
      "Requirement already satisfied: torch in c:\\users\\john\\appdata\\local\\packages\\pythonsoftwarefoundation.python.3.11_qbz5n2kfra8p0\\localcache\\local-packages\\python311\\site-packages (2.2.2)\n",
      "Requirement already satisfied: torchvision in c:\\users\\john\\appdata\\local\\packages\\pythonsoftwarefoundation.python.3.11_qbz5n2kfra8p0\\localcache\\local-packages\\python311\\site-packages (0.17.2)\n",
      "Requirement already satisfied: torchaudio in c:\\users\\john\\appdata\\local\\packages\\pythonsoftwarefoundation.python.3.11_qbz5n2kfra8p0\\localcache\\local-packages\\python311\\site-packages (2.2.2)\n",
      "Requirement already satisfied: filelock in c:\\users\\john\\appdata\\local\\packages\\pythonsoftwarefoundation.python.3.11_qbz5n2kfra8p0\\localcache\\local-packages\\python311\\site-packages (from torch) (3.13.1)\n",
      "Requirement already satisfied: typing-extensions>=4.8.0 in c:\\users\\john\\appdata\\local\\packages\\pythonsoftwarefoundation.python.3.11_qbz5n2kfra8p0\\localcache\\local-packages\\python311\\site-packages (from torch) (4.8.0)\n",
      "Requirement already satisfied: sympy in c:\\users\\john\\appdata\\local\\packages\\pythonsoftwarefoundation.python.3.11_qbz5n2kfra8p0\\localcache\\local-packages\\python311\\site-packages (from torch) (1.12)\n",
      "Requirement already satisfied: networkx in c:\\users\\john\\appdata\\local\\packages\\pythonsoftwarefoundation.python.3.11_qbz5n2kfra8p0\\localcache\\local-packages\\python311\\site-packages (from torch) (3.2.1)\n",
      "Requirement already satisfied: jinja2 in c:\\users\\john\\appdata\\local\\packages\\pythonsoftwarefoundation.python.3.11_qbz5n2kfra8p0\\localcache\\local-packages\\python311\\site-packages (from torch) (3.1.2)\n",
      "Requirement already satisfied: fsspec in c:\\users\\john\\appdata\\local\\packages\\pythonsoftwarefoundation.python.3.11_qbz5n2kfra8p0\\localcache\\local-packages\\python311\\site-packages (from torch) (2023.10.0)\n",
      "Requirement already satisfied: numpy in c:\\users\\john\\appdata\\local\\packages\\pythonsoftwarefoundation.python.3.11_qbz5n2kfra8p0\\localcache\\local-packages\\python311\\site-packages (from torchvision) (1.25.2)\n",
      "Requirement already satisfied: pillow!=8.3.*,>=5.3.0 in c:\\users\\john\\appdata\\local\\packages\\pythonsoftwarefoundation.python.3.11_qbz5n2kfra8p0\\localcache\\local-packages\\python311\\site-packages (from torchvision) (10.0.0)\n",
      "Requirement already satisfied: MarkupSafe>=2.0 in c:\\users\\john\\appdata\\local\\packages\\pythonsoftwarefoundation.python.3.11_qbz5n2kfra8p0\\localcache\\local-packages\\python311\\site-packages (from jinja2->torch) (2.1.3)\n",
      "Requirement already satisfied: mpmath>=0.19 in c:\\users\\john\\appdata\\local\\packages\\pythonsoftwarefoundation.python.3.11_qbz5n2kfra8p0\\localcache\\local-packages\\python311\\site-packages (from sympy->torch) (1.3.0)\n",
      "Requirement already satisfied: pandas in c:\\users\\john\\appdata\\local\\packages\\pythonsoftwarefoundation.python.3.11_qbz5n2kfra8p0\\localcache\\local-packages\\python311\\site-packages (1.5.3)\n",
      "Requirement already satisfied: python-dateutil>=2.8.1 in c:\\users\\john\\appdata\\local\\packages\\pythonsoftwarefoundation.python.3.11_qbz5n2kfra8p0\\localcache\\local-packages\\python311\\site-packages (from pandas) (2.8.2)\n",
      "Requirement already satisfied: pytz>=2020.1 in c:\\users\\john\\appdata\\local\\packages\\pythonsoftwarefoundation.python.3.11_qbz5n2kfra8p0\\localcache\\local-packages\\python311\\site-packages (from pandas) (2023.3.post1)\n",
      "Requirement already satisfied: numpy>=1.21.0 in c:\\users\\john\\appdata\\local\\packages\\pythonsoftwarefoundation.python.3.11_qbz5n2kfra8p0\\localcache\\local-packages\\python311\\site-packages (from pandas) (1.25.2)\n",
      "Requirement already satisfied: six>=1.5 in c:\\users\\john\\appdata\\local\\packages\\pythonsoftwarefoundation.python.3.11_qbz5n2kfra8p0\\localcache\\local-packages\\python311\\site-packages (from python-dateutil>=2.8.1->pandas) (1.16.0)\n"
     ]
    }
   ],
   "source": [
    "# Install dependencies if not already installed\n",
    "! pip install pyhealth\n",
    "! pip install numpy\n",
    "! pip install torch torchvision torchaudio\n",
    "! pip install pandas"
   ]
  },
  {
   "cell_type": "code",
   "execution_count": 2,
   "metadata": {
    "id": "iO80feJKNwVA"
   },
   "outputs": [
    {
     "data": {
      "text/plain": [
       "<torch._C.Generator at 0x2634d763d70>"
      ]
     },
     "execution_count": 2,
     "metadata": {},
     "output_type": "execute_result"
    }
   ],
   "source": [
    "# Set seeds for reproducibility\n",
    "import numpy as np\n",
    "import torch\n",
    "\n",
    "seed = 2024\n",
    "\n",
    "np.random.seed(seed)\n",
    "torch.manual_seed(seed)"
   ]
  },
  {
   "cell_type": "markdown",
   "metadata": {
    "id": "2NbPHUTMbkD3"
   },
   "source": [
    "##  Data"
   ]
  },
  {
   "cell_type": "markdown",
   "metadata": {
    "id": "n2jgcV6fOz6w"
   },
   "source": [
    "### MIMIC-III\n",
    "\n",
    "For their model, the authors used a proprietary dataset as well as the MIMIC-III (Medical Information Mart for Intensive Care III) dataset [4,5,6], which is a freely available database for researchers consisting of deidentified health data from over 40,000 patients who stayed in critical care units of the Beth Israel Deaconess Medical Center between 2001 and 2012. It includes detailed demographics and visit-level healthcare data.\n",
    "\n",
    "Although the data is freely available to researchers, it is not publically available due to privacy concerns. Fortunately, in recent years pyhealth [7,8] contributors have created a synthetic dataset based on the MIMIC-III data that does not create the same privacy concerns. As this is a public-facing project, the synthetic MIMIC-III data from pyhealth will be used. However, the same analyses may be conducted with the original MIMIC-III dataset by changing the **root** argument to point at the original dataset."
   ]
  },
  {
   "cell_type": "code",
   "execution_count": 3,
   "metadata": {
    "id": "XzVUQS0CHry0"
   },
   "outputs": [
    {
     "name": "stderr",
     "output_type": "stream",
     "text": [
      "C:\\Users\\John\\AppData\\Local\\Packages\\PythonSoftwareFoundation.Python.3.11_qbz5n2kfra8p0\\LocalCache\\local-packages\\Python311\\site-packages\\transformers\\utils\\generic.py:441: UserWarning: torch.utils._pytree._register_pytree_node is deprecated. Please use torch.utils._pytree.register_pytree_node instead.\n",
      "  _torch_pytree._register_pytree_node(\n"
     ]
    }
   ],
   "source": [
    "from pyhealth.datasets import MIMIC3Dataset\n",
    "from pyhealth.datasets import split_by_patient, get_dataloader"
   ]
  },
  {
   "cell_type": "code",
   "execution_count": 4,
   "metadata": {
    "id": "9aYF3qCv_HvF"
   },
   "outputs": [
    {
     "name": "stdout",
     "output_type": "stream",
     "text": [
      "\n",
      "Statistics of base dataset (dev=False):\n",
      "\t- Dataset: MIMIC3Dataset\n",
      "\t- Number of patients: 49993\n",
      "\t- Number of visits: 52769\n",
      "\t- Number of visits per patient: 1.0555\n",
      "\t- Number of events per visit in DIAGNOSES_ICD: 9.1038\n",
      "\t- Number of events per visit in PROCEDURES_ICD: 3.2186\n",
      "\n"
     ]
    },
    {
     "data": {
      "text/plain": [
       "'\\nStatistics of base dataset (dev=False):\\n\\t- Dataset: MIMIC3Dataset\\n\\t- Number of patients: 49993\\n\\t- Number of visits: 52769\\n\\t- Number of visits per patient: 1.0555\\n\\t- Number of events per visit in DIAGNOSES_ICD: 9.1038\\n\\t- Number of events per visit in PROCEDURES_ICD: 3.2186\\n'"
      ]
     },
     "execution_count": 4,
     "metadata": {},
     "output_type": "execute_result"
    }
   ],
   "source": [
    "base_dataset = MIMIC3Dataset(\n",
    "    root=\"https://storage.googleapis.com/pyhealth/Synthetic_MIMIC-III/\",\n",
    "    tables=[\"DIAGNOSES_ICD\", \"PROCEDURES_ICD\"],\n",
    "    code_mapping={\"ICD9CM\": \"CCSCM\", \"ICD9PROC\": \"CCSPROC\"},\n",
    "    dev=False,\n",
    "    refresh_cache=False,\n",
    ")\n",
    "base_dataset.stat()"
   ]
  },
  {
   "cell_type": "markdown",
   "metadata": {
    "id": "32vMvDdURIMr"
   },
   "source": [
    "### PrimeKG\n",
    "\n",
    "For the knowledge graph, the authors originally used the KnowLife knowledge graph [9]. Unfortunately, at the time of this replication the KnowLife knowledge graph was no longer available.\n",
    "\n",
    "More recently, researchers have developed an updated medical knowledge graph called PrimeKG [10,11]. This appears to be a worthwhile alternative. One challenge was that the nodes are coded in Monarch Disease Ontology (MONDO) coding, for which there is not a simple mapping available to convert to ICD-9 or CCSCM codes, which is what the MIMIC-III dataset uses.\n",
    "\n",
    "To overcome this, a subset of the diseases was created by including only heart-related conditions and conditions with a connection to heart-related conditions. Specifically, only disease descriptions including the key words (heart, atrial, ventriclular, cardia, myocardial, and coronary) were kept. This resulted in 576 diseases to manually code with ICD-9 codes.\n",
    "\n",
    "Due to the fact that ICD-9 codes are not as granular as MONDO and other newer coding schemas (e.g. ICD-10), there were redundancies that meant that the final list of ICD-9 codes was reduced to 91 unique codes. This knowledge graph was then converted to CCSCM codes, which are typically used in pyhealth. This further reduced the total number of codes to 35 unique codes.\n",
    "\n",
    "Unfortunately, all of this conversion resulted in a loss of granularity, which may have worsened the performance of the final model. However, this still allowed for a comparison of models with and without some information via a knowledge graph."
   ]
  },
  {
   "cell_type": "code",
   "execution_count": 5,
   "metadata": {
    "id": "dlOXfrsuZ1Mg"
   },
   "outputs": [
    {
     "data": {
      "text/html": [
       "<div>\n",
       "<style scoped>\n",
       "    .dataframe tbody tr th:only-of-type {\n",
       "        vertical-align: middle;\n",
       "    }\n",
       "\n",
       "    .dataframe tbody tr th {\n",
       "        vertical-align: top;\n",
       "    }\n",
       "\n",
       "    .dataframe thead th {\n",
       "        text-align: right;\n",
       "    }\n",
       "</style>\n",
       "<table border=\"1\" class=\"dataframe\">\n",
       "  <thead>\n",
       "    <tr style=\"text-align: right;\">\n",
       "      <th></th>\n",
       "      <th>x_icd_id</th>\n",
       "      <th>y_icd_id</th>\n",
       "    </tr>\n",
       "  </thead>\n",
       "  <tbody>\n",
       "    <tr>\n",
       "      <th>0</th>\n",
       "      <td>011.9</td>\n",
       "      <td>{'429.2', '414.9', '398.91', '423.9'}</td>\n",
       "    </tr>\n",
       "    <tr>\n",
       "      <th>1</th>\n",
       "      <td>135.0</td>\n",
       "      <td>{'429.2', '759.89', '425.9'}</td>\n",
       "    </tr>\n",
       "    <tr>\n",
       "      <th>2</th>\n",
       "      <td>150.1</td>\n",
       "      <td>{'429.2'}</td>\n",
       "    </tr>\n",
       "    <tr>\n",
       "      <th>3</th>\n",
       "      <td>186.9</td>\n",
       "      <td>{'426.0'}</td>\n",
       "    </tr>\n",
       "    <tr>\n",
       "      <th>4</th>\n",
       "      <td>192.2</td>\n",
       "      <td>{'330.8', '225.2', '746.87', '416.9', '426.0'}</td>\n",
       "    </tr>\n",
       "  </tbody>\n",
       "</table>\n",
       "</div>"
      ],
      "text/plain": [
       "  x_icd_id                                        y_icd_id\n",
       "0    011.9           {'429.2', '414.9', '398.91', '423.9'}\n",
       "1    135.0                    {'429.2', '759.89', '425.9'}\n",
       "2    150.1                                       {'429.2'}\n",
       "3    186.9                                       {'426.0'}\n",
       "4    192.2  {'330.8', '225.2', '746.87', '416.9', '426.0'}"
      ]
     },
     "execution_count": 5,
     "metadata": {},
     "output_type": "execute_result"
    }
   ],
   "source": [
    "# Import knowledge graph\n",
    "import pandas as pd\n",
    "\n",
    "# Load the CSV data into a pandas DataFrame\n",
    "url = \"https://raw.githubusercontent.com/johnbiggan/DeepLearningforHealthcare-Project/main/Data/icd_graph_structure.csv\"\n",
    "kg = pd.read_csv(url)\n",
    "\n",
    "# Display the first few rows of the DataFrame to understand its structure\n",
    "kg.head()"
   ]
  },
  {
   "cell_type": "code",
   "execution_count": 6,
   "metadata": {
    "id": "l6EVrte-cWL2"
   },
   "outputs": [
    {
     "name": "stdout",
     "output_type": "stream",
     "text": [
      "The CCSCM coded graph contains 35 primary codes.\n"
     ]
    }
   ],
   "source": [
    "# Convert ICD-9 to CCSCM for knowledge graph\n",
    "from pyhealth.medcode import CrossMap\n",
    "\n",
    "mapping = CrossMap.load(source_vocabulary=\"ICD9CM\", target_vocabulary=\"CCSCM\")\n",
    "\n",
    "kg_ccscm = {}\n",
    "\n",
    "# Iterate through the DataFrame and convert from ICD-9 to CCSCM\n",
    "for index, row in kg.iterrows():\n",
    "    ccscm_id = mapping.map(row['x_icd_id'])\n",
    "    ccscm_set = set()\n",
    "\n",
    "    if ccscm_id:\n",
    "        ccscm_id = ccscm_id[0]\n",
    "\n",
    "        for y_icd_id in eval(row['y_icd_id']):\n",
    "            y_ccscm_id = mapping.map(y_icd_id)\n",
    "            if y_icd_id != \"\" and y_ccscm_id != ccscm_id and y_ccscm_id:\n",
    "                ccscm_set.add(y_ccscm_id[0])\n",
    "\n",
    "        kg_ccscm[ccscm_id] = ccscm_set\n",
    "\n",
    "print(\"The CCSCM coded graph contains\", len(kg_ccscm), \"primary codes.\")"
   ]
  },
  {
   "cell_type": "code",
   "execution_count": 7,
   "metadata": {
    "id": "XsLJXUBQ_HvF"
   },
   "outputs": [
    {
     "name": "stdout",
     "output_type": "stream",
     "text": [
      "The CCSCM code that maps to ICD-9 code 428.0 (conjestive heart failure) is ['108']\n",
      "The CCSCM code that maps to ICD-9 code 428.9 (conjestive heart failure) is ['108']\n",
      "Confirmation that CCSCM code '108' corresponds to Congestive heart failure; nonhypertensive\n"
     ]
    }
   ],
   "source": [
    "# Confirm the CCSCM code for conjestive heart failure to be used in the labeling task\n",
    "from pyhealth.medcode import InnerMap\n",
    "\n",
    "mapping = CrossMap.load(source_vocabulary=\"ICD9CM\", target_vocabulary=\"CCSCM\")\n",
    "print(\"The CCSCM code that maps to ICD-9 code 428.0 (conjestive heart failure) is\", mapping.map(\"428.0\"))\n",
    "print(\"The CCSCM code that maps to ICD-9 code 428.9 (conjestive heart failure) is\", mapping.map(\"428.9\"))\n",
    "\n",
    "ccscm = InnerMap.load(\"CCSCM\")\n",
    "print(\"Confirmation that CCSCM code '108' corresponds to\", ccscm.lookup(\"108\"))"
   ]
  },
  {
   "cell_type": "code",
   "execution_count": 8,
   "metadata": {
    "id": "TWOyusf9_HvF"
   },
   "outputs": [],
   "source": [
    "# Create custom visit time difference calculation and heart failure prediction task\n",
    "from pyhealth.data import Patient, Visit\n",
    "import numpy as np\n",
    "\n",
    "\n",
    "def visit_time_diff_mimic3_fn(patient: Patient):\n",
    "    \"\"\"Processes a single patient for the visit time difference task.\n",
    "\n",
    "    Visit time difference calculates the delay between the current visit and\n",
    "    the previous visit.\n",
    "\n",
    "    Args:\n",
    "        patient: a Patient object\n",
    "\n",
    "    Returns:\n",
    "        samples: a list of samples, each sample is a dict with patient_id,\n",
    "            visit_id, and other task-specific attributes as key\n",
    "\n",
    "    Examples:\n",
    "        >>> from pyhealth.datasets import MIMIC3Dataset\n",
    "        >>> mimic3_base = MIMIC3Dataset(\n",
    "        ...    root=\"/srv/local/data/physionet.org/files/mimiciii/1.4\",\n",
    "        ...    tables=[\"DIAGNOSES_ICD\", \"PROCEDURES_ICD\", \"PRESCRIPTIONS\"],\n",
    "        ...    code_mapping={\"ICD9CM\": \"CCSCM\"},\n",
    "        ... )\n",
    "        >>> from pyhealth.tasks import hf_prediction_mimic3_fn\n",
    "        >>> mimic3_sample = mimic3_base.set_task(visit_time_diff_mimic3_fn)\n",
    "        >>> mimic3_sample.samples[0]\n",
    "        [{'visit_id': '130744', 'patient_id': '103', 'conditions': [['129', '157', '99', '101', '110', '55', '62', '105', '4', '63', '138']], 'related_conditions': [['96', '238', '108', '95', '47', '213', '104', '105']], 'procedures': [['1']], 'visit_diff': [[0.0, 0.0, 0.0, 0.0]] 'label': 0}]\n",
    "    \"\"\"\n",
    "    samples = []\n",
    "    criterion_time = None\n",
    "\n",
    "    for i in range(len(patient) - 1):\n",
    "        visit: Visit = patient[i]\n",
    "        visit_time = visit.encounter_time\n",
    "\n",
    "        next_visit: Visit = patient[i + 1]\n",
    "        hf_label = 0\n",
    "\n",
    "        if '108' not in next_visit.get_code_list(table=\"DIAGNOSES_ICD\"):\n",
    "            hf_label = 0\n",
    "        else:\n",
    "            hf_label = 1\n",
    "\n",
    "        visit_diff = []\n",
    "\n",
    "        if i > 0:\n",
    "            prev_visit: Visit = patient[i - 1]\n",
    "            prev_visit_time = prev_visit.encounter_time\n",
    "\n",
    "            # Find criterion time (i.e. first encounter with HF diagnosis)\n",
    "            for j in range(len(patient) - 1):\n",
    "                c_visit: Visit = patient[j]\n",
    "                if criterion_time == None and '108' in c_visit.get_code_list(table=\"DIAGNOSES_ICD\"):\n",
    "                    criterion_time = c_visit.encounter_time\n",
    "\n",
    "            if criterion_time != None:\n",
    "                v_c_s = np.sin(((visit_time - criterion_time).days)/10000).item()\n",
    "                v_c_c = np.cos(((visit_time - criterion_time).days)/10000).item()\n",
    "            else:\n",
    "                v_c = 0.0\n",
    "                v_c_s = 0.0\n",
    "                v_c_c = 0.0\n",
    "\n",
    "            v_p = visit_time - prev_visit_time\n",
    "\n",
    "            visit_diff = [\n",
    "                v_c_s,\n",
    "                v_c_c,\n",
    "                np.sin(((v_p).days)/10000).item(),\n",
    "                np.cos(((v_p).days)/10000).item()\n",
    "            ]\n",
    "\n",
    "        else:\n",
    "            visit_diff = [0.0, 0.0, 0.0, 0.0]\n",
    "\n",
    "        related_conditions = set()\n",
    "\n",
    "        for ccscm_id, ccscm_values in kg_ccscm.items():\n",
    "            if ccscm_id in visit.get_code_list(table=\"DIAGNOSES_ICD\"):\n",
    "                for related_id in ccscm_values:\n",
    "                    related_conditions.add(related_id)\n",
    "\n",
    "        if not related_conditions:\n",
    "            related_conditions.add('9999') # add dummy code if no related conditions\n",
    "\n",
    "        conditions = visit.get_code_list(table=\"DIAGNOSES_ICD\")\n",
    "        procedures = visit.get_code_list(table=\"PROCEDURES_ICD\")\n",
    "        # exclude: visits without condition and procedure code\n",
    "        if len(conditions) * len(procedures) == 0 or len(patient) < 2:\n",
    "            continue\n",
    "        samples.append(\n",
    "            {\n",
    "                \"visit_id\": visit.visit_id,\n",
    "                \"patient_id\": patient.patient_id,\n",
    "                \"conditions\": [conditions],\n",
    "                \"related_conditions\": [list(related_conditions)],\n",
    "                \"procedures\": [procedures],\n",
    "                \"visit_diff\": [visit_diff],\n",
    "                \"label\": hf_label,\n",
    "            }\n",
    "        )\n",
    "    # no cohort selection\n",
    "    return samples"
   ]
  },
  {
   "cell_type": "code",
   "execution_count": 9,
   "metadata": {
    "id": "hFsqr4s6_HvG"
   },
   "outputs": [
    {
     "name": "stderr",
     "output_type": "stream",
     "text": [
      "Generating samples for visit_time_diff_mimic3_fn: 100%|██████████████████████| 49993/49993 [00:00<00:00, 166496.35it/s]"
     ]
    },
    {
     "name": "stdout",
     "output_type": "stream",
     "text": [
      "Statistics of sample dataset:\n",
      "\t- Dataset: MIMIC3Dataset\n",
      "\t- Task: visit_time_diff_mimic3_fn\n",
      "\t- Number of samples: 2218\n",
      "\t- Number of patients: 2129\n",
      "\t- Number of visits: 2218\n",
      "\t- Number of visits per patient: 1.0418\n",
      "\t- conditions:\n",
      "\t\t- Number of conditions per sample: 9.6145\n",
      "\t\t- Number of unique conditions: 255\n",
      "\t\t- Distribution of conditions (Top-10): [('98', 890), ('101', 844), ('106', 712), ('238', 636), ('108', 587), ('55', 559), ('53', 536), ('49', 506), ('259', 411), ('59', 382)]\n",
      "\t- related_conditions:\n",
      "\t\t- Number of related_conditions per sample: 9.8922\n",
      "\t\t- Number of unique related_conditions: 28\n",
      "\t\t- Distribution of related_conditions (Top-10): [('105', 1917), ('213', 1723), ('108', 1600), ('104', 1587), ('238', 1453), ('217', 1399), ('97', 1257), ('103', 1203), ('100', 1181), ('96', 940)]\n",
      "\t- procedures:\n",
      "\t\t- Number of procedures per sample: 3.6510\n",
      "\t\t- Number of unique procedures: 172\n",
      "\t\t- Distribution of procedures (Top-10): [('54', 548), ('47', 531), ('216', 488), ('222', 484), ('50', 436), ('61', 344), ('44', 327), ('223', 268), ('231', 219), ('193', 209)]\n",
      "\t- visit_diff:\n",
      "\t\t- Number of visit_diff per sample: 1.0000\n",
      "\t\t- Length of visit_diff: 4\n",
      "\t- label:\n",
      "\t\t- Number of label per sample: 1.0000\n",
      "\t\t- Number of unique label: 2\n",
      "\t\t- Distribution of label (Top-10): [(0, 1760), (1, 458)]\n"
     ]
    },
    {
     "name": "stderr",
     "output_type": "stream",
     "text": [
      "\n"
     ]
    }
   ],
   "source": [
    "# Create a sample dataset with a label to indicate an HF diagnosis and visit difference vector\n",
    "sample_dataset = base_dataset.set_task(visit_time_diff_mimic3_fn)\n",
    "sample_dataset.stat()\n",
    "\n",
    "# Split dataset into training, validation, and testing using an 80%, 10%, 10% split\n",
    "train_dataset, val_dataset, test_dataset = split_by_patient(\n",
    "    sample_dataset, [0.8, 0.1, 0.1], seed = seed\n",
    ")\n",
    "\n",
    "train_dataloader = get_dataloader(train_dataset, batch_size=32, shuffle=True)\n",
    "val_dataloader = get_dataloader(val_dataset, batch_size=32, shuffle=False)\n",
    "test_dataloader = get_dataloader(test_dataset, batch_size=32, shuffle=False)"
   ]
  },
  {
   "cell_type": "code",
   "execution_count": 10,
   "metadata": {
    "id": "uGadm3-3bkFX"
   },
   "outputs": [
    {
     "name": "stdout",
     "output_type": "stream",
     "text": [
      "{'visit_id': '110547', 'patient_id': '10205', 'conditions': [['129', '157', '99', '101', '110', '55', '62', '105', '4', '63', '138']], 'related_conditions': [['96', '213', '108', '47', '238', '105', '95', '104']], 'procedures': [['216', '223', '54', '76', '61', '168']], 'visit_diff': [[0.0, 0.0, 0.0013999995426667116, 0.99999902000016]], 'label': 0}\n"
     ]
    }
   ],
   "source": [
    "# View a single patient\n",
    "print(sample_dataset[9]) #9"
   ]
  },
  {
   "cell_type": "markdown",
   "metadata": {
    "id": "TQRii3qtH_oR"
   },
   "source": [
    "##   DG-RNN Model\n",
    "The domain-guided recurrent neural network (DG-RNN) uses multiple long short-term memory units that incorporate both length between visits and domain knowledge from a knowledge graph of related conditions (see Figure 1).\n",
    "  * Model architecture [2]:\n",
    "    * **Embedding Layer:** Converts medical event codes into dense vectors, capturing semantic similarities among codes.\n",
    "    * **LSTM Layer:** Utilizes Long Short-Term Memory units to model sequences of medical events. The LSTM handles variable-length input sequences, crucial for EHR data where each patient's record may differ in length.\n",
    "    * **Knowledge Graph Attention Mechanism:** Dynamically integrates external domain knowledge (from a medical knowledge graph) into the LSTM outputs at each time step. This layer selectively enhances the LSTM output with information relevant to the current patient state.\n",
    "    * **Global Max Pooling Layer:** Aggregates all LSTM outputs across the time dimension, to summarize the entire input sequence effectively.\n",
    "    * **Fully Connected Layer:** A dense layer that transforms the pooled LSTM outputs into final prediction logits.\n",
    "    * **Output Activation Function:** Sigmoid\n",
    "\n",
    "&dagger;Original paper repo is available at https://github.com/AIMedLab/DG-RNN/tree/master."
   ]
  },
  {
   "cell_type": "code",
   "execution_count": 11,
   "metadata": {
    "id": "lIoFM-W3VbJ1"
   },
   "outputs": [],
   "source": [
    "from pyhealth.models import RNN\n",
    "from pyhealth.trainer import Trainer\n",
    "import torch\n",
    "import torch.optim as optim"
   ]
  },
  {
   "cell_type": "code",
   "execution_count": 12,
   "metadata": {
    "id": "HVIUXdx8YutU"
   },
   "outputs": [],
   "source": [
    "# Create simple LSTM without knowledge graph or time\n",
    "base_model = RNN(\n",
    "    dataset=sample_dataset,\n",
    "    feature_keys=[\"conditions\", \"procedures\"],\n",
    "    label_key=\"label\",\n",
    "    mode=\"binary\",\n",
    "    rnn_type=\"LSTM\",\n",
    "    embedding_dim=128,\n",
    "    hidden_dim=128,\n",
    ")"
   ]
  },
  {
   "cell_type": "code",
   "execution_count": 13,
   "metadata": {
    "id": "BHlL44o-Hvbf"
   },
   "outputs": [],
   "source": [
    "# Create simple LSTM without knowledge graph\n",
    "time_model = RNN(\n",
    "    dataset=sample_dataset,\n",
    "    feature_keys=[\"conditions\", \"procedures\", \"visit_diff\"],\n",
    "    label_key=\"label\",\n",
    "    mode=\"binary\",\n",
    "    rnn_type=\"LSTM\",\n",
    "    embedding_dim=128,\n",
    "    hidden_dim=128,\n",
    ")"
   ]
  },
  {
   "cell_type": "code",
   "execution_count": 14,
   "metadata": {
    "id": "u3sO_3Ykau7-"
   },
   "outputs": [],
   "source": [
    "# Create full model\n",
    "full_gn_rnn_model = RNN(\n",
    "    dataset=sample_dataset,\n",
    "    feature_keys=[\"conditions\", \"related_conditions\", \"procedures\", \"visit_diff\"],\n",
    "    label_key=\"label\",\n",
    "    mode=\"binary\",\n",
    "    rnn_type=\"LSTM\",\n",
    "    embedding_dim=128,\n",
    "    hidden_dim=128,\n",
    ")"
   ]
  },
  {
   "cell_type": "markdown",
   "metadata": {
    "id": "l7NY02bQt7Un"
   },
   "source": [
    "##   Training\n",
    "  * Hyperparameters:\n",
    "    * **Loss Function:** Binary Cross Entropy\n",
    "    * **Optimizer:** Adam\n",
    "    * **Learning Rate:** 0.0001\n",
    "  * Computational Requirements:\n",
    "    * **Type of Hardware:** CPU\n",
    "    * **Average Runtime per Epoch:**\n",
    "      * Base model = .73 seconds\n",
    "      * Model with time = 1.02 seconds\n",
    "      * Full model = 1.31 seconds\n",
    "    * **Number of Training Epochs:** 50"
   ]
  },
  {
   "cell_type": "code",
   "execution_count": 15,
   "metadata": {
    "id": "Z3E35FT4TdoT"
   },
   "outputs": [
    {
     "name": "stdout",
     "output_type": "stream",
     "text": [
      "RNN(\n",
      "  (embeddings): ModuleDict(\n",
      "    (conditions): Embedding(257, 128, padding_idx=0)\n",
      "    (procedures): Embedding(174, 128, padding_idx=0)\n",
      "  )\n",
      "  (linear_layers): ModuleDict()\n",
      "  (rnn): ModuleDict(\n",
      "    (conditions): RNNLayer(\n",
      "      (dropout_layer): Dropout(p=0.5, inplace=False)\n",
      "      (rnn): LSTM(128, 128, batch_first=True)\n",
      "    )\n",
      "    (procedures): RNNLayer(\n",
      "      (dropout_layer): Dropout(p=0.5, inplace=False)\n",
      "      (rnn): LSTM(128, 128, batch_first=True)\n",
      "    )\n",
      "  )\n",
      "  (fc): Linear(in_features=256, out_features=1, bias=True)\n",
      ")\n",
      "Metrics: None\n",
      "Device: cpu\n",
      "\n",
      "Training:\n",
      "Batch size: 32\n",
      "Optimizer: <class 'torch.optim.adam.Adam'>\n",
      "Optimizer params: {'lr': 0.0001}\n",
      "Weight decay: 0.0\n",
      "Max grad norm: None\n",
      "Val dataloader: <torch.utils.data.dataloader.DataLoader object at 0x000002637EC20690>\n",
      "Monitor: roc_auc\n",
      "Monitor criterion: max\n",
      "Epochs: 50\n",
      "\n"
     ]
    },
    {
     "data": {
      "application/vnd.jupyter.widget-view+json": {
       "model_id": "2c40ca5167f2495eb08ee44f75274e68",
       "version_major": 2,
       "version_minor": 0
      },
      "text/plain": [
       "Epoch 0 / 50:   0%|          | 0/56 [00:00<?, ?it/s]"
      ]
     },
     "metadata": {},
     "output_type": "display_data"
    },
    {
     "name": "stdout",
     "output_type": "stream",
     "text": [
      "--- Train epoch-0, step-56 ---\n",
      "loss: 0.6648\n"
     ]
    },
    {
     "name": "stderr",
     "output_type": "stream",
     "text": [
      "Evaluation: 100%|███████████████████████████████████████████████████████████████████████| 7/7 [00:00<00:00, 264.57it/s]"
     ]
    },
    {
     "name": "stdout",
     "output_type": "stream",
     "text": [
      "--- Eval epoch-0, step-56 ---\n",
      "pr_auc: 0.1784\n",
      "roc_auc: 0.4372\n",
      "f1: 0.0784\n",
      "loss: 0.6200\n",
      "New best roc_auc score (0.4372) at epoch-0, step-56\n",
      "\n"
     ]
    },
    {
     "name": "stderr",
     "output_type": "stream",
     "text": [
      "\n"
     ]
    },
    {
     "data": {
      "application/vnd.jupyter.widget-view+json": {
       "model_id": "d1e7424f526548d9975249da974200e8",
       "version_major": 2,
       "version_minor": 0
      },
      "text/plain": [
       "Epoch 1 / 50:   0%|          | 0/56 [00:00<?, ?it/s]"
      ]
     },
     "metadata": {},
     "output_type": "display_data"
    },
    {
     "name": "stdout",
     "output_type": "stream",
     "text": [
      "--- Train epoch-1, step-112 ---\n",
      "loss: 0.6222\n"
     ]
    },
    {
     "name": "stderr",
     "output_type": "stream",
     "text": [
      "Evaluation: 100%|███████████████████████████████████████████████████████████████████████| 7/7 [00:00<00:00, 261.83it/s]"
     ]
    },
    {
     "name": "stdout",
     "output_type": "stream",
     "text": [
      "--- Eval epoch-1, step-112 ---\n",
      "pr_auc: 0.1769\n",
      "roc_auc: 0.4405\n",
      "f1: 0.0000\n",
      "loss: 0.5745\n",
      "New best roc_auc score (0.4405) at epoch-1, step-112\n",
      "\n"
     ]
    },
    {
     "name": "stderr",
     "output_type": "stream",
     "text": [
      "\n"
     ]
    },
    {
     "data": {
      "application/vnd.jupyter.widget-view+json": {
       "model_id": "4cef77b3943a4065bcbe1e1feb943820",
       "version_major": 2,
       "version_minor": 0
      },
      "text/plain": [
       "Epoch 2 / 50:   0%|          | 0/56 [00:00<?, ?it/s]"
      ]
     },
     "metadata": {},
     "output_type": "display_data"
    },
    {
     "name": "stdout",
     "output_type": "stream",
     "text": [
      "--- Train epoch-2, step-168 ---\n",
      "loss: 0.5915\n"
     ]
    },
    {
     "name": "stderr",
     "output_type": "stream",
     "text": [
      "Evaluation: 100%|███████████████████████████████████████████████████████████████████████| 7/7 [00:00<00:00, 264.65it/s]"
     ]
    },
    {
     "name": "stdout",
     "output_type": "stream",
     "text": [
      "--- Eval epoch-2, step-168 ---\n",
      "pr_auc: 0.1723\n",
      "roc_auc: 0.4394\n",
      "f1: 0.0000\n",
      "loss: 0.5459\n",
      "\n"
     ]
    },
    {
     "name": "stderr",
     "output_type": "stream",
     "text": [
      "\n"
     ]
    },
    {
     "data": {
      "application/vnd.jupyter.widget-view+json": {
       "model_id": "8b7ffa4224a24a199b7a5e375a468c8f",
       "version_major": 2,
       "version_minor": 0
      },
      "text/plain": [
       "Epoch 3 / 50:   0%|          | 0/56 [00:00<?, ?it/s]"
      ]
     },
     "metadata": {},
     "output_type": "display_data"
    },
    {
     "name": "stdout",
     "output_type": "stream",
     "text": [
      "--- Train epoch-3, step-224 ---\n",
      "loss: 0.5673\n"
     ]
    },
    {
     "name": "stderr",
     "output_type": "stream",
     "text": [
      "Evaluation: 100%|███████████████████████████████████████████████████████████████████████| 7/7 [00:00<00:00, 274.74it/s]"
     ]
    },
    {
     "name": "stdout",
     "output_type": "stream",
     "text": [
      "--- Eval epoch-3, step-224 ---\n",
      "pr_auc: 0.1736\n",
      "roc_auc: 0.4437\n",
      "f1: 0.0000\n",
      "loss: 0.5310\n",
      "New best roc_auc score (0.4437) at epoch-3, step-224\n",
      "\n"
     ]
    },
    {
     "name": "stderr",
     "output_type": "stream",
     "text": [
      "\n"
     ]
    },
    {
     "data": {
      "application/vnd.jupyter.widget-view+json": {
       "model_id": "4bac033c2df24a4d972de25ce828520f",
       "version_major": 2,
       "version_minor": 0
      },
      "text/plain": [
       "Epoch 4 / 50:   0%|          | 0/56 [00:00<?, ?it/s]"
      ]
     },
     "metadata": {},
     "output_type": "display_data"
    },
    {
     "name": "stdout",
     "output_type": "stream",
     "text": [
      "--- Train epoch-4, step-280 ---\n",
      "loss: 0.5537\n"
     ]
    },
    {
     "name": "stderr",
     "output_type": "stream",
     "text": [
      "Evaluation: 100%|███████████████████████████████████████████████████████████████████████| 7/7 [00:00<00:00, 257.14it/s]"
     ]
    },
    {
     "name": "stdout",
     "output_type": "stream",
     "text": [
      "--- Eval epoch-4, step-280 ---\n",
      "pr_auc: 0.1763\n",
      "roc_auc: 0.4503\n",
      "f1: 0.0000\n",
      "loss: 0.5246\n",
      "New best roc_auc score (0.4503) at epoch-4, step-280\n",
      "\n"
     ]
    },
    {
     "name": "stderr",
     "output_type": "stream",
     "text": [
      "\n"
     ]
    },
    {
     "data": {
      "application/vnd.jupyter.widget-view+json": {
       "model_id": "c3bce169573847d9920d296c4a111017",
       "version_major": 2,
       "version_minor": 0
      },
      "text/plain": [
       "Epoch 5 / 50:   0%|          | 0/56 [00:00<?, ?it/s]"
      ]
     },
     "metadata": {},
     "output_type": "display_data"
    },
    {
     "name": "stdout",
     "output_type": "stream",
     "text": [
      "--- Train epoch-5, step-336 ---\n",
      "loss: 0.5470\n"
     ]
    },
    {
     "name": "stderr",
     "output_type": "stream",
     "text": [
      "Evaluation: 100%|███████████████████████████████████████████████████████████████████████| 7/7 [00:00<00:00, 271.49it/s]"
     ]
    },
    {
     "name": "stdout",
     "output_type": "stream",
     "text": [
      "--- Eval epoch-5, step-336 ---\n",
      "pr_auc: 0.1781\n",
      "roc_auc: 0.4566\n",
      "f1: 0.0000\n",
      "loss: 0.5219\n",
      "New best roc_auc score (0.4566) at epoch-5, step-336\n",
      "\n"
     ]
    },
    {
     "name": "stderr",
     "output_type": "stream",
     "text": [
      "\n"
     ]
    },
    {
     "data": {
      "application/vnd.jupyter.widget-view+json": {
       "model_id": "cb29d2e6563a4843a7fee9047f69a895",
       "version_major": 2,
       "version_minor": 0
      },
      "text/plain": [
       "Epoch 6 / 50:   0%|          | 0/56 [00:00<?, ?it/s]"
      ]
     },
     "metadata": {},
     "output_type": "display_data"
    },
    {
     "name": "stdout",
     "output_type": "stream",
     "text": [
      "--- Train epoch-6, step-392 ---\n",
      "loss: 0.5381\n"
     ]
    },
    {
     "name": "stderr",
     "output_type": "stream",
     "text": [
      "Evaluation: 100%|███████████████████████████████████████████████████████████████████████| 7/7 [00:00<00:00, 294.88it/s]"
     ]
    },
    {
     "name": "stdout",
     "output_type": "stream",
     "text": [
      "--- Eval epoch-6, step-392 ---\n",
      "pr_auc: 0.1823\n",
      "roc_auc: 0.4640\n",
      "f1: 0.0000\n",
      "loss: 0.5200\n",
      "New best roc_auc score (0.4640) at epoch-6, step-392\n",
      "\n"
     ]
    },
    {
     "name": "stderr",
     "output_type": "stream",
     "text": [
      "\n"
     ]
    },
    {
     "data": {
      "application/vnd.jupyter.widget-view+json": {
       "model_id": "58036236b80c468ebea189496ce07cf3",
       "version_major": 2,
       "version_minor": 0
      },
      "text/plain": [
       "Epoch 7 / 50:   0%|          | 0/56 [00:00<?, ?it/s]"
      ]
     },
     "metadata": {},
     "output_type": "display_data"
    },
    {
     "name": "stdout",
     "output_type": "stream",
     "text": [
      "--- Train epoch-7, step-448 ---\n",
      "loss: 0.5295\n"
     ]
    },
    {
     "name": "stderr",
     "output_type": "stream",
     "text": [
      "Evaluation: 100%|███████████████████████████████████████████████████████████████████████| 7/7 [00:00<00:00, 286.16it/s]"
     ]
    },
    {
     "name": "stdout",
     "output_type": "stream",
     "text": [
      "--- Eval epoch-7, step-448 ---\n",
      "pr_auc: 0.1851\n",
      "roc_auc: 0.4713\n",
      "f1: 0.0000\n",
      "loss: 0.5176\n",
      "New best roc_auc score (0.4713) at epoch-7, step-448\n",
      "\n"
     ]
    },
    {
     "name": "stderr",
     "output_type": "stream",
     "text": [
      "\n"
     ]
    },
    {
     "data": {
      "application/vnd.jupyter.widget-view+json": {
       "model_id": "9024a344c6ef458d80a1e4d9d06456c2",
       "version_major": 2,
       "version_minor": 0
      },
      "text/plain": [
       "Epoch 8 / 50:   0%|          | 0/56 [00:00<?, ?it/s]"
      ]
     },
     "metadata": {},
     "output_type": "display_data"
    },
    {
     "name": "stdout",
     "output_type": "stream",
     "text": [
      "--- Train epoch-8, step-504 ---\n",
      "loss: 0.5295\n"
     ]
    },
    {
     "name": "stderr",
     "output_type": "stream",
     "text": [
      "Evaluation: 100%|███████████████████████████████████████████████████████████████████████| 7/7 [00:00<00:00, 257.22it/s]"
     ]
    },
    {
     "name": "stdout",
     "output_type": "stream",
     "text": [
      "--- Eval epoch-8, step-504 ---\n",
      "pr_auc: 0.1862\n",
      "roc_auc: 0.4754\n",
      "f1: 0.0000\n",
      "loss: 0.5153\n",
      "New best roc_auc score (0.4754) at epoch-8, step-504\n",
      "\n"
     ]
    },
    {
     "name": "stderr",
     "output_type": "stream",
     "text": [
      "\n"
     ]
    },
    {
     "data": {
      "application/vnd.jupyter.widget-view+json": {
       "model_id": "c10066b90b4643758d8b356c31f09bb3",
       "version_major": 2,
       "version_minor": 0
      },
      "text/plain": [
       "Epoch 9 / 50:   0%|          | 0/56 [00:00<?, ?it/s]"
      ]
     },
     "metadata": {},
     "output_type": "display_data"
    },
    {
     "name": "stdout",
     "output_type": "stream",
     "text": [
      "--- Train epoch-9, step-560 ---\n",
      "loss: 0.5270\n"
     ]
    },
    {
     "name": "stderr",
     "output_type": "stream",
     "text": [
      "Evaluation: 100%|███████████████████████████████████████████████████████████████████████| 7/7 [00:00<00:00, 257.31it/s]"
     ]
    },
    {
     "name": "stdout",
     "output_type": "stream",
     "text": [
      "--- Eval epoch-9, step-560 ---\n",
      "pr_auc: 0.1873\n",
      "roc_auc: 0.4803\n",
      "f1: 0.0000\n",
      "loss: 0.5137\n",
      "New best roc_auc score (0.4803) at epoch-9, step-560\n",
      "\n"
     ]
    },
    {
     "name": "stderr",
     "output_type": "stream",
     "text": [
      "\n"
     ]
    },
    {
     "data": {
      "application/vnd.jupyter.widget-view+json": {
       "model_id": "60ca884973c842f1a620367daace8661",
       "version_major": 2,
       "version_minor": 0
      },
      "text/plain": [
       "Epoch 10 / 50:   0%|          | 0/56 [00:00<?, ?it/s]"
      ]
     },
     "metadata": {},
     "output_type": "display_data"
    },
    {
     "name": "stdout",
     "output_type": "stream",
     "text": [
      "--- Train epoch-10, step-616 ---\n",
      "loss: 0.5187\n"
     ]
    },
    {
     "name": "stderr",
     "output_type": "stream",
     "text": [
      "Evaluation: 100%|███████████████████████████████████████████████████████████████████████| 7/7 [00:00<00:00, 286.20it/s]"
     ]
    },
    {
     "name": "stdout",
     "output_type": "stream",
     "text": [
      "--- Eval epoch-10, step-616 ---\n",
      "pr_auc: 0.1895\n",
      "roc_auc: 0.4872\n",
      "f1: 0.0000\n",
      "loss: 0.5124\n",
      "New best roc_auc score (0.4872) at epoch-10, step-616\n",
      "\n"
     ]
    },
    {
     "name": "stderr",
     "output_type": "stream",
     "text": [
      "\n"
     ]
    },
    {
     "data": {
      "application/vnd.jupyter.widget-view+json": {
       "model_id": "651927a788044706a4c68ec61ac19685",
       "version_major": 2,
       "version_minor": 0
      },
      "text/plain": [
       "Epoch 11 / 50:   0%|          | 0/56 [00:00<?, ?it/s]"
      ]
     },
     "metadata": {},
     "output_type": "display_data"
    },
    {
     "name": "stdout",
     "output_type": "stream",
     "text": [
      "--- Train epoch-11, step-672 ---\n",
      "loss: 0.5166\n"
     ]
    },
    {
     "name": "stderr",
     "output_type": "stream",
     "text": [
      "Evaluation: 100%|███████████████████████████████████████████████████████████████████████| 7/7 [00:00<00:00, 272.16it/s]"
     ]
    },
    {
     "name": "stdout",
     "output_type": "stream",
     "text": [
      "--- Eval epoch-11, step-672 ---\n",
      "pr_auc: 0.1913\n",
      "roc_auc: 0.4927\n",
      "f1: 0.0000\n",
      "loss: 0.5100\n",
      "New best roc_auc score (0.4927) at epoch-11, step-672\n",
      "\n"
     ]
    },
    {
     "name": "stderr",
     "output_type": "stream",
     "text": [
      "\n"
     ]
    },
    {
     "data": {
      "application/vnd.jupyter.widget-view+json": {
       "model_id": "ba7de89fdf1841219183a61e73c29f26",
       "version_major": 2,
       "version_minor": 0
      },
      "text/plain": [
       "Epoch 12 / 50:   0%|          | 0/56 [00:00<?, ?it/s]"
      ]
     },
     "metadata": {},
     "output_type": "display_data"
    },
    {
     "name": "stdout",
     "output_type": "stream",
     "text": [
      "--- Train epoch-12, step-728 ---\n",
      "loss: 0.5159\n"
     ]
    },
    {
     "name": "stderr",
     "output_type": "stream",
     "text": [
      "Evaluation: 100%|███████████████████████████████████████████████████████████████████████| 7/7 [00:00<00:00, 275.93it/s]"
     ]
    },
    {
     "name": "stdout",
     "output_type": "stream",
     "text": [
      "--- Eval epoch-12, step-728 ---\n",
      "pr_auc: 0.1910\n",
      "roc_auc: 0.4942\n",
      "f1: 0.0000\n",
      "loss: 0.5091\n",
      "New best roc_auc score (0.4942) at epoch-12, step-728\n",
      "\n"
     ]
    },
    {
     "name": "stderr",
     "output_type": "stream",
     "text": [
      "\n"
     ]
    },
    {
     "data": {
      "application/vnd.jupyter.widget-view+json": {
       "model_id": "0b937cd30b494c4bb49a5e0e6377dbdb",
       "version_major": 2,
       "version_minor": 0
      },
      "text/plain": [
       "Epoch 13 / 50:   0%|          | 0/56 [00:00<?, ?it/s]"
      ]
     },
     "metadata": {},
     "output_type": "display_data"
    },
    {
     "name": "stdout",
     "output_type": "stream",
     "text": [
      "--- Train epoch-13, step-784 ---\n",
      "loss: 0.5110\n"
     ]
    },
    {
     "name": "stderr",
     "output_type": "stream",
     "text": [
      "Evaluation: 100%|███████████████████████████████████████████████████████████████████████| 7/7 [00:00<00:00, 267.05it/s]"
     ]
    },
    {
     "name": "stdout",
     "output_type": "stream",
     "text": [
      "--- Eval epoch-13, step-784 ---\n",
      "pr_auc: 0.1915\n",
      "roc_auc: 0.4976\n",
      "f1: 0.0000\n",
      "loss: 0.5079\n",
      "New best roc_auc score (0.4976) at epoch-13, step-784\n",
      "\n"
     ]
    },
    {
     "name": "stderr",
     "output_type": "stream",
     "text": [
      "\n"
     ]
    },
    {
     "data": {
      "application/vnd.jupyter.widget-view+json": {
       "model_id": "2662470f668d4e66935bba6e77a2d806",
       "version_major": 2,
       "version_minor": 0
      },
      "text/plain": [
       "Epoch 14 / 50:   0%|          | 0/56 [00:00<?, ?it/s]"
      ]
     },
     "metadata": {},
     "output_type": "display_data"
    },
    {
     "name": "stdout",
     "output_type": "stream",
     "text": [
      "--- Train epoch-14, step-840 ---\n",
      "loss: 0.5124\n"
     ]
    },
    {
     "name": "stderr",
     "output_type": "stream",
     "text": [
      "Evaluation: 100%|███████████████████████████████████████████████████████████████████████| 7/7 [00:00<00:00, 266.41it/s]"
     ]
    },
    {
     "name": "stdout",
     "output_type": "stream",
     "text": [
      "--- Eval epoch-14, step-840 ---\n",
      "pr_auc: 0.1925\n",
      "roc_auc: 0.5044\n",
      "f1: 0.0000\n",
      "loss: 0.5056\n",
      "New best roc_auc score (0.5044) at epoch-14, step-840\n",
      "\n"
     ]
    },
    {
     "name": "stderr",
     "output_type": "stream",
     "text": [
      "\n"
     ]
    },
    {
     "data": {
      "application/vnd.jupyter.widget-view+json": {
       "model_id": "e05107ab58344d88bb8adba36e34ab71",
       "version_major": 2,
       "version_minor": 0
      },
      "text/plain": [
       "Epoch 15 / 50:   0%|          | 0/56 [00:00<?, ?it/s]"
      ]
     },
     "metadata": {},
     "output_type": "display_data"
    },
    {
     "name": "stdout",
     "output_type": "stream",
     "text": [
      "--- Train epoch-15, step-896 ---\n",
      "loss: 0.5072\n"
     ]
    },
    {
     "name": "stderr",
     "output_type": "stream",
     "text": [
      "Evaluation: 100%|███████████████████████████████████████████████████████████████████████| 7/7 [00:00<00:00, 266.73it/s]"
     ]
    },
    {
     "name": "stdout",
     "output_type": "stream",
     "text": [
      "--- Eval epoch-15, step-896 ---\n",
      "pr_auc: 0.1943\n",
      "roc_auc: 0.5087\n",
      "f1: 0.0000\n",
      "loss: 0.5041\n",
      "New best roc_auc score (0.5087) at epoch-15, step-896\n",
      "\n"
     ]
    },
    {
     "name": "stderr",
     "output_type": "stream",
     "text": [
      "\n"
     ]
    },
    {
     "data": {
      "application/vnd.jupyter.widget-view+json": {
       "model_id": "a5f86d362ac04200a52f9e33db366081",
       "version_major": 2,
       "version_minor": 0
      },
      "text/plain": [
       "Epoch 16 / 50:   0%|          | 0/56 [00:00<?, ?it/s]"
      ]
     },
     "metadata": {},
     "output_type": "display_data"
    },
    {
     "name": "stdout",
     "output_type": "stream",
     "text": [
      "--- Train epoch-16, step-952 ---\n",
      "loss: 0.5074\n"
     ]
    },
    {
     "name": "stderr",
     "output_type": "stream",
     "text": [
      "Evaluation: 100%|███████████████████████████████████████████████████████████████████████| 7/7 [00:00<00:00, 302.04it/s]"
     ]
    },
    {
     "name": "stdout",
     "output_type": "stream",
     "text": [
      "--- Eval epoch-16, step-952 ---\n",
      "pr_auc: 0.1976\n",
      "roc_auc: 0.5164\n",
      "f1: 0.0000\n",
      "loss: 0.5020\n",
      "New best roc_auc score (0.5164) at epoch-16, step-952\n",
      "\n"
     ]
    },
    {
     "name": "stderr",
     "output_type": "stream",
     "text": [
      "\n"
     ]
    },
    {
     "data": {
      "application/vnd.jupyter.widget-view+json": {
       "model_id": "1245fc9d3107463e9c9f759a5b8bfe3a",
       "version_major": 2,
       "version_minor": 0
      },
      "text/plain": [
       "Epoch 17 / 50:   0%|          | 0/56 [00:00<?, ?it/s]"
      ]
     },
     "metadata": {},
     "output_type": "display_data"
    },
    {
     "name": "stdout",
     "output_type": "stream",
     "text": [
      "--- Train epoch-17, step-1008 ---\n",
      "loss: 0.4997\n"
     ]
    },
    {
     "name": "stderr",
     "output_type": "stream",
     "text": [
      "Evaluation: 100%|███████████████████████████████████████████████████████████████████████| 7/7 [00:00<00:00, 288.51it/s]"
     ]
    },
    {
     "name": "stdout",
     "output_type": "stream",
     "text": [
      "--- Eval epoch-17, step-1008 ---\n",
      "pr_auc: 0.1981\n",
      "roc_auc: 0.5189\n",
      "f1: 0.0000\n",
      "loss: 0.5010\n",
      "New best roc_auc score (0.5189) at epoch-17, step-1008\n",
      "\n"
     ]
    },
    {
     "name": "stderr",
     "output_type": "stream",
     "text": [
      "\n"
     ]
    },
    {
     "data": {
      "application/vnd.jupyter.widget-view+json": {
       "model_id": "2e2c3951d7e64560ae5880c8340afff6",
       "version_major": 2,
       "version_minor": 0
      },
      "text/plain": [
       "Epoch 18 / 50:   0%|          | 0/56 [00:00<?, ?it/s]"
      ]
     },
     "metadata": {},
     "output_type": "display_data"
    },
    {
     "name": "stdout",
     "output_type": "stream",
     "text": [
      "--- Train epoch-18, step-1064 ---\n",
      "loss: 0.4986\n"
     ]
    },
    {
     "name": "stderr",
     "output_type": "stream",
     "text": [
      "Evaluation: 100%|███████████████████████████████████████████████████████████████████████| 7/7 [00:00<00:00, 264.53it/s]"
     ]
    },
    {
     "name": "stdout",
     "output_type": "stream",
     "text": [
      "--- Eval epoch-18, step-1064 ---\n",
      "pr_auc: 0.2009\n",
      "roc_auc: 0.5255\n",
      "f1: 0.0000\n",
      "loss: 0.5003\n",
      "New best roc_auc score (0.5255) at epoch-18, step-1064\n",
      "\n"
     ]
    },
    {
     "name": "stderr",
     "output_type": "stream",
     "text": [
      "\n"
     ]
    },
    {
     "data": {
      "application/vnd.jupyter.widget-view+json": {
       "model_id": "83dd8d96cf9744c695ad912984571f7f",
       "version_major": 2,
       "version_minor": 0
      },
      "text/plain": [
       "Epoch 19 / 50:   0%|          | 0/56 [00:00<?, ?it/s]"
      ]
     },
     "metadata": {},
     "output_type": "display_data"
    },
    {
     "name": "stdout",
     "output_type": "stream",
     "text": [
      "--- Train epoch-19, step-1120 ---\n",
      "loss: 0.4960\n"
     ]
    },
    {
     "name": "stderr",
     "output_type": "stream",
     "text": [
      "Evaluation: 100%|███████████████████████████████████████████████████████████████████████| 7/7 [00:00<00:00, 277.08it/s]"
     ]
    },
    {
     "name": "stdout",
     "output_type": "stream",
     "text": [
      "--- Eval epoch-19, step-1120 ---\n",
      "pr_auc: 0.2043\n",
      "roc_auc: 0.5344\n",
      "f1: 0.0000\n",
      "loss: 0.4982\n",
      "New best roc_auc score (0.5344) at epoch-19, step-1120\n",
      "\n"
     ]
    },
    {
     "name": "stderr",
     "output_type": "stream",
     "text": [
      "\n"
     ]
    },
    {
     "data": {
      "application/vnd.jupyter.widget-view+json": {
       "model_id": "00161a64ddea448d9f64cd5e6d3f3c07",
       "version_major": 2,
       "version_minor": 0
      },
      "text/plain": [
       "Epoch 20 / 50:   0%|          | 0/56 [00:00<?, ?it/s]"
      ]
     },
     "metadata": {},
     "output_type": "display_data"
    },
    {
     "name": "stdout",
     "output_type": "stream",
     "text": [
      "--- Train epoch-20, step-1176 ---\n",
      "loss: 0.4895\n"
     ]
    },
    {
     "name": "stderr",
     "output_type": "stream",
     "text": [
      "Evaluation: 100%|███████████████████████████████████████████████████████████████████████| 7/7 [00:00<00:00, 277.52it/s]"
     ]
    },
    {
     "name": "stdout",
     "output_type": "stream",
     "text": [
      "--- Eval epoch-20, step-1176 ---\n",
      "pr_auc: 0.2041\n",
      "roc_auc: 0.5421\n",
      "f1: 0.0000\n",
      "loss: 0.4967\n",
      "New best roc_auc score (0.5421) at epoch-20, step-1176\n",
      "\n"
     ]
    },
    {
     "name": "stderr",
     "output_type": "stream",
     "text": [
      "\n"
     ]
    },
    {
     "data": {
      "application/vnd.jupyter.widget-view+json": {
       "model_id": "d7e7bdc7620841ea9d9b2cc7db30274a",
       "version_major": 2,
       "version_minor": 0
      },
      "text/plain": [
       "Epoch 21 / 50:   0%|          | 0/56 [00:00<?, ?it/s]"
      ]
     },
     "metadata": {},
     "output_type": "display_data"
    },
    {
     "name": "stdout",
     "output_type": "stream",
     "text": [
      "--- Train epoch-21, step-1232 ---\n",
      "loss: 0.4968\n"
     ]
    },
    {
     "name": "stderr",
     "output_type": "stream",
     "text": [
      "Evaluation: 100%|███████████████████████████████████████████████████████████████████████| 7/7 [00:00<00:00, 281.26it/s]"
     ]
    },
    {
     "name": "stdout",
     "output_type": "stream",
     "text": [
      "--- Eval epoch-21, step-1232 ---\n",
      "pr_auc: 0.2038\n",
      "roc_auc: 0.5471\n",
      "f1: 0.0000\n",
      "loss: 0.4954\n",
      "New best roc_auc score (0.5471) at epoch-21, step-1232\n",
      "\n"
     ]
    },
    {
     "name": "stderr",
     "output_type": "stream",
     "text": [
      "\n"
     ]
    },
    {
     "data": {
      "application/vnd.jupyter.widget-view+json": {
       "model_id": "9dde533ab9834cbb881c31ba44838275",
       "version_major": 2,
       "version_minor": 0
      },
      "text/plain": [
       "Epoch 22 / 50:   0%|          | 0/56 [00:00<?, ?it/s]"
      ]
     },
     "metadata": {},
     "output_type": "display_data"
    },
    {
     "name": "stdout",
     "output_type": "stream",
     "text": [
      "--- Train epoch-22, step-1288 ---\n",
      "loss: 0.4879\n"
     ]
    },
    {
     "name": "stderr",
     "output_type": "stream",
     "text": [
      "Evaluation: 100%|███████████████████████████████████████████████████████████████████████| 7/7 [00:00<00:00, 267.74it/s]"
     ]
    },
    {
     "name": "stdout",
     "output_type": "stream",
     "text": [
      "--- Eval epoch-22, step-1288 ---\n",
      "pr_auc: 0.2081\n",
      "roc_auc: 0.5562\n",
      "f1: 0.0000\n",
      "loss: 0.4946\n",
      "New best roc_auc score (0.5562) at epoch-22, step-1288\n",
      "\n"
     ]
    },
    {
     "name": "stderr",
     "output_type": "stream",
     "text": [
      "\n"
     ]
    },
    {
     "data": {
      "application/vnd.jupyter.widget-view+json": {
       "model_id": "c32c260343c44b95b2ae806292e9392e",
       "version_major": 2,
       "version_minor": 0
      },
      "text/plain": [
       "Epoch 23 / 50:   0%|          | 0/56 [00:00<?, ?it/s]"
      ]
     },
     "metadata": {},
     "output_type": "display_data"
    },
    {
     "name": "stdout",
     "output_type": "stream",
     "text": [
      "--- Train epoch-23, step-1344 ---\n",
      "loss: 0.4911\n"
     ]
    },
    {
     "name": "stderr",
     "output_type": "stream",
     "text": [
      "Evaluation: 100%|███████████████████████████████████████████████████████████████████████| 7/7 [00:00<00:00, 285.92it/s]"
     ]
    },
    {
     "name": "stdout",
     "output_type": "stream",
     "text": [
      "--- Eval epoch-23, step-1344 ---\n",
      "pr_auc: 0.2102\n",
      "roc_auc: 0.5610\n",
      "f1: 0.0000\n",
      "loss: 0.4933\n",
      "New best roc_auc score (0.5610) at epoch-23, step-1344\n",
      "\n"
     ]
    },
    {
     "name": "stderr",
     "output_type": "stream",
     "text": [
      "\n"
     ]
    },
    {
     "data": {
      "application/vnd.jupyter.widget-view+json": {
       "model_id": "65f1fd6e4fbd4b279fa1c048ca4435ce",
       "version_major": 2,
       "version_minor": 0
      },
      "text/plain": [
       "Epoch 24 / 50:   0%|          | 0/56 [00:00<?, ?it/s]"
      ]
     },
     "metadata": {},
     "output_type": "display_data"
    },
    {
     "name": "stdout",
     "output_type": "stream",
     "text": [
      "--- Train epoch-24, step-1400 ---\n",
      "loss: 0.4849\n"
     ]
    },
    {
     "name": "stderr",
     "output_type": "stream",
     "text": [
      "Evaluation: 100%|███████████████████████████████████████████████████████████████████████| 7/7 [00:00<00:00, 248.04it/s]"
     ]
    },
    {
     "name": "stdout",
     "output_type": "stream",
     "text": [
      "--- Eval epoch-24, step-1400 ---\n",
      "pr_auc: 0.2117\n",
      "roc_auc: 0.5664\n",
      "f1: 0.0000\n",
      "loss: 0.4919\n",
      "New best roc_auc score (0.5664) at epoch-24, step-1400\n",
      "\n"
     ]
    },
    {
     "name": "stderr",
     "output_type": "stream",
     "text": [
      "\n"
     ]
    },
    {
     "data": {
      "application/vnd.jupyter.widget-view+json": {
       "model_id": "36bc5c907bb4404cb045ca3f5353ca65",
       "version_major": 2,
       "version_minor": 0
      },
      "text/plain": [
       "Epoch 25 / 50:   0%|          | 0/56 [00:00<?, ?it/s]"
      ]
     },
     "metadata": {},
     "output_type": "display_data"
    },
    {
     "name": "stdout",
     "output_type": "stream",
     "text": [
      "--- Train epoch-25, step-1456 ---\n",
      "loss: 0.4808\n"
     ]
    },
    {
     "name": "stderr",
     "output_type": "stream",
     "text": [
      "Evaluation: 100%|███████████████████████████████████████████████████████████████████████| 7/7 [00:00<00:00, 264.42it/s]"
     ]
    },
    {
     "name": "stdout",
     "output_type": "stream",
     "text": [
      "--- Eval epoch-25, step-1456 ---\n",
      "pr_auc: 0.2128\n",
      "roc_auc: 0.5697\n",
      "f1: 0.0000\n",
      "loss: 0.4911\n",
      "New best roc_auc score (0.5697) at epoch-25, step-1456\n",
      "\n"
     ]
    },
    {
     "name": "stderr",
     "output_type": "stream",
     "text": [
      "\n"
     ]
    },
    {
     "data": {
      "application/vnd.jupyter.widget-view+json": {
       "model_id": "45ebdd08ffa148439c9dd9d5ea001b54",
       "version_major": 2,
       "version_minor": 0
      },
      "text/plain": [
       "Epoch 26 / 50:   0%|          | 0/56 [00:00<?, ?it/s]"
      ]
     },
     "metadata": {},
     "output_type": "display_data"
    },
    {
     "name": "stdout",
     "output_type": "stream",
     "text": [
      "--- Train epoch-26, step-1512 ---\n",
      "loss: 0.4862\n"
     ]
    },
    {
     "name": "stderr",
     "output_type": "stream",
     "text": [
      "Evaluation: 100%|███████████████████████████████████████████████████████████████████████| 7/7 [00:00<00:00, 258.00it/s]"
     ]
    },
    {
     "name": "stdout",
     "output_type": "stream",
     "text": [
      "--- Eval epoch-26, step-1512 ---\n",
      "pr_auc: 0.2161\n",
      "roc_auc: 0.5758\n",
      "f1: 0.0000\n",
      "loss: 0.4890\n",
      "New best roc_auc score (0.5758) at epoch-26, step-1512\n",
      "\n"
     ]
    },
    {
     "name": "stderr",
     "output_type": "stream",
     "text": [
      "\n"
     ]
    },
    {
     "data": {
      "application/vnd.jupyter.widget-view+json": {
       "model_id": "b52051661ce64cc49e52af13d431cf31",
       "version_major": 2,
       "version_minor": 0
      },
      "text/plain": [
       "Epoch 27 / 50:   0%|          | 0/56 [00:00<?, ?it/s]"
      ]
     },
     "metadata": {},
     "output_type": "display_data"
    },
    {
     "name": "stdout",
     "output_type": "stream",
     "text": [
      "--- Train epoch-27, step-1568 ---\n",
      "loss: 0.4783\n"
     ]
    },
    {
     "name": "stderr",
     "output_type": "stream",
     "text": [
      "Evaluation: 100%|███████████████████████████████████████████████████████████████████████| 7/7 [00:00<00:00, 256.77it/s]"
     ]
    },
    {
     "name": "stdout",
     "output_type": "stream",
     "text": [
      "--- Eval epoch-27, step-1568 ---\n",
      "pr_auc: 0.2181\n",
      "roc_auc: 0.5794\n",
      "f1: 0.0000\n",
      "loss: 0.4883\n",
      "New best roc_auc score (0.5794) at epoch-27, step-1568\n",
      "\n"
     ]
    },
    {
     "name": "stderr",
     "output_type": "stream",
     "text": [
      "\n"
     ]
    },
    {
     "data": {
      "application/vnd.jupyter.widget-view+json": {
       "model_id": "39a2588ec1f2451ba7e62a68878fce67",
       "version_major": 2,
       "version_minor": 0
      },
      "text/plain": [
       "Epoch 28 / 50:   0%|          | 0/56 [00:00<?, ?it/s]"
      ]
     },
     "metadata": {},
     "output_type": "display_data"
    },
    {
     "name": "stdout",
     "output_type": "stream",
     "text": [
      "--- Train epoch-28, step-1624 ---\n",
      "loss: 0.4759\n"
     ]
    },
    {
     "name": "stderr",
     "output_type": "stream",
     "text": [
      "Evaluation: 100%|███████████████████████████████████████████████████████████████████████| 7/7 [00:00<00:00, 263.99it/s]"
     ]
    },
    {
     "name": "stdout",
     "output_type": "stream",
     "text": [
      "--- Eval epoch-28, step-1624 ---\n",
      "pr_auc: 0.2191\n",
      "roc_auc: 0.5804\n",
      "f1: 0.0000\n",
      "loss: 0.4881\n",
      "New best roc_auc score (0.5804) at epoch-28, step-1624\n",
      "\n"
     ]
    },
    {
     "name": "stderr",
     "output_type": "stream",
     "text": [
      "\n"
     ]
    },
    {
     "data": {
      "application/vnd.jupyter.widget-view+json": {
       "model_id": "be9f7e71d1054a30afb3c4ef2c1c76d5",
       "version_major": 2,
       "version_minor": 0
      },
      "text/plain": [
       "Epoch 29 / 50:   0%|          | 0/56 [00:00<?, ?it/s]"
      ]
     },
     "metadata": {},
     "output_type": "display_data"
    },
    {
     "name": "stdout",
     "output_type": "stream",
     "text": [
      "--- Train epoch-29, step-1680 ---\n",
      "loss: 0.4773\n"
     ]
    },
    {
     "name": "stderr",
     "output_type": "stream",
     "text": [
      "Evaluation: 100%|███████████████████████████████████████████████████████████████████████| 7/7 [00:00<00:00, 277.19it/s]"
     ]
    },
    {
     "name": "stdout",
     "output_type": "stream",
     "text": [
      "--- Eval epoch-29, step-1680 ---\n",
      "pr_auc: 0.2208\n",
      "roc_auc: 0.5833\n",
      "f1: 0.0000\n",
      "loss: 0.4876\n",
      "New best roc_auc score (0.5833) at epoch-29, step-1680\n",
      "\n"
     ]
    },
    {
     "name": "stderr",
     "output_type": "stream",
     "text": [
      "\n"
     ]
    },
    {
     "data": {
      "application/vnd.jupyter.widget-view+json": {
       "model_id": "3196ae95a2a145c2adaeb7aa3620d825",
       "version_major": 2,
       "version_minor": 0
      },
      "text/plain": [
       "Epoch 30 / 50:   0%|          | 0/56 [00:00<?, ?it/s]"
      ]
     },
     "metadata": {},
     "output_type": "display_data"
    },
    {
     "name": "stdout",
     "output_type": "stream",
     "text": [
      "--- Train epoch-30, step-1736 ---\n",
      "loss: 0.4774\n"
     ]
    },
    {
     "name": "stderr",
     "output_type": "stream",
     "text": [
      "Evaluation: 100%|███████████████████████████████████████████████████████████████████████| 7/7 [00:00<00:00, 298.96it/s]"
     ]
    },
    {
     "name": "stdout",
     "output_type": "stream",
     "text": [
      "--- Eval epoch-30, step-1736 ---\n",
      "pr_auc: 0.2245\n",
      "roc_auc: 0.5886\n",
      "f1: 0.0000\n",
      "loss: 0.4866\n",
      "New best roc_auc score (0.5886) at epoch-30, step-1736\n",
      "\n"
     ]
    },
    {
     "name": "stderr",
     "output_type": "stream",
     "text": [
      "\n"
     ]
    },
    {
     "data": {
      "application/vnd.jupyter.widget-view+json": {
       "model_id": "e55bbbc738e74a84823bb9009f5416f9",
       "version_major": 2,
       "version_minor": 0
      },
      "text/plain": [
       "Epoch 31 / 50:   0%|          | 0/56 [00:00<?, ?it/s]"
      ]
     },
     "metadata": {},
     "output_type": "display_data"
    },
    {
     "name": "stdout",
     "output_type": "stream",
     "text": [
      "--- Train epoch-31, step-1792 ---\n",
      "loss: 0.4644\n"
     ]
    },
    {
     "name": "stderr",
     "output_type": "stream",
     "text": [
      "Evaluation: 100%|███████████████████████████████████████████████████████████████████████| 7/7 [00:00<00:00, 277.81it/s]"
     ]
    },
    {
     "name": "stdout",
     "output_type": "stream",
     "text": [
      "--- Eval epoch-31, step-1792 ---\n",
      "pr_auc: 0.2261\n",
      "roc_auc: 0.5931\n",
      "f1: 0.0000\n",
      "loss: 0.4865\n",
      "New best roc_auc score (0.5931) at epoch-31, step-1792\n",
      "\n"
     ]
    },
    {
     "name": "stderr",
     "output_type": "stream",
     "text": [
      "\n"
     ]
    },
    {
     "data": {
      "application/vnd.jupyter.widget-view+json": {
       "model_id": "a5b09a7ea7994cfb8d488ca279dc7a48",
       "version_major": 2,
       "version_minor": 0
      },
      "text/plain": [
       "Epoch 32 / 50:   0%|          | 0/56 [00:00<?, ?it/s]"
      ]
     },
     "metadata": {},
     "output_type": "display_data"
    },
    {
     "name": "stdout",
     "output_type": "stream",
     "text": [
      "--- Train epoch-32, step-1848 ---\n",
      "loss: 0.4689\n"
     ]
    },
    {
     "name": "stderr",
     "output_type": "stream",
     "text": [
      "Evaluation: 100%|███████████████████████████████████████████████████████████████████████| 7/7 [00:00<00:00, 307.49it/s]"
     ]
    },
    {
     "name": "stdout",
     "output_type": "stream",
     "text": [
      "--- Eval epoch-32, step-1848 ---\n",
      "pr_auc: 0.2291\n",
      "roc_auc: 0.5981\n",
      "f1: 0.0000\n",
      "loss: 0.4860\n",
      "New best roc_auc score (0.5981) at epoch-32, step-1848\n",
      "\n"
     ]
    },
    {
     "name": "stderr",
     "output_type": "stream",
     "text": [
      "\n"
     ]
    },
    {
     "data": {
      "application/vnd.jupyter.widget-view+json": {
       "model_id": "b8ea7781268643edb5bb0f522f68f50a",
       "version_major": 2,
       "version_minor": 0
      },
      "text/plain": [
       "Epoch 33 / 50:   0%|          | 0/56 [00:00<?, ?it/s]"
      ]
     },
     "metadata": {},
     "output_type": "display_data"
    },
    {
     "name": "stdout",
     "output_type": "stream",
     "text": [
      "--- Train epoch-33, step-1904 ---\n",
      "loss: 0.4693\n"
     ]
    },
    {
     "name": "stderr",
     "output_type": "stream",
     "text": [
      "Evaluation: 100%|███████████████████████████████████████████████████████████████████████| 7/7 [00:00<00:00, 266.83it/s]"
     ]
    },
    {
     "name": "stdout",
     "output_type": "stream",
     "text": [
      "--- Eval epoch-33, step-1904 ---\n",
      "pr_auc: 0.2307\n",
      "roc_auc: 0.6009\n",
      "f1: 0.0000\n",
      "loss: 0.4854\n",
      "New best roc_auc score (0.6009) at epoch-33, step-1904\n",
      "\n"
     ]
    },
    {
     "name": "stderr",
     "output_type": "stream",
     "text": [
      "\n"
     ]
    },
    {
     "data": {
      "application/vnd.jupyter.widget-view+json": {
       "model_id": "78b5a100961d446bb9f96310768be9d3",
       "version_major": 2,
       "version_minor": 0
      },
      "text/plain": [
       "Epoch 34 / 50:   0%|          | 0/56 [00:00<?, ?it/s]"
      ]
     },
     "metadata": {},
     "output_type": "display_data"
    },
    {
     "name": "stdout",
     "output_type": "stream",
     "text": [
      "--- Train epoch-34, step-1960 ---\n",
      "loss: 0.4603\n"
     ]
    },
    {
     "name": "stderr",
     "output_type": "stream",
     "text": [
      "Evaluation: 100%|███████████████████████████████████████████████████████████████████████| 7/7 [00:00<00:00, 248.19it/s]"
     ]
    },
    {
     "name": "stdout",
     "output_type": "stream",
     "text": [
      "--- Eval epoch-34, step-1960 ---\n",
      "pr_auc: 0.2332\n",
      "roc_auc: 0.6029\n",
      "f1: 0.0000\n",
      "loss: 0.4857\n",
      "New best roc_auc score (0.6029) at epoch-34, step-1960\n",
      "\n"
     ]
    },
    {
     "name": "stderr",
     "output_type": "stream",
     "text": [
      "\n"
     ]
    },
    {
     "data": {
      "application/vnd.jupyter.widget-view+json": {
       "model_id": "43b9d0ff86b943848bbc4232fdfafff1",
       "version_major": 2,
       "version_minor": 0
      },
      "text/plain": [
       "Epoch 35 / 50:   0%|          | 0/56 [00:00<?, ?it/s]"
      ]
     },
     "metadata": {},
     "output_type": "display_data"
    },
    {
     "name": "stdout",
     "output_type": "stream",
     "text": [
      "--- Train epoch-35, step-2016 ---\n",
      "loss: 0.4579\n"
     ]
    },
    {
     "name": "stderr",
     "output_type": "stream",
     "text": [
      "Evaluation: 100%|███████████████████████████████████████████████████████████████████████| 7/7 [00:00<00:00, 277.28it/s]"
     ]
    },
    {
     "name": "stdout",
     "output_type": "stream",
     "text": [
      "--- Eval epoch-35, step-2016 ---\n",
      "pr_auc: 0.2359\n",
      "roc_auc: 0.6053\n",
      "f1: 0.0000\n",
      "loss: 0.4850\n",
      "New best roc_auc score (0.6053) at epoch-35, step-2016\n",
      "\n"
     ]
    },
    {
     "name": "stderr",
     "output_type": "stream",
     "text": [
      "\n"
     ]
    },
    {
     "data": {
      "application/vnd.jupyter.widget-view+json": {
       "model_id": "b5521c41075a4f64a052f92902d9b6ef",
       "version_major": 2,
       "version_minor": 0
      },
      "text/plain": [
       "Epoch 36 / 50:   0%|          | 0/56 [00:00<?, ?it/s]"
      ]
     },
     "metadata": {},
     "output_type": "display_data"
    },
    {
     "name": "stdout",
     "output_type": "stream",
     "text": [
      "--- Train epoch-36, step-2072 ---\n",
      "loss: 0.4623\n"
     ]
    },
    {
     "name": "stderr",
     "output_type": "stream",
     "text": [
      "Evaluation: 100%|███████████████████████████████████████████████████████████████████████| 7/7 [00:00<00:00, 260.62it/s]"
     ]
    },
    {
     "name": "stdout",
     "output_type": "stream",
     "text": [
      "--- Eval epoch-36, step-2072 ---\n",
      "pr_auc: 0.2391\n",
      "roc_auc: 0.6112\n",
      "f1: 0.0000\n",
      "loss: 0.4840\n",
      "New best roc_auc score (0.6112) at epoch-36, step-2072\n",
      "\n"
     ]
    },
    {
     "name": "stderr",
     "output_type": "stream",
     "text": [
      "\n"
     ]
    },
    {
     "data": {
      "application/vnd.jupyter.widget-view+json": {
       "model_id": "595fe54f7cea427d856cd144204b2e21",
       "version_major": 2,
       "version_minor": 0
      },
      "text/plain": [
       "Epoch 37 / 50:   0%|          | 0/56 [00:00<?, ?it/s]"
      ]
     },
     "metadata": {},
     "output_type": "display_data"
    },
    {
     "name": "stdout",
     "output_type": "stream",
     "text": [
      "--- Train epoch-37, step-2128 ---\n",
      "loss: 0.4580\n"
     ]
    },
    {
     "name": "stderr",
     "output_type": "stream",
     "text": [
      "Evaluation: 100%|███████████████████████████████████████████████████████████████████████| 7/7 [00:00<00:00, 298.35it/s]"
     ]
    },
    {
     "name": "stdout",
     "output_type": "stream",
     "text": [
      "--- Eval epoch-37, step-2128 ---\n",
      "pr_auc: 0.2409\n",
      "roc_auc: 0.6142\n",
      "f1: 0.0000\n",
      "loss: 0.4839\n",
      "New best roc_auc score (0.6142) at epoch-37, step-2128\n",
      "\n"
     ]
    },
    {
     "name": "stderr",
     "output_type": "stream",
     "text": [
      "\n"
     ]
    },
    {
     "data": {
      "application/vnd.jupyter.widget-view+json": {
       "model_id": "2ab993d8164a4c6f90f43ecc4c6ddfa4",
       "version_major": 2,
       "version_minor": 0
      },
      "text/plain": [
       "Epoch 38 / 50:   0%|          | 0/56 [00:00<?, ?it/s]"
      ]
     },
     "metadata": {},
     "output_type": "display_data"
    },
    {
     "name": "stdout",
     "output_type": "stream",
     "text": [
      "--- Train epoch-38, step-2184 ---\n",
      "loss: 0.4566\n"
     ]
    },
    {
     "name": "stderr",
     "output_type": "stream",
     "text": [
      "Evaluation: 100%|███████████████████████████████████████████████████████████████████████| 7/7 [00:00<00:00, 246.46it/s]"
     ]
    },
    {
     "name": "stdout",
     "output_type": "stream",
     "text": [
      "--- Eval epoch-38, step-2184 ---\n",
      "pr_auc: 0.2421\n",
      "roc_auc: 0.6148\n",
      "f1: 0.0000\n",
      "loss: 0.4841\n",
      "New best roc_auc score (0.6148) at epoch-38, step-2184\n",
      "\n"
     ]
    },
    {
     "name": "stderr",
     "output_type": "stream",
     "text": [
      "\n"
     ]
    },
    {
     "data": {
      "application/vnd.jupyter.widget-view+json": {
       "model_id": "063d949ed1d64d73b296ac1a79ae735c",
       "version_major": 2,
       "version_minor": 0
      },
      "text/plain": [
       "Epoch 39 / 50:   0%|          | 0/56 [00:00<?, ?it/s]"
      ]
     },
     "metadata": {},
     "output_type": "display_data"
    },
    {
     "name": "stdout",
     "output_type": "stream",
     "text": [
      "--- Train epoch-39, step-2240 ---\n",
      "loss: 0.4556\n"
     ]
    },
    {
     "name": "stderr",
     "output_type": "stream",
     "text": [
      "Evaluation: 100%|███████████████████████████████████████████████████████████████████████| 7/7 [00:00<00:00, 266.66it/s]"
     ]
    },
    {
     "name": "stdout",
     "output_type": "stream",
     "text": [
      "--- Eval epoch-39, step-2240 ---\n",
      "pr_auc: 0.2424\n",
      "roc_auc: 0.6130\n",
      "f1: 0.0000\n",
      "loss: 0.4844\n",
      "\n"
     ]
    },
    {
     "name": "stderr",
     "output_type": "stream",
     "text": [
      "\n"
     ]
    },
    {
     "data": {
      "application/vnd.jupyter.widget-view+json": {
       "model_id": "9489f70e20284a9a91b7015e7ff067d3",
       "version_major": 2,
       "version_minor": 0
      },
      "text/plain": [
       "Epoch 40 / 50:   0%|          | 0/56 [00:00<?, ?it/s]"
      ]
     },
     "metadata": {},
     "output_type": "display_data"
    },
    {
     "name": "stdout",
     "output_type": "stream",
     "text": [
      "--- Train epoch-40, step-2296 ---\n",
      "loss: 0.4507\n"
     ]
    },
    {
     "name": "stderr",
     "output_type": "stream",
     "text": [
      "Evaluation: 100%|███████████████████████████████████████████████████████████████████████| 7/7 [00:00<00:00, 267.08it/s]"
     ]
    },
    {
     "name": "stdout",
     "output_type": "stream",
     "text": [
      "--- Eval epoch-40, step-2296 ---\n",
      "pr_auc: 0.2438\n",
      "roc_auc: 0.6138\n",
      "f1: 0.0000\n",
      "loss: 0.4844\n",
      "\n"
     ]
    },
    {
     "name": "stderr",
     "output_type": "stream",
     "text": [
      "\n"
     ]
    },
    {
     "data": {
      "application/vnd.jupyter.widget-view+json": {
       "model_id": "7b0a55b2808b40cc9d816969a9036c6e",
       "version_major": 2,
       "version_minor": 0
      },
      "text/plain": [
       "Epoch 41 / 50:   0%|          | 0/56 [00:00<?, ?it/s]"
      ]
     },
     "metadata": {},
     "output_type": "display_data"
    },
    {
     "name": "stdout",
     "output_type": "stream",
     "text": [
      "--- Train epoch-41, step-2352 ---\n",
      "loss: 0.4479\n"
     ]
    },
    {
     "name": "stderr",
     "output_type": "stream",
     "text": [
      "Evaluation: 100%|███████████████████████████████████████████████████████████████████████| 7/7 [00:00<00:00, 252.43it/s]"
     ]
    },
    {
     "name": "stdout",
     "output_type": "stream",
     "text": [
      "--- Eval epoch-41, step-2352 ---\n",
      "pr_auc: 0.2451\n",
      "roc_auc: 0.6177\n",
      "f1: 0.0000\n",
      "loss: 0.4848\n",
      "New best roc_auc score (0.6177) at epoch-41, step-2352\n",
      "\n"
     ]
    },
    {
     "name": "stderr",
     "output_type": "stream",
     "text": [
      "\n"
     ]
    },
    {
     "data": {
      "application/vnd.jupyter.widget-view+json": {
       "model_id": "b2d8d5975f8c4c76b66d3d2305c0f250",
       "version_major": 2,
       "version_minor": 0
      },
      "text/plain": [
       "Epoch 42 / 50:   0%|          | 0/56 [00:00<?, ?it/s]"
      ]
     },
     "metadata": {},
     "output_type": "display_data"
    },
    {
     "name": "stdout",
     "output_type": "stream",
     "text": [
      "--- Train epoch-42, step-2408 ---\n",
      "loss: 0.4520\n"
     ]
    },
    {
     "name": "stderr",
     "output_type": "stream",
     "text": [
      "Evaluation: 100%|███████████████████████████████████████████████████████████████████████| 7/7 [00:00<00:00, 267.11it/s]"
     ]
    },
    {
     "name": "stdout",
     "output_type": "stream",
     "text": [
      "--- Eval epoch-42, step-2408 ---\n",
      "pr_auc: 0.2502\n",
      "roc_auc: 0.6192\n",
      "f1: 0.0000\n",
      "loss: 0.4850\n",
      "New best roc_auc score (0.6192) at epoch-42, step-2408\n",
      "\n"
     ]
    },
    {
     "name": "stderr",
     "output_type": "stream",
     "text": [
      "\n"
     ]
    },
    {
     "data": {
      "application/vnd.jupyter.widget-view+json": {
       "model_id": "5ab0c89ecc984e3082f8c0a9fccbc3a5",
       "version_major": 2,
       "version_minor": 0
      },
      "text/plain": [
       "Epoch 43 / 50:   0%|          | 0/56 [00:00<?, ?it/s]"
      ]
     },
     "metadata": {},
     "output_type": "display_data"
    },
    {
     "name": "stdout",
     "output_type": "stream",
     "text": [
      "--- Train epoch-43, step-2464 ---\n",
      "loss: 0.4401\n"
     ]
    },
    {
     "name": "stderr",
     "output_type": "stream",
     "text": [
      "Evaluation: 100%|███████████████████████████████████████████████████████████████████████| 7/7 [00:00<00:00, 277.15it/s]"
     ]
    },
    {
     "name": "stdout",
     "output_type": "stream",
     "text": [
      "--- Eval epoch-43, step-2464 ---\n",
      "pr_auc: 0.2504\n",
      "roc_auc: 0.6192\n",
      "f1: 0.0000\n",
      "loss: 0.4848\n",
      "\n"
     ]
    },
    {
     "name": "stderr",
     "output_type": "stream",
     "text": [
      "\n"
     ]
    },
    {
     "data": {
      "application/vnd.jupyter.widget-view+json": {
       "model_id": "b44da932f4934aa781294b032dbc4c25",
       "version_major": 2,
       "version_minor": 0
      },
      "text/plain": [
       "Epoch 44 / 50:   0%|          | 0/56 [00:00<?, ?it/s]"
      ]
     },
     "metadata": {},
     "output_type": "display_data"
    },
    {
     "name": "stdout",
     "output_type": "stream",
     "text": [
      "--- Train epoch-44, step-2520 ---\n",
      "loss: 0.4459\n"
     ]
    },
    {
     "name": "stderr",
     "output_type": "stream",
     "text": [
      "Evaluation: 100%|███████████████████████████████████████████████████████████████████████| 7/7 [00:00<00:00, 291.61it/s]"
     ]
    },
    {
     "name": "stdout",
     "output_type": "stream",
     "text": [
      "--- Eval epoch-44, step-2520 ---\n",
      "pr_auc: 0.2508\n",
      "roc_auc: 0.6180\n",
      "f1: 0.0444\n",
      "loss: 0.4849\n",
      "\n"
     ]
    },
    {
     "name": "stderr",
     "output_type": "stream",
     "text": [
      "\n"
     ]
    },
    {
     "data": {
      "application/vnd.jupyter.widget-view+json": {
       "model_id": "34c386490d7449fdb2d03609cb1204dc",
       "version_major": 2,
       "version_minor": 0
      },
      "text/plain": [
       "Epoch 45 / 50:   0%|          | 0/56 [00:00<?, ?it/s]"
      ]
     },
     "metadata": {},
     "output_type": "display_data"
    },
    {
     "name": "stdout",
     "output_type": "stream",
     "text": [
      "--- Train epoch-45, step-2576 ---\n",
      "loss: 0.4392\n"
     ]
    },
    {
     "name": "stderr",
     "output_type": "stream",
     "text": [
      "Evaluation: 100%|███████████████████████████████████████████████████████████████████████| 7/7 [00:00<00:00, 282.10it/s]"
     ]
    },
    {
     "name": "stdout",
     "output_type": "stream",
     "text": [
      "--- Eval epoch-45, step-2576 ---\n",
      "pr_auc: 0.2511\n",
      "roc_auc: 0.6190\n",
      "f1: 0.0444\n",
      "loss: 0.4850\n",
      "\n"
     ]
    },
    {
     "name": "stderr",
     "output_type": "stream",
     "text": [
      "\n"
     ]
    },
    {
     "data": {
      "application/vnd.jupyter.widget-view+json": {
       "model_id": "8796298d30604ba5a3a53017733801c0",
       "version_major": 2,
       "version_minor": 0
      },
      "text/plain": [
       "Epoch 46 / 50:   0%|          | 0/56 [00:00<?, ?it/s]"
      ]
     },
     "metadata": {},
     "output_type": "display_data"
    },
    {
     "name": "stdout",
     "output_type": "stream",
     "text": [
      "--- Train epoch-46, step-2632 ---\n",
      "loss: 0.4438\n"
     ]
    },
    {
     "name": "stderr",
     "output_type": "stream",
     "text": [
      "Evaluation: 100%|███████████████████████████████████████████████████████████████████████| 7/7 [00:00<00:00, 299.17it/s]"
     ]
    },
    {
     "name": "stdout",
     "output_type": "stream",
     "text": [
      "--- Eval epoch-46, step-2632 ---\n",
      "pr_auc: 0.2587\n",
      "roc_auc: 0.6188\n",
      "f1: 0.0435\n",
      "loss: 0.4848\n",
      "\n"
     ]
    },
    {
     "name": "stderr",
     "output_type": "stream",
     "text": [
      "\n"
     ]
    },
    {
     "data": {
      "application/vnd.jupyter.widget-view+json": {
       "model_id": "5a6feef1b38d49588f4f6a91a836c0cf",
       "version_major": 2,
       "version_minor": 0
      },
      "text/plain": [
       "Epoch 47 / 50:   0%|          | 0/56 [00:00<?, ?it/s]"
      ]
     },
     "metadata": {},
     "output_type": "display_data"
    },
    {
     "name": "stdout",
     "output_type": "stream",
     "text": [
      "--- Train epoch-47, step-2688 ---\n",
      "loss: 0.4409\n"
     ]
    },
    {
     "name": "stderr",
     "output_type": "stream",
     "text": [
      "Evaluation: 100%|███████████████████████████████████████████████████████████████████████| 7/7 [00:00<00:00, 247.69it/s]"
     ]
    },
    {
     "name": "stdout",
     "output_type": "stream",
     "text": [
      "--- Eval epoch-47, step-2688 ---\n",
      "pr_auc: 0.2565\n",
      "roc_auc: 0.6193\n",
      "f1: 0.0435\n",
      "loss: 0.4857\n",
      "New best roc_auc score (0.6193) at epoch-47, step-2688\n",
      "\n"
     ]
    },
    {
     "name": "stderr",
     "output_type": "stream",
     "text": [
      "\n"
     ]
    },
    {
     "data": {
      "application/vnd.jupyter.widget-view+json": {
       "model_id": "9ba671e3b3a144b1920a88409142ccc0",
       "version_major": 2,
       "version_minor": 0
      },
      "text/plain": [
       "Epoch 48 / 50:   0%|          | 0/56 [00:00<?, ?it/s]"
      ]
     },
     "metadata": {},
     "output_type": "display_data"
    },
    {
     "name": "stdout",
     "output_type": "stream",
     "text": [
      "--- Train epoch-48, step-2744 ---\n",
      "loss: 0.4370\n"
     ]
    },
    {
     "name": "stderr",
     "output_type": "stream",
     "text": [
      "Evaluation: 100%|███████████████████████████████████████████████████████████████████████| 7/7 [00:00<00:00, 274.30it/s]"
     ]
    },
    {
     "name": "stdout",
     "output_type": "stream",
     "text": [
      "--- Eval epoch-48, step-2744 ---\n",
      "pr_auc: 0.2556\n",
      "roc_auc: 0.6193\n",
      "f1: 0.0435\n",
      "loss: 0.4860\n",
      "\n"
     ]
    },
    {
     "name": "stderr",
     "output_type": "stream",
     "text": [
      "\n"
     ]
    },
    {
     "data": {
      "application/vnd.jupyter.widget-view+json": {
       "model_id": "d228cd6f91964ba0a5aefc9ce6ee01b5",
       "version_major": 2,
       "version_minor": 0
      },
      "text/plain": [
       "Epoch 49 / 50:   0%|          | 0/56 [00:00<?, ?it/s]"
      ]
     },
     "metadata": {},
     "output_type": "display_data"
    },
    {
     "name": "stdout",
     "output_type": "stream",
     "text": [
      "--- Train epoch-49, step-2800 ---\n",
      "loss: 0.4271\n"
     ]
    },
    {
     "name": "stderr",
     "output_type": "stream",
     "text": [
      "Evaluation: 100%|███████████████████████████████████████████████████████████████████████| 7/7 [00:00<00:00, 277.27it/s]"
     ]
    },
    {
     "name": "stdout",
     "output_type": "stream",
     "text": [
      "--- Eval epoch-49, step-2800 ---\n",
      "pr_auc: 0.2538\n",
      "roc_auc: 0.6208\n",
      "f1: 0.0435\n",
      "loss: 0.4864\n",
      "New best roc_auc score (0.6208) at epoch-49, step-2800\n",
      "Loaded best model\n",
      "Training started at: 2024-05-05 22:36:51.767251\n",
      "Training ended at: 2024-05-05 22:37:27.825557\n",
      "Total elapsed time: 0:00:36.058306\n",
      "Average epoch time: 0:00:00.721166\n"
     ]
    },
    {
     "name": "stderr",
     "output_type": "stream",
     "text": [
      "\n"
     ]
    }
   ],
   "source": [
    "# Simple model training\n",
    "from datetime import datetime\n",
    "\n",
    "start_time = datetime.now()\n",
    "\n",
    "base_trainer = Trainer(model=base_model)\n",
    "base_trainer.train(\n",
    "    train_dataloader=train_dataloader,\n",
    "    val_dataloader=val_dataloader,\n",
    "    epochs=50,\n",
    "    optimizer_class=torch.optim.Adam,\n",
    "    optimizer_params={\"lr\": 1e-4},\n",
    "    monitor=\"roc_auc\",\n",
    ")\n",
    "\n",
    "end_time = datetime.now()\n",
    "print(f\"Training started at: {start_time}\")\n",
    "print(f\"Training ended at: {end_time}\")\n",
    "print(f\"Total elapsed time: {end_time - start_time}\")\n",
    "print(f\"Average epoch time: {(end_time - start_time)/50}\")"
   ]
  },
  {
   "cell_type": "code",
   "execution_count": 16,
   "metadata": {
    "id": "cliErrhhHvpt"
   },
   "outputs": [
    {
     "name": "stdout",
     "output_type": "stream",
     "text": [
      "RNN(\n",
      "  (embeddings): ModuleDict(\n",
      "    (conditions): Embedding(257, 128, padding_idx=0)\n",
      "    (procedures): Embedding(174, 128, padding_idx=0)\n",
      "  )\n",
      "  (linear_layers): ModuleDict(\n",
      "    (visit_diff): Linear(in_features=4, out_features=128, bias=True)\n",
      "  )\n",
      "  (rnn): ModuleDict(\n",
      "    (conditions): RNNLayer(\n",
      "      (dropout_layer): Dropout(p=0.5, inplace=False)\n",
      "      (rnn): LSTM(128, 128, batch_first=True)\n",
      "    )\n",
      "    (procedures): RNNLayer(\n",
      "      (dropout_layer): Dropout(p=0.5, inplace=False)\n",
      "      (rnn): LSTM(128, 128, batch_first=True)\n",
      "    )\n",
      "    (visit_diff): RNNLayer(\n",
      "      (dropout_layer): Dropout(p=0.5, inplace=False)\n",
      "      (rnn): LSTM(128, 128, batch_first=True)\n",
      "    )\n",
      "  )\n",
      "  (fc): Linear(in_features=384, out_features=1, bias=True)\n",
      ")\n",
      "Metrics: None\n",
      "Device: cpu\n",
      "\n",
      "Training:\n",
      "Batch size: 32\n",
      "Optimizer: <class 'torch.optim.adam.Adam'>\n",
      "Optimizer params: {'lr': 0.0001}\n",
      "Weight decay: 0.0\n",
      "Max grad norm: None\n",
      "Val dataloader: <torch.utils.data.dataloader.DataLoader object at 0x000002637EC20690>\n",
      "Monitor: roc_auc\n",
      "Monitor criterion: max\n",
      "Epochs: 50\n",
      "\n"
     ]
    },
    {
     "data": {
      "application/vnd.jupyter.widget-view+json": {
       "model_id": "68b56e294a144ecc9a654e48f1663cbd",
       "version_major": 2,
       "version_minor": 0
      },
      "text/plain": [
       "Epoch 0 / 50:   0%|          | 0/56 [00:00<?, ?it/s]"
      ]
     },
     "metadata": {},
     "output_type": "display_data"
    },
    {
     "name": "stdout",
     "output_type": "stream",
     "text": [
      "--- Train epoch-0, step-56 ---\n",
      "loss: 0.6451\n"
     ]
    },
    {
     "name": "stderr",
     "output_type": "stream",
     "text": [
      "Evaluation: 100%|███████████████████████████████████████████████████████████████████████| 7/7 [00:00<00:00, 206.81it/s]"
     ]
    },
    {
     "name": "stdout",
     "output_type": "stream",
     "text": [
      "--- Eval epoch-0, step-56 ---\n",
      "pr_auc: 0.2216\n",
      "roc_auc: 0.5000\n",
      "f1: 0.0000\n",
      "loss: 0.5791\n",
      "New best roc_auc score (0.5000) at epoch-0, step-56\n",
      "\n"
     ]
    },
    {
     "name": "stderr",
     "output_type": "stream",
     "text": [
      "\n"
     ]
    },
    {
     "data": {
      "application/vnd.jupyter.widget-view+json": {
       "model_id": "700580ca15aa4680a3713d635a0766cc",
       "version_major": 2,
       "version_minor": 0
      },
      "text/plain": [
       "Epoch 1 / 50:   0%|          | 0/56 [00:00<?, ?it/s]"
      ]
     },
     "metadata": {},
     "output_type": "display_data"
    },
    {
     "name": "stdout",
     "output_type": "stream",
     "text": [
      "--- Train epoch-1, step-112 ---\n",
      "loss: 0.5765\n"
     ]
    },
    {
     "name": "stderr",
     "output_type": "stream",
     "text": [
      "Evaluation: 100%|███████████████████████████████████████████████████████████████████████| 7/7 [00:00<00:00, 204.66it/s]"
     ]
    },
    {
     "name": "stdout",
     "output_type": "stream",
     "text": [
      "--- Eval epoch-1, step-112 ---\n",
      "pr_auc: 0.2124\n",
      "roc_auc: 0.4901\n",
      "f1: 0.0000\n",
      "loss: 0.5160\n",
      "\n"
     ]
    },
    {
     "name": "stderr",
     "output_type": "stream",
     "text": [
      "\n"
     ]
    },
    {
     "data": {
      "application/vnd.jupyter.widget-view+json": {
       "model_id": "1fce32df5a3943bc9ad7dbbc53d245ae",
       "version_major": 2,
       "version_minor": 0
      },
      "text/plain": [
       "Epoch 2 / 50:   0%|          | 0/56 [00:00<?, ?it/s]"
      ]
     },
     "metadata": {},
     "output_type": "display_data"
    },
    {
     "name": "stdout",
     "output_type": "stream",
     "text": [
      "--- Train epoch-2, step-168 ---\n",
      "loss: 0.5328\n"
     ]
    },
    {
     "name": "stderr",
     "output_type": "stream",
     "text": [
      "Evaluation: 100%|███████████████████████████████████████████████████████████████████████| 7/7 [00:00<00:00, 207.61it/s]"
     ]
    },
    {
     "name": "stdout",
     "output_type": "stream",
     "text": [
      "--- Eval epoch-2, step-168 ---\n",
      "pr_auc: 0.2135\n",
      "roc_auc: 0.4940\n",
      "f1: 0.0000\n",
      "loss: 0.4943\n",
      "\n"
     ]
    },
    {
     "name": "stderr",
     "output_type": "stream",
     "text": [
      "\n"
     ]
    },
    {
     "data": {
      "application/vnd.jupyter.widget-view+json": {
       "model_id": "312abd871bd44442803bb0cfc4e0fe0e",
       "version_major": 2,
       "version_minor": 0
      },
      "text/plain": [
       "Epoch 3 / 50:   0%|          | 0/56 [00:00<?, ?it/s]"
      ]
     },
     "metadata": {},
     "output_type": "display_data"
    },
    {
     "name": "stdout",
     "output_type": "stream",
     "text": [
      "--- Train epoch-3, step-224 ---\n",
      "loss: 0.5212\n"
     ]
    },
    {
     "name": "stderr",
     "output_type": "stream",
     "text": [
      "Evaluation: 100%|███████████████████████████████████████████████████████████████████████| 7/7 [00:00<00:00, 210.72it/s]"
     ]
    },
    {
     "name": "stdout",
     "output_type": "stream",
     "text": [
      "--- Eval epoch-3, step-224 ---\n",
      "pr_auc: 0.2115\n",
      "roc_auc: 0.4915\n",
      "f1: 0.0000\n",
      "loss: 0.4902\n",
      "\n"
     ]
    },
    {
     "name": "stderr",
     "output_type": "stream",
     "text": [
      "\n"
     ]
    },
    {
     "data": {
      "application/vnd.jupyter.widget-view+json": {
       "model_id": "d8c97b4e439143f8bb32f4074c22263f",
       "version_major": 2,
       "version_minor": 0
      },
      "text/plain": [
       "Epoch 4 / 50:   0%|          | 0/56 [00:00<?, ?it/s]"
      ]
     },
     "metadata": {},
     "output_type": "display_data"
    },
    {
     "name": "stdout",
     "output_type": "stream",
     "text": [
      "--- Train epoch-4, step-280 ---\n",
      "loss: 0.5173\n"
     ]
    },
    {
     "name": "stderr",
     "output_type": "stream",
     "text": [
      "Evaluation: 100%|███████████████████████████████████████████████████████████████████████| 7/7 [00:00<00:00, 188.21it/s]"
     ]
    },
    {
     "name": "stdout",
     "output_type": "stream",
     "text": [
      "--- Eval epoch-4, step-280 ---\n",
      "pr_auc: 0.2056\n",
      "roc_auc: 0.5020\n",
      "f1: 0.0000\n",
      "loss: 0.4884\n",
      "New best roc_auc score (0.5020) at epoch-4, step-280\n",
      "\n"
     ]
    },
    {
     "name": "stderr",
     "output_type": "stream",
     "text": [
      "\n"
     ]
    },
    {
     "data": {
      "application/vnd.jupyter.widget-view+json": {
       "model_id": "76d9df037e384b239ea9db48d52b7ff5",
       "version_major": 2,
       "version_minor": 0
      },
      "text/plain": [
       "Epoch 5 / 50:   0%|          | 0/56 [00:00<?, ?it/s]"
      ]
     },
     "metadata": {},
     "output_type": "display_data"
    },
    {
     "name": "stdout",
     "output_type": "stream",
     "text": [
      "--- Train epoch-5, step-336 ---\n",
      "loss: 0.5157\n"
     ]
    },
    {
     "name": "stderr",
     "output_type": "stream",
     "text": [
      "Evaluation: 100%|███████████████████████████████████████████████████████████████████████| 7/7 [00:00<00:00, 201.87it/s]"
     ]
    },
    {
     "name": "stdout",
     "output_type": "stream",
     "text": [
      "--- Eval epoch-5, step-336 ---\n",
      "pr_auc: 0.2133\n",
      "roc_auc: 0.5114\n",
      "f1: 0.0000\n",
      "loss: 0.4869\n",
      "New best roc_auc score (0.5114) at epoch-5, step-336\n",
      "\n"
     ]
    },
    {
     "name": "stderr",
     "output_type": "stream",
     "text": [
      "\n"
     ]
    },
    {
     "data": {
      "application/vnd.jupyter.widget-view+json": {
       "model_id": "e8e61cf9b6bd42aea5ed9abba22a6f70",
       "version_major": 2,
       "version_minor": 0
      },
      "text/plain": [
       "Epoch 6 / 50:   0%|          | 0/56 [00:00<?, ?it/s]"
      ]
     },
     "metadata": {},
     "output_type": "display_data"
    },
    {
     "name": "stdout",
     "output_type": "stream",
     "text": [
      "--- Train epoch-6, step-392 ---\n",
      "loss: 0.5122\n"
     ]
    },
    {
     "name": "stderr",
     "output_type": "stream",
     "text": [
      "Evaluation: 100%|███████████████████████████████████████████████████████████████████████| 7/7 [00:00<00:00, 183.39it/s]"
     ]
    },
    {
     "name": "stdout",
     "output_type": "stream",
     "text": [
      "--- Eval epoch-6, step-392 ---\n",
      "pr_auc: 0.2164\n",
      "roc_auc: 0.5181\n",
      "f1: 0.0000\n",
      "loss: 0.4857\n",
      "New best roc_auc score (0.5181) at epoch-6, step-392\n",
      "\n"
     ]
    },
    {
     "name": "stderr",
     "output_type": "stream",
     "text": [
      "\n"
     ]
    },
    {
     "data": {
      "application/vnd.jupyter.widget-view+json": {
       "model_id": "23a2ee2dedd84cd7bd7ea770eaac3409",
       "version_major": 2,
       "version_minor": 0
      },
      "text/plain": [
       "Epoch 7 / 50:   0%|          | 0/56 [00:00<?, ?it/s]"
      ]
     },
     "metadata": {},
     "output_type": "display_data"
    },
    {
     "name": "stdout",
     "output_type": "stream",
     "text": [
      "--- Train epoch-7, step-448 ---\n",
      "loss: 0.5119\n"
     ]
    },
    {
     "name": "stderr",
     "output_type": "stream",
     "text": [
      "Evaluation: 100%|███████████████████████████████████████████████████████████████████████| 7/7 [00:00<00:00, 188.58it/s]"
     ]
    },
    {
     "name": "stdout",
     "output_type": "stream",
     "text": [
      "--- Eval epoch-7, step-448 ---\n",
      "pr_auc: 0.2219\n",
      "roc_auc: 0.5284\n",
      "f1: 0.0000\n",
      "loss: 0.4848\n",
      "New best roc_auc score (0.5284) at epoch-7, step-448\n",
      "\n"
     ]
    },
    {
     "name": "stderr",
     "output_type": "stream",
     "text": [
      "\n"
     ]
    },
    {
     "data": {
      "application/vnd.jupyter.widget-view+json": {
       "model_id": "31724f4845974a30a8b76a2a458b96f4",
       "version_major": 2,
       "version_minor": 0
      },
      "text/plain": [
       "Epoch 8 / 50:   0%|          | 0/56 [00:00<?, ?it/s]"
      ]
     },
     "metadata": {},
     "output_type": "display_data"
    },
    {
     "name": "stdout",
     "output_type": "stream",
     "text": [
      "--- Train epoch-8, step-504 ---\n",
      "loss: 0.5090\n"
     ]
    },
    {
     "name": "stderr",
     "output_type": "stream",
     "text": [
      "Evaluation: 100%|███████████████████████████████████████████████████████████████████████| 7/7 [00:00<00:00, 178.30it/s]"
     ]
    },
    {
     "name": "stdout",
     "output_type": "stream",
     "text": [
      "--- Eval epoch-8, step-504 ---\n",
      "pr_auc: 0.2228\n",
      "roc_auc: 0.5356\n",
      "f1: 0.0000\n",
      "loss: 0.4841\n",
      "New best roc_auc score (0.5356) at epoch-8, step-504\n",
      "\n"
     ]
    },
    {
     "name": "stderr",
     "output_type": "stream",
     "text": [
      "\n"
     ]
    },
    {
     "data": {
      "application/vnd.jupyter.widget-view+json": {
       "model_id": "f75b623f0d9b42f3aac0f5df00e6c142",
       "version_major": 2,
       "version_minor": 0
      },
      "text/plain": [
       "Epoch 9 / 50:   0%|          | 0/56 [00:00<?, ?it/s]"
      ]
     },
     "metadata": {},
     "output_type": "display_data"
    },
    {
     "name": "stdout",
     "output_type": "stream",
     "text": [
      "--- Train epoch-9, step-560 ---\n",
      "loss: 0.5087\n"
     ]
    },
    {
     "name": "stderr",
     "output_type": "stream",
     "text": [
      "Evaluation: 100%|███████████████████████████████████████████████████████████████████████| 7/7 [00:00<00:00, 183.90it/s]"
     ]
    },
    {
     "name": "stdout",
     "output_type": "stream",
     "text": [
      "--- Eval epoch-9, step-560 ---\n",
      "pr_auc: 0.2264\n",
      "roc_auc: 0.5478\n",
      "f1: 0.0000\n",
      "loss: 0.4832\n",
      "New best roc_auc score (0.5478) at epoch-9, step-560\n",
      "\n"
     ]
    },
    {
     "name": "stderr",
     "output_type": "stream",
     "text": [
      "\n"
     ]
    },
    {
     "data": {
      "application/vnd.jupyter.widget-view+json": {
       "model_id": "5260d6a25aea48569cb3de0a14a2b70b",
       "version_major": 2,
       "version_minor": 0
      },
      "text/plain": [
       "Epoch 10 / 50:   0%|          | 0/56 [00:00<?, ?it/s]"
      ]
     },
     "metadata": {},
     "output_type": "display_data"
    },
    {
     "name": "stdout",
     "output_type": "stream",
     "text": [
      "--- Train epoch-10, step-616 ---\n",
      "loss: 0.5048\n"
     ]
    },
    {
     "name": "stderr",
     "output_type": "stream",
     "text": [
      "Evaluation: 100%|███████████████████████████████████████████████████████████████████████| 7/7 [00:00<00:00, 218.88it/s]"
     ]
    },
    {
     "name": "stdout",
     "output_type": "stream",
     "text": [
      "--- Eval epoch-10, step-616 ---\n",
      "pr_auc: 0.2380\n",
      "roc_auc: 0.5528\n",
      "f1: 0.0000\n",
      "loss: 0.4825\n",
      "New best roc_auc score (0.5528) at epoch-10, step-616\n",
      "\n"
     ]
    },
    {
     "name": "stderr",
     "output_type": "stream",
     "text": [
      "\n"
     ]
    },
    {
     "data": {
      "application/vnd.jupyter.widget-view+json": {
       "model_id": "bc9920b29f9b4577898ea5e214639462",
       "version_major": 2,
       "version_minor": 0
      },
      "text/plain": [
       "Epoch 11 / 50:   0%|          | 0/56 [00:00<?, ?it/s]"
      ]
     },
     "metadata": {},
     "output_type": "display_data"
    },
    {
     "name": "stdout",
     "output_type": "stream",
     "text": [
      "--- Train epoch-11, step-672 ---\n",
      "loss: 0.5062\n"
     ]
    },
    {
     "name": "stderr",
     "output_type": "stream",
     "text": [
      "Evaluation: 100%|███████████████████████████████████████████████████████████████████████| 7/7 [00:00<00:00, 202.81it/s]"
     ]
    },
    {
     "name": "stdout",
     "output_type": "stream",
     "text": [
      "--- Eval epoch-11, step-672 ---\n",
      "pr_auc: 0.2346\n",
      "roc_auc: 0.5577\n",
      "f1: 0.0000\n",
      "loss: 0.4822\n",
      "New best roc_auc score (0.5577) at epoch-11, step-672\n",
      "\n"
     ]
    },
    {
     "name": "stderr",
     "output_type": "stream",
     "text": [
      "\n"
     ]
    },
    {
     "data": {
      "application/vnd.jupyter.widget-view+json": {
       "model_id": "fc581410f31e45d191379b273bc513ff",
       "version_major": 2,
       "version_minor": 0
      },
      "text/plain": [
       "Epoch 12 / 50:   0%|          | 0/56 [00:00<?, ?it/s]"
      ]
     },
     "metadata": {},
     "output_type": "display_data"
    },
    {
     "name": "stdout",
     "output_type": "stream",
     "text": [
      "--- Train epoch-12, step-728 ---\n",
      "loss: 0.5037\n"
     ]
    },
    {
     "name": "stderr",
     "output_type": "stream",
     "text": [
      "Evaluation: 100%|███████████████████████████████████████████████████████████████████████| 7/7 [00:00<00:00, 188.09it/s]"
     ]
    },
    {
     "name": "stdout",
     "output_type": "stream",
     "text": [
      "--- Eval epoch-12, step-728 ---\n",
      "pr_auc: 0.2381\n",
      "roc_auc: 0.5663\n",
      "f1: 0.0000\n",
      "loss: 0.4812\n",
      "New best roc_auc score (0.5663) at epoch-12, step-728\n",
      "\n"
     ]
    },
    {
     "name": "stderr",
     "output_type": "stream",
     "text": [
      "\n"
     ]
    },
    {
     "data": {
      "application/vnd.jupyter.widget-view+json": {
       "model_id": "b89598fc032948b8b0685ee5a3a43167",
       "version_major": 2,
       "version_minor": 0
      },
      "text/plain": [
       "Epoch 13 / 50:   0%|          | 0/56 [00:00<?, ?it/s]"
      ]
     },
     "metadata": {},
     "output_type": "display_data"
    },
    {
     "name": "stdout",
     "output_type": "stream",
     "text": [
      "--- Train epoch-13, step-784 ---\n",
      "loss: 0.4996\n"
     ]
    },
    {
     "name": "stderr",
     "output_type": "stream",
     "text": [
      "Evaluation: 100%|███████████████████████████████████████████████████████████████████████| 7/7 [00:00<00:00, 205.89it/s]"
     ]
    },
    {
     "name": "stdout",
     "output_type": "stream",
     "text": [
      "--- Eval epoch-13, step-784 ---\n",
      "pr_auc: 0.2268\n",
      "roc_auc: 0.5729\n",
      "f1: 0.0000\n",
      "loss: 0.4804\n",
      "New best roc_auc score (0.5729) at epoch-13, step-784\n",
      "\n"
     ]
    },
    {
     "name": "stderr",
     "output_type": "stream",
     "text": [
      "\n"
     ]
    },
    {
     "data": {
      "application/vnd.jupyter.widget-view+json": {
       "model_id": "32c4f1d3bfb641e4a1a0be23bca2b79f",
       "version_major": 2,
       "version_minor": 0
      },
      "text/plain": [
       "Epoch 14 / 50:   0%|          | 0/56 [00:00<?, ?it/s]"
      ]
     },
     "metadata": {},
     "output_type": "display_data"
    },
    {
     "name": "stdout",
     "output_type": "stream",
     "text": [
      "--- Train epoch-14, step-840 ---\n",
      "loss: 0.5032\n"
     ]
    },
    {
     "name": "stderr",
     "output_type": "stream",
     "text": [
      "Evaluation: 100%|███████████████████████████████████████████████████████████████████████| 7/7 [00:00<00:00, 198.73it/s]"
     ]
    },
    {
     "name": "stdout",
     "output_type": "stream",
     "text": [
      "--- Eval epoch-14, step-840 ---\n",
      "pr_auc: 0.2261\n",
      "roc_auc: 0.5810\n",
      "f1: 0.0000\n",
      "loss: 0.4799\n",
      "New best roc_auc score (0.5810) at epoch-14, step-840\n",
      "\n"
     ]
    },
    {
     "name": "stderr",
     "output_type": "stream",
     "text": [
      "\n"
     ]
    },
    {
     "data": {
      "application/vnd.jupyter.widget-view+json": {
       "model_id": "647d07fd5ba34d55877032c8d69fa0db",
       "version_major": 2,
       "version_minor": 0
      },
      "text/plain": [
       "Epoch 15 / 50:   0%|          | 0/56 [00:00<?, ?it/s]"
      ]
     },
     "metadata": {},
     "output_type": "display_data"
    },
    {
     "name": "stdout",
     "output_type": "stream",
     "text": [
      "--- Train epoch-15, step-896 ---\n",
      "loss: 0.5016\n"
     ]
    },
    {
     "name": "stderr",
     "output_type": "stream",
     "text": [
      "Evaluation: 100%|███████████████████████████████████████████████████████████████████████| 7/7 [00:00<00:00, 196.77it/s]"
     ]
    },
    {
     "name": "stdout",
     "output_type": "stream",
     "text": [
      "--- Eval epoch-15, step-896 ---\n",
      "pr_auc: 0.2202\n",
      "roc_auc: 0.5841\n",
      "f1: 0.0000\n",
      "loss: 0.4799\n",
      "New best roc_auc score (0.5841) at epoch-15, step-896\n",
      "\n"
     ]
    },
    {
     "name": "stderr",
     "output_type": "stream",
     "text": [
      "\n"
     ]
    },
    {
     "data": {
      "application/vnd.jupyter.widget-view+json": {
       "model_id": "6a09549d1d9c4c6c8d4aff6a0c13f751",
       "version_major": 2,
       "version_minor": 0
      },
      "text/plain": [
       "Epoch 16 / 50:   0%|          | 0/56 [00:00<?, ?it/s]"
      ]
     },
     "metadata": {},
     "output_type": "display_data"
    },
    {
     "name": "stdout",
     "output_type": "stream",
     "text": [
      "--- Train epoch-16, step-952 ---\n",
      "loss: 0.4980\n"
     ]
    },
    {
     "name": "stderr",
     "output_type": "stream",
     "text": [
      "Evaluation: 100%|███████████████████████████████████████████████████████████████████████| 7/7 [00:00<00:00, 204.35it/s]"
     ]
    },
    {
     "name": "stdout",
     "output_type": "stream",
     "text": [
      "--- Eval epoch-16, step-952 ---\n",
      "pr_auc: 0.2239\n",
      "roc_auc: 0.5899\n",
      "f1: 0.0000\n",
      "loss: 0.4795\n",
      "New best roc_auc score (0.5899) at epoch-16, step-952\n",
      "\n"
     ]
    },
    {
     "name": "stderr",
     "output_type": "stream",
     "text": [
      "\n"
     ]
    },
    {
     "data": {
      "application/vnd.jupyter.widget-view+json": {
       "model_id": "761f2c1879824444a72dfabe0bb7106f",
       "version_major": 2,
       "version_minor": 0
      },
      "text/plain": [
       "Epoch 17 / 50:   0%|          | 0/56 [00:00<?, ?it/s]"
      ]
     },
     "metadata": {},
     "output_type": "display_data"
    },
    {
     "name": "stdout",
     "output_type": "stream",
     "text": [
      "--- Train epoch-17, step-1008 ---\n",
      "loss: 0.4961\n"
     ]
    },
    {
     "name": "stderr",
     "output_type": "stream",
     "text": [
      "Evaluation: 100%|███████████████████████████████████████████████████████████████████████| 7/7 [00:00<00:00, 182.63it/s]"
     ]
    },
    {
     "name": "stdout",
     "output_type": "stream",
     "text": [
      "--- Eval epoch-17, step-1008 ---\n",
      "pr_auc: 0.2279\n",
      "roc_auc: 0.5976\n",
      "f1: 0.0000\n",
      "loss: 0.4785\n",
      "New best roc_auc score (0.5976) at epoch-17, step-1008\n",
      "\n"
     ]
    },
    {
     "name": "stderr",
     "output_type": "stream",
     "text": [
      "\n"
     ]
    },
    {
     "data": {
      "application/vnd.jupyter.widget-view+json": {
       "model_id": "a9e5b521e1d84ad880e6929086ad87bc",
       "version_major": 2,
       "version_minor": 0
      },
      "text/plain": [
       "Epoch 18 / 50:   0%|          | 0/56 [00:00<?, ?it/s]"
      ]
     },
     "metadata": {},
     "output_type": "display_data"
    },
    {
     "name": "stdout",
     "output_type": "stream",
     "text": [
      "--- Train epoch-18, step-1064 ---\n",
      "loss: 0.4954\n"
     ]
    },
    {
     "name": "stderr",
     "output_type": "stream",
     "text": [
      "Evaluation: 100%|███████████████████████████████████████████████████████████████████████| 7/7 [00:00<00:00, 190.43it/s]"
     ]
    },
    {
     "name": "stdout",
     "output_type": "stream",
     "text": [
      "--- Eval epoch-18, step-1064 ---\n",
      "pr_auc: 0.2334\n",
      "roc_auc: 0.6028\n",
      "f1: 0.0000\n",
      "loss: 0.4782\n",
      "New best roc_auc score (0.6028) at epoch-18, step-1064\n",
      "\n"
     ]
    },
    {
     "name": "stderr",
     "output_type": "stream",
     "text": [
      "\n"
     ]
    },
    {
     "data": {
      "application/vnd.jupyter.widget-view+json": {
       "model_id": "91f0f743db184bdba261d63cf6dfe9ee",
       "version_major": 2,
       "version_minor": 0
      },
      "text/plain": [
       "Epoch 19 / 50:   0%|          | 0/56 [00:00<?, ?it/s]"
      ]
     },
     "metadata": {},
     "output_type": "display_data"
    },
    {
     "name": "stdout",
     "output_type": "stream",
     "text": [
      "--- Train epoch-19, step-1120 ---\n",
      "loss: 0.4925\n"
     ]
    },
    {
     "name": "stderr",
     "output_type": "stream",
     "text": [
      "Evaluation: 100%|███████████████████████████████████████████████████████████████████████| 7/7 [00:00<00:00, 187.28it/s]"
     ]
    },
    {
     "name": "stdout",
     "output_type": "stream",
     "text": [
      "--- Eval epoch-19, step-1120 ---\n",
      "pr_auc: 0.2330\n",
      "roc_auc: 0.6038\n",
      "f1: 0.0000\n",
      "loss: 0.4779\n",
      "New best roc_auc score (0.6038) at epoch-19, step-1120\n",
      "\n"
     ]
    },
    {
     "name": "stderr",
     "output_type": "stream",
     "text": [
      "\n"
     ]
    },
    {
     "data": {
      "application/vnd.jupyter.widget-view+json": {
       "model_id": "b736cbeefe0d48528e2190aff728c509",
       "version_major": 2,
       "version_minor": 0
      },
      "text/plain": [
       "Epoch 20 / 50:   0%|          | 0/56 [00:00<?, ?it/s]"
      ]
     },
     "metadata": {},
     "output_type": "display_data"
    },
    {
     "name": "stdout",
     "output_type": "stream",
     "text": [
      "--- Train epoch-20, step-1176 ---\n",
      "loss: 0.4870\n"
     ]
    },
    {
     "name": "stderr",
     "output_type": "stream",
     "text": [
      "Evaluation: 100%|███████████████████████████████████████████████████████████████████████| 7/7 [00:00<00:00, 198.63it/s]"
     ]
    },
    {
     "name": "stdout",
     "output_type": "stream",
     "text": [
      "--- Eval epoch-20, step-1176 ---\n",
      "pr_auc: 0.2323\n",
      "roc_auc: 0.6056\n",
      "f1: 0.0000\n",
      "loss: 0.4784\n",
      "New best roc_auc score (0.6056) at epoch-20, step-1176\n",
      "\n"
     ]
    },
    {
     "name": "stderr",
     "output_type": "stream",
     "text": [
      "\n"
     ]
    },
    {
     "data": {
      "application/vnd.jupyter.widget-view+json": {
       "model_id": "f68f05560aa54d9180f6daec75b3a3e4",
       "version_major": 2,
       "version_minor": 0
      },
      "text/plain": [
       "Epoch 21 / 50:   0%|          | 0/56 [00:00<?, ?it/s]"
      ]
     },
     "metadata": {},
     "output_type": "display_data"
    },
    {
     "name": "stdout",
     "output_type": "stream",
     "text": [
      "--- Train epoch-21, step-1232 ---\n",
      "loss: 0.4870\n"
     ]
    },
    {
     "name": "stderr",
     "output_type": "stream",
     "text": [
      "Evaluation: 100%|███████████████████████████████████████████████████████████████████████| 7/7 [00:00<00:00, 169.21it/s]"
     ]
    },
    {
     "name": "stdout",
     "output_type": "stream",
     "text": [
      "--- Eval epoch-21, step-1232 ---\n",
      "pr_auc: 0.2334\n",
      "roc_auc: 0.6073\n",
      "f1: 0.0000\n",
      "loss: 0.4780\n",
      "New best roc_auc score (0.6073) at epoch-21, step-1232\n",
      "\n"
     ]
    },
    {
     "name": "stderr",
     "output_type": "stream",
     "text": [
      "\n"
     ]
    },
    {
     "data": {
      "application/vnd.jupyter.widget-view+json": {
       "model_id": "7781fc2289ba480fbe60c99ab49dad91",
       "version_major": 2,
       "version_minor": 0
      },
      "text/plain": [
       "Epoch 22 / 50:   0%|          | 0/56 [00:00<?, ?it/s]"
      ]
     },
     "metadata": {},
     "output_type": "display_data"
    },
    {
     "name": "stdout",
     "output_type": "stream",
     "text": [
      "--- Train epoch-22, step-1288 ---\n",
      "loss: 0.4862\n"
     ]
    },
    {
     "name": "stderr",
     "output_type": "stream",
     "text": [
      "Evaluation: 100%|███████████████████████████████████████████████████████████████████████| 7/7 [00:00<00:00, 222.73it/s]"
     ]
    },
    {
     "name": "stdout",
     "output_type": "stream",
     "text": [
      "--- Eval epoch-22, step-1288 ---\n",
      "pr_auc: 0.2302\n",
      "roc_auc: 0.6108\n",
      "f1: 0.0000\n",
      "loss: 0.4775\n",
      "New best roc_auc score (0.6108) at epoch-22, step-1288\n",
      "\n"
     ]
    },
    {
     "name": "stderr",
     "output_type": "stream",
     "text": [
      "\n"
     ]
    },
    {
     "data": {
      "application/vnd.jupyter.widget-view+json": {
       "model_id": "dd899375da774faf9f605909ef8d2153",
       "version_major": 2,
       "version_minor": 0
      },
      "text/plain": [
       "Epoch 23 / 50:   0%|          | 0/56 [00:00<?, ?it/s]"
      ]
     },
     "metadata": {},
     "output_type": "display_data"
    },
    {
     "name": "stdout",
     "output_type": "stream",
     "text": [
      "--- Train epoch-23, step-1344 ---\n",
      "loss: 0.4882\n"
     ]
    },
    {
     "name": "stderr",
     "output_type": "stream",
     "text": [
      "Evaluation: 100%|███████████████████████████████████████████████████████████████████████| 7/7 [00:00<00:00, 187.98it/s]"
     ]
    },
    {
     "name": "stdout",
     "output_type": "stream",
     "text": [
      "--- Eval epoch-23, step-1344 ---\n",
      "pr_auc: 0.2351\n",
      "roc_auc: 0.6144\n",
      "f1: 0.0000\n",
      "loss: 0.4774\n",
      "New best roc_auc score (0.6144) at epoch-23, step-1344\n",
      "\n"
     ]
    },
    {
     "name": "stderr",
     "output_type": "stream",
     "text": [
      "\n"
     ]
    },
    {
     "data": {
      "application/vnd.jupyter.widget-view+json": {
       "model_id": "6a2881def1934388bbbd2c3ae175e5e9",
       "version_major": 2,
       "version_minor": 0
      },
      "text/plain": [
       "Epoch 24 / 50:   0%|          | 0/56 [00:00<?, ?it/s]"
      ]
     },
     "metadata": {},
     "output_type": "display_data"
    },
    {
     "name": "stdout",
     "output_type": "stream",
     "text": [
      "--- Train epoch-24, step-1400 ---\n",
      "loss: 0.4841\n"
     ]
    },
    {
     "name": "stderr",
     "output_type": "stream",
     "text": [
      "Evaluation: 100%|███████████████████████████████████████████████████████████████████████| 7/7 [00:00<00:00, 212.52it/s]"
     ]
    },
    {
     "name": "stdout",
     "output_type": "stream",
     "text": [
      "--- Eval epoch-24, step-1400 ---\n",
      "pr_auc: 0.2357\n",
      "roc_auc: 0.6165\n",
      "f1: 0.0000\n",
      "loss: 0.4777\n",
      "New best roc_auc score (0.6165) at epoch-24, step-1400\n",
      "\n"
     ]
    },
    {
     "name": "stderr",
     "output_type": "stream",
     "text": [
      "\n"
     ]
    },
    {
     "data": {
      "application/vnd.jupyter.widget-view+json": {
       "model_id": "ef2667b6159f4e86971db124cfaf4357",
       "version_major": 2,
       "version_minor": 0
      },
      "text/plain": [
       "Epoch 25 / 50:   0%|          | 0/56 [00:00<?, ?it/s]"
      ]
     },
     "metadata": {},
     "output_type": "display_data"
    },
    {
     "name": "stdout",
     "output_type": "stream",
     "text": [
      "--- Train epoch-25, step-1456 ---\n",
      "loss: 0.4836\n"
     ]
    },
    {
     "name": "stderr",
     "output_type": "stream",
     "text": [
      "Evaluation: 100%|███████████████████████████████████████████████████████████████████████| 7/7 [00:00<00:00, 200.80it/s]"
     ]
    },
    {
     "name": "stdout",
     "output_type": "stream",
     "text": [
      "--- Eval epoch-25, step-1456 ---\n",
      "pr_auc: 0.2382\n",
      "roc_auc: 0.6209\n",
      "f1: 0.0000\n",
      "loss: 0.4764\n",
      "New best roc_auc score (0.6209) at epoch-25, step-1456\n",
      "\n"
     ]
    },
    {
     "name": "stderr",
     "output_type": "stream",
     "text": [
      "\n"
     ]
    },
    {
     "data": {
      "application/vnd.jupyter.widget-view+json": {
       "model_id": "7a47688c302d4f6e99f51b38fac696c4",
       "version_major": 2,
       "version_minor": 0
      },
      "text/plain": [
       "Epoch 26 / 50:   0%|          | 0/56 [00:00<?, ?it/s]"
      ]
     },
     "metadata": {},
     "output_type": "display_data"
    },
    {
     "name": "stdout",
     "output_type": "stream",
     "text": [
      "--- Train epoch-26, step-1512 ---\n",
      "loss: 0.4762\n"
     ]
    },
    {
     "name": "stderr",
     "output_type": "stream",
     "text": [
      "Evaluation: 100%|███████████████████████████████████████████████████████████████████████| 7/7 [00:00<00:00, 179.48it/s]"
     ]
    },
    {
     "name": "stdout",
     "output_type": "stream",
     "text": [
      "--- Eval epoch-26, step-1512 ---\n",
      "pr_auc: 0.2403\n",
      "roc_auc: 0.6233\n",
      "f1: 0.0000\n",
      "loss: 0.4760\n",
      "New best roc_auc score (0.6233) at epoch-26, step-1512\n",
      "\n"
     ]
    },
    {
     "name": "stderr",
     "output_type": "stream",
     "text": [
      "\n"
     ]
    },
    {
     "data": {
      "application/vnd.jupyter.widget-view+json": {
       "model_id": "9e05043c80eb4f88a88e9e958ac61799",
       "version_major": 2,
       "version_minor": 0
      },
      "text/plain": [
       "Epoch 27 / 50:   0%|          | 0/56 [00:00<?, ?it/s]"
      ]
     },
     "metadata": {},
     "output_type": "display_data"
    },
    {
     "name": "stdout",
     "output_type": "stream",
     "text": [
      "--- Train epoch-27, step-1568 ---\n",
      "loss: 0.4770\n"
     ]
    },
    {
     "name": "stderr",
     "output_type": "stream",
     "text": [
      "Evaluation: 100%|███████████████████████████████████████████████████████████████████████| 7/7 [00:00<00:00, 183.20it/s]"
     ]
    },
    {
     "name": "stdout",
     "output_type": "stream",
     "text": [
      "--- Eval epoch-27, step-1568 ---\n",
      "pr_auc: 0.2395\n",
      "roc_auc: 0.6245\n",
      "f1: 0.0000\n",
      "loss: 0.4763\n",
      "New best roc_auc score (0.6245) at epoch-27, step-1568\n",
      "\n"
     ]
    },
    {
     "name": "stderr",
     "output_type": "stream",
     "text": [
      "\n"
     ]
    },
    {
     "data": {
      "application/vnd.jupyter.widget-view+json": {
       "model_id": "58ab6b74854040bb9fb778cf4f902300",
       "version_major": 2,
       "version_minor": 0
      },
      "text/plain": [
       "Epoch 28 / 50:   0%|          | 0/56 [00:00<?, ?it/s]"
      ]
     },
     "metadata": {},
     "output_type": "display_data"
    },
    {
     "name": "stdout",
     "output_type": "stream",
     "text": [
      "--- Train epoch-28, step-1624 ---\n",
      "loss: 0.4790\n"
     ]
    },
    {
     "name": "stderr",
     "output_type": "stream",
     "text": [
      "Evaluation: 100%|███████████████████████████████████████████████████████████████████████| 7/7 [00:00<00:00, 183.07it/s]"
     ]
    },
    {
     "name": "stdout",
     "output_type": "stream",
     "text": [
      "--- Eval epoch-28, step-1624 ---\n",
      "pr_auc: 0.2382\n",
      "roc_auc: 0.6234\n",
      "f1: 0.0000\n",
      "loss: 0.4772\n",
      "\n"
     ]
    },
    {
     "name": "stderr",
     "output_type": "stream",
     "text": [
      "\n"
     ]
    },
    {
     "data": {
      "application/vnd.jupyter.widget-view+json": {
       "model_id": "b304e57d0f884e2ea766073e9ee7e8a1",
       "version_major": 2,
       "version_minor": 0
      },
      "text/plain": [
       "Epoch 29 / 50:   0%|          | 0/56 [00:00<?, ?it/s]"
      ]
     },
     "metadata": {},
     "output_type": "display_data"
    },
    {
     "name": "stdout",
     "output_type": "stream",
     "text": [
      "--- Train epoch-29, step-1680 ---\n",
      "loss: 0.4762\n"
     ]
    },
    {
     "name": "stderr",
     "output_type": "stream",
     "text": [
      "Evaluation: 100%|███████████████████████████████████████████████████████████████████████| 7/7 [00:00<00:00, 208.20it/s]"
     ]
    },
    {
     "name": "stdout",
     "output_type": "stream",
     "text": [
      "--- Eval epoch-29, step-1680 ---\n",
      "pr_auc: 0.2345\n",
      "roc_auc: 0.6230\n",
      "f1: 0.0000\n",
      "loss: 0.4771\n",
      "\n"
     ]
    },
    {
     "name": "stderr",
     "output_type": "stream",
     "text": [
      "\n"
     ]
    },
    {
     "data": {
      "application/vnd.jupyter.widget-view+json": {
       "model_id": "e81098a1827745a4914a5971a251b1f7",
       "version_major": 2,
       "version_minor": 0
      },
      "text/plain": [
       "Epoch 30 / 50:   0%|          | 0/56 [00:00<?, ?it/s]"
      ]
     },
     "metadata": {},
     "output_type": "display_data"
    },
    {
     "name": "stdout",
     "output_type": "stream",
     "text": [
      "--- Train epoch-30, step-1736 ---\n",
      "loss: 0.4686\n"
     ]
    },
    {
     "name": "stderr",
     "output_type": "stream",
     "text": [
      "Evaluation: 100%|███████████████████████████████████████████████████████████████████████| 7/7 [00:00<00:00, 195.93it/s]"
     ]
    },
    {
     "name": "stdout",
     "output_type": "stream",
     "text": [
      "--- Eval epoch-30, step-1736 ---\n",
      "pr_auc: 0.2367\n",
      "roc_auc: 0.6271\n",
      "f1: 0.0000\n",
      "loss: 0.4792\n",
      "New best roc_auc score (0.6271) at epoch-30, step-1736\n",
      "\n"
     ]
    },
    {
     "name": "stderr",
     "output_type": "stream",
     "text": [
      "\n"
     ]
    },
    {
     "data": {
      "application/vnd.jupyter.widget-view+json": {
       "model_id": "2e36936571614dc58c59528d8f789c71",
       "version_major": 2,
       "version_minor": 0
      },
      "text/plain": [
       "Epoch 31 / 50:   0%|          | 0/56 [00:00<?, ?it/s]"
      ]
     },
     "metadata": {},
     "output_type": "display_data"
    },
    {
     "name": "stdout",
     "output_type": "stream",
     "text": [
      "--- Train epoch-31, step-1792 ---\n",
      "loss: 0.4745\n"
     ]
    },
    {
     "name": "stderr",
     "output_type": "stream",
     "text": [
      "Evaluation: 100%|███████████████████████████████████████████████████████████████████████| 7/7 [00:00<00:00, 202.63it/s]"
     ]
    },
    {
     "name": "stdout",
     "output_type": "stream",
     "text": [
      "--- Eval epoch-31, step-1792 ---\n",
      "pr_auc: 0.2370\n",
      "roc_auc: 0.6254\n",
      "f1: 0.0444\n",
      "loss: 0.4800\n",
      "\n"
     ]
    },
    {
     "name": "stderr",
     "output_type": "stream",
     "text": [
      "\n"
     ]
    },
    {
     "data": {
      "application/vnd.jupyter.widget-view+json": {
       "model_id": "44542a59b0b34d278f29e73667959781",
       "version_major": 2,
       "version_minor": 0
      },
      "text/plain": [
       "Epoch 32 / 50:   0%|          | 0/56 [00:00<?, ?it/s]"
      ]
     },
     "metadata": {},
     "output_type": "display_data"
    },
    {
     "name": "stdout",
     "output_type": "stream",
     "text": [
      "--- Train epoch-32, step-1848 ---\n",
      "loss: 0.4709\n"
     ]
    },
    {
     "name": "stderr",
     "output_type": "stream",
     "text": [
      "Evaluation: 100%|███████████████████████████████████████████████████████████████████████| 7/7 [00:00<00:00, 179.81it/s]"
     ]
    },
    {
     "name": "stdout",
     "output_type": "stream",
     "text": [
      "--- Eval epoch-32, step-1848 ---\n",
      "pr_auc: 0.2362\n",
      "roc_auc: 0.6246\n",
      "f1: 0.0444\n",
      "loss: 0.4791\n",
      "\n"
     ]
    },
    {
     "name": "stderr",
     "output_type": "stream",
     "text": [
      "\n"
     ]
    },
    {
     "data": {
      "application/vnd.jupyter.widget-view+json": {
       "model_id": "db18fe27346a4cd6b4d35bbd6c578cf9",
       "version_major": 2,
       "version_minor": 0
      },
      "text/plain": [
       "Epoch 33 / 50:   0%|          | 0/56 [00:00<?, ?it/s]"
      ]
     },
     "metadata": {},
     "output_type": "display_data"
    },
    {
     "name": "stdout",
     "output_type": "stream",
     "text": [
      "--- Train epoch-33, step-1904 ---\n",
      "loss: 0.4663\n"
     ]
    },
    {
     "name": "stderr",
     "output_type": "stream",
     "text": [
      "Evaluation: 100%|███████████████████████████████████████████████████████████████████████| 7/7 [00:00<00:00, 198.60it/s]"
     ]
    },
    {
     "name": "stdout",
     "output_type": "stream",
     "text": [
      "--- Eval epoch-33, step-1904 ---\n",
      "pr_auc: 0.2374\n",
      "roc_auc: 0.6270\n",
      "f1: 0.0435\n",
      "loss: 0.4803\n",
      "\n"
     ]
    },
    {
     "name": "stderr",
     "output_type": "stream",
     "text": [
      "\n"
     ]
    },
    {
     "data": {
      "application/vnd.jupyter.widget-view+json": {
       "model_id": "1ffcb04daa184ac6919afb617d74b6bb",
       "version_major": 2,
       "version_minor": 0
      },
      "text/plain": [
       "Epoch 34 / 50:   0%|          | 0/56 [00:00<?, ?it/s]"
      ]
     },
     "metadata": {},
     "output_type": "display_data"
    },
    {
     "name": "stdout",
     "output_type": "stream",
     "text": [
      "--- Train epoch-34, step-1960 ---\n",
      "loss: 0.4682\n"
     ]
    },
    {
     "name": "stderr",
     "output_type": "stream",
     "text": [
      "Evaluation: 100%|███████████████████████████████████████████████████████████████████████| 7/7 [00:00<00:00, 197.76it/s]"
     ]
    },
    {
     "name": "stdout",
     "output_type": "stream",
     "text": [
      "--- Eval epoch-34, step-1960 ---\n",
      "pr_auc: 0.2397\n",
      "roc_auc: 0.6292\n",
      "f1: 0.0444\n",
      "loss: 0.4784\n",
      "New best roc_auc score (0.6292) at epoch-34, step-1960\n",
      "\n"
     ]
    },
    {
     "name": "stderr",
     "output_type": "stream",
     "text": [
      "\n"
     ]
    },
    {
     "data": {
      "application/vnd.jupyter.widget-view+json": {
       "model_id": "687ddc800e164e4c85e740fc1741685a",
       "version_major": 2,
       "version_minor": 0
      },
      "text/plain": [
       "Epoch 35 / 50:   0%|          | 0/56 [00:00<?, ?it/s]"
      ]
     },
     "metadata": {},
     "output_type": "display_data"
    },
    {
     "name": "stdout",
     "output_type": "stream",
     "text": [
      "--- Train epoch-35, step-2016 ---\n",
      "loss: 0.4614\n"
     ]
    },
    {
     "name": "stderr",
     "output_type": "stream",
     "text": [
      "Evaluation: 100%|███████████████████████████████████████████████████████████████████████| 7/7 [00:00<00:00, 191.93it/s]"
     ]
    },
    {
     "name": "stdout",
     "output_type": "stream",
     "text": [
      "--- Eval epoch-35, step-2016 ---\n",
      "pr_auc: 0.2403\n",
      "roc_auc: 0.6300\n",
      "f1: 0.0426\n",
      "loss: 0.4798\n",
      "New best roc_auc score (0.6300) at epoch-35, step-2016\n",
      "\n"
     ]
    },
    {
     "name": "stderr",
     "output_type": "stream",
     "text": [
      "\n"
     ]
    },
    {
     "data": {
      "application/vnd.jupyter.widget-view+json": {
       "model_id": "458bf954e96d4bd0ac3fd2841c3bd74e",
       "version_major": 2,
       "version_minor": 0
      },
      "text/plain": [
       "Epoch 36 / 50:   0%|          | 0/56 [00:00<?, ?it/s]"
      ]
     },
     "metadata": {},
     "output_type": "display_data"
    },
    {
     "name": "stdout",
     "output_type": "stream",
     "text": [
      "--- Train epoch-36, step-2072 ---\n",
      "loss: 0.4587\n"
     ]
    },
    {
     "name": "stderr",
     "output_type": "stream",
     "text": [
      "Evaluation: 100%|███████████████████████████████████████████████████████████████████████| 7/7 [00:00<00:00, 192.21it/s]"
     ]
    },
    {
     "name": "stdout",
     "output_type": "stream",
     "text": [
      "--- Eval epoch-36, step-2072 ---\n",
      "pr_auc: 0.2418\n",
      "roc_auc: 0.6324\n",
      "f1: 0.0426\n",
      "loss: 0.4790\n",
      "New best roc_auc score (0.6324) at epoch-36, step-2072\n",
      "\n"
     ]
    },
    {
     "name": "stderr",
     "output_type": "stream",
     "text": [
      "\n"
     ]
    },
    {
     "data": {
      "application/vnd.jupyter.widget-view+json": {
       "model_id": "915c497a57e6480a81c3f7f0ae2ef40e",
       "version_major": 2,
       "version_minor": 0
      },
      "text/plain": [
       "Epoch 37 / 50:   0%|          | 0/56 [00:00<?, ?it/s]"
      ]
     },
     "metadata": {},
     "output_type": "display_data"
    },
    {
     "name": "stdout",
     "output_type": "stream",
     "text": [
      "--- Train epoch-37, step-2128 ---\n",
      "loss: 0.4594\n"
     ]
    },
    {
     "name": "stderr",
     "output_type": "stream",
     "text": [
      "Evaluation: 100%|███████████████████████████████████████████████████████████████████████| 7/7 [00:00<00:00, 217.39it/s]"
     ]
    },
    {
     "name": "stdout",
     "output_type": "stream",
     "text": [
      "--- Eval epoch-37, step-2128 ---\n",
      "pr_auc: 0.2407\n",
      "roc_auc: 0.6306\n",
      "f1: 0.0426\n",
      "loss: 0.4815\n",
      "\n"
     ]
    },
    {
     "name": "stderr",
     "output_type": "stream",
     "text": [
      "\n"
     ]
    },
    {
     "data": {
      "application/vnd.jupyter.widget-view+json": {
       "model_id": "94dd549999614e6f9a38f1d26dfecb4e",
       "version_major": 2,
       "version_minor": 0
      },
      "text/plain": [
       "Epoch 38 / 50:   0%|          | 0/56 [00:00<?, ?it/s]"
      ]
     },
     "metadata": {},
     "output_type": "display_data"
    },
    {
     "name": "stdout",
     "output_type": "stream",
     "text": [
      "--- Train epoch-38, step-2184 ---\n",
      "loss: 0.4543\n"
     ]
    },
    {
     "name": "stderr",
     "output_type": "stream",
     "text": [
      "Evaluation: 100%|███████████████████████████████████████████████████████████████████████| 7/7 [00:00<00:00, 198.49it/s]"
     ]
    },
    {
     "name": "stdout",
     "output_type": "stream",
     "text": [
      "--- Eval epoch-38, step-2184 ---\n",
      "pr_auc: 0.2406\n",
      "roc_auc: 0.6311\n",
      "f1: 0.0417\n",
      "loss: 0.4821\n",
      "\n"
     ]
    },
    {
     "name": "stderr",
     "output_type": "stream",
     "text": [
      "\n"
     ]
    },
    {
     "data": {
      "application/vnd.jupyter.widget-view+json": {
       "model_id": "a4bb78b30a4d4866ae4744e2576690f9",
       "version_major": 2,
       "version_minor": 0
      },
      "text/plain": [
       "Epoch 39 / 50:   0%|          | 0/56 [00:00<?, ?it/s]"
      ]
     },
     "metadata": {},
     "output_type": "display_data"
    },
    {
     "name": "stdout",
     "output_type": "stream",
     "text": [
      "--- Train epoch-39, step-2240 ---\n",
      "loss: 0.4606\n"
     ]
    },
    {
     "name": "stderr",
     "output_type": "stream",
     "text": [
      "Evaluation: 100%|███████████████████████████████████████████████████████████████████████| 7/7 [00:00<00:00, 207.23it/s]"
     ]
    },
    {
     "name": "stdout",
     "output_type": "stream",
     "text": [
      "--- Eval epoch-39, step-2240 ---\n",
      "pr_auc: 0.2400\n",
      "roc_auc: 0.6303\n",
      "f1: 0.0408\n",
      "loss: 0.4830\n",
      "\n"
     ]
    },
    {
     "name": "stderr",
     "output_type": "stream",
     "text": [
      "\n"
     ]
    },
    {
     "data": {
      "application/vnd.jupyter.widget-view+json": {
       "model_id": "54d863ee24174a5d8d4c51b1f677c313",
       "version_major": 2,
       "version_minor": 0
      },
      "text/plain": [
       "Epoch 40 / 50:   0%|          | 0/56 [00:00<?, ?it/s]"
      ]
     },
     "metadata": {},
     "output_type": "display_data"
    },
    {
     "name": "stdout",
     "output_type": "stream",
     "text": [
      "--- Train epoch-40, step-2296 ---\n",
      "loss: 0.4554\n"
     ]
    },
    {
     "name": "stderr",
     "output_type": "stream",
     "text": [
      "Evaluation: 100%|███████████████████████████████████████████████████████████████████████| 7/7 [00:00<00:00, 206.78it/s]"
     ]
    },
    {
     "name": "stdout",
     "output_type": "stream",
     "text": [
      "--- Eval epoch-40, step-2296 ---\n",
      "pr_auc: 0.2391\n",
      "roc_auc: 0.6292\n",
      "f1: 0.0426\n",
      "loss: 0.4801\n",
      "\n"
     ]
    },
    {
     "name": "stderr",
     "output_type": "stream",
     "text": [
      "\n"
     ]
    },
    {
     "data": {
      "application/vnd.jupyter.widget-view+json": {
       "model_id": "7af84fd9ec234b0094db0869301e695c",
       "version_major": 2,
       "version_minor": 0
      },
      "text/plain": [
       "Epoch 41 / 50:   0%|          | 0/56 [00:00<?, ?it/s]"
      ]
     },
     "metadata": {},
     "output_type": "display_data"
    },
    {
     "name": "stdout",
     "output_type": "stream",
     "text": [
      "--- Train epoch-41, step-2352 ---\n",
      "loss: 0.4535\n"
     ]
    },
    {
     "name": "stderr",
     "output_type": "stream",
     "text": [
      "Evaluation: 100%|███████████████████████████████████████████████████████████████████████| 7/7 [00:00<00:00, 189.41it/s]"
     ]
    },
    {
     "name": "stdout",
     "output_type": "stream",
     "text": [
      "--- Eval epoch-41, step-2352 ---\n",
      "pr_auc: 0.2390\n",
      "roc_auc: 0.6298\n",
      "f1: 0.0408\n",
      "loss: 0.4816\n",
      "\n"
     ]
    },
    {
     "name": "stderr",
     "output_type": "stream",
     "text": [
      "\n"
     ]
    },
    {
     "data": {
      "application/vnd.jupyter.widget-view+json": {
       "model_id": "e307db0d0800412b8f3d9596ff4f0d1a",
       "version_major": 2,
       "version_minor": 0
      },
      "text/plain": [
       "Epoch 42 / 50:   0%|          | 0/56 [00:00<?, ?it/s]"
      ]
     },
     "metadata": {},
     "output_type": "display_data"
    },
    {
     "name": "stdout",
     "output_type": "stream",
     "text": [
      "--- Train epoch-42, step-2408 ---\n",
      "loss: 0.4539\n"
     ]
    },
    {
     "name": "stderr",
     "output_type": "stream",
     "text": [
      "Evaluation: 100%|███████████████████████████████████████████████████████████████████████| 7/7 [00:00<00:00, 195.95it/s]"
     ]
    },
    {
     "name": "stdout",
     "output_type": "stream",
     "text": [
      "--- Eval epoch-42, step-2408 ---\n",
      "pr_auc: 0.2412\n",
      "roc_auc: 0.6336\n",
      "f1: 0.0408\n",
      "loss: 0.4807\n",
      "New best roc_auc score (0.6336) at epoch-42, step-2408\n",
      "\n"
     ]
    },
    {
     "name": "stderr",
     "output_type": "stream",
     "text": [
      "\n"
     ]
    },
    {
     "data": {
      "application/vnd.jupyter.widget-view+json": {
       "model_id": "10bb615189504164aded01b5265de511",
       "version_major": 2,
       "version_minor": 0
      },
      "text/plain": [
       "Epoch 43 / 50:   0%|          | 0/56 [00:00<?, ?it/s]"
      ]
     },
     "metadata": {},
     "output_type": "display_data"
    },
    {
     "name": "stdout",
     "output_type": "stream",
     "text": [
      "--- Train epoch-43, step-2464 ---\n",
      "loss: 0.4453\n"
     ]
    },
    {
     "name": "stderr",
     "output_type": "stream",
     "text": [
      "Evaluation: 100%|███████████████████████████████████████████████████████████████████████| 7/7 [00:00<00:00, 186.52it/s]"
     ]
    },
    {
     "name": "stdout",
     "output_type": "stream",
     "text": [
      "--- Eval epoch-43, step-2464 ---\n",
      "pr_auc: 0.2422\n",
      "roc_auc: 0.6341\n",
      "f1: 0.0800\n",
      "loss: 0.4803\n",
      "New best roc_auc score (0.6341) at epoch-43, step-2464\n",
      "\n"
     ]
    },
    {
     "name": "stderr",
     "output_type": "stream",
     "text": [
      "\n"
     ]
    },
    {
     "data": {
      "application/vnd.jupyter.widget-view+json": {
       "model_id": "b22737ee46384401ba1a82413da93e03",
       "version_major": 2,
       "version_minor": 0
      },
      "text/plain": [
       "Epoch 44 / 50:   0%|          | 0/56 [00:00<?, ?it/s]"
      ]
     },
     "metadata": {},
     "output_type": "display_data"
    },
    {
     "name": "stdout",
     "output_type": "stream",
     "text": [
      "--- Train epoch-44, step-2520 ---\n",
      "loss: 0.4492\n"
     ]
    },
    {
     "name": "stderr",
     "output_type": "stream",
     "text": [
      "Evaluation: 100%|███████████████████████████████████████████████████████████████████████| 7/7 [00:00<00:00, 204.03it/s]"
     ]
    },
    {
     "name": "stdout",
     "output_type": "stream",
     "text": [
      "--- Eval epoch-44, step-2520 ---\n",
      "pr_auc: 0.2428\n",
      "roc_auc: 0.6341\n",
      "f1: 0.0769\n",
      "loss: 0.4836\n",
      "\n"
     ]
    },
    {
     "name": "stderr",
     "output_type": "stream",
     "text": [
      "\n"
     ]
    },
    {
     "data": {
      "application/vnd.jupyter.widget-view+json": {
       "model_id": "e4820740ee164369bfa9210c0a76b229",
       "version_major": 2,
       "version_minor": 0
      },
      "text/plain": [
       "Epoch 45 / 50:   0%|          | 0/56 [00:00<?, ?it/s]"
      ]
     },
     "metadata": {},
     "output_type": "display_data"
    },
    {
     "name": "stdout",
     "output_type": "stream",
     "text": [
      "--- Train epoch-45, step-2576 ---\n",
      "loss: 0.4488\n"
     ]
    },
    {
     "name": "stderr",
     "output_type": "stream",
     "text": [
      "Evaluation: 100%|███████████████████████████████████████████████████████████████████████| 7/7 [00:00<00:00, 217.21it/s]"
     ]
    },
    {
     "name": "stdout",
     "output_type": "stream",
     "text": [
      "--- Eval epoch-45, step-2576 ---\n",
      "pr_auc: 0.2416\n",
      "roc_auc: 0.6351\n",
      "f1: 0.0784\n",
      "loss: 0.4816\n",
      "New best roc_auc score (0.6351) at epoch-45, step-2576\n",
      "\n"
     ]
    },
    {
     "name": "stderr",
     "output_type": "stream",
     "text": [
      "\n"
     ]
    },
    {
     "data": {
      "application/vnd.jupyter.widget-view+json": {
       "model_id": "0bc6d4ad1e404c19a75831dfe706b2e3",
       "version_major": 2,
       "version_minor": 0
      },
      "text/plain": [
       "Epoch 46 / 50:   0%|          | 0/56 [00:00<?, ?it/s]"
      ]
     },
     "metadata": {},
     "output_type": "display_data"
    },
    {
     "name": "stdout",
     "output_type": "stream",
     "text": [
      "--- Train epoch-46, step-2632 ---\n",
      "loss: 0.4476\n"
     ]
    },
    {
     "name": "stderr",
     "output_type": "stream",
     "text": [
      "Evaluation: 100%|███████████████████████████████████████████████████████████████████████| 7/7 [00:00<00:00, 189.12it/s]"
     ]
    },
    {
     "name": "stdout",
     "output_type": "stream",
     "text": [
      "--- Eval epoch-46, step-2632 ---\n",
      "pr_auc: 0.2428\n",
      "roc_auc: 0.6373\n",
      "f1: 0.0784\n",
      "loss: 0.4820\n",
      "New best roc_auc score (0.6373) at epoch-46, step-2632\n",
      "\n"
     ]
    },
    {
     "name": "stderr",
     "output_type": "stream",
     "text": [
      "\n"
     ]
    },
    {
     "data": {
      "application/vnd.jupyter.widget-view+json": {
       "model_id": "6b6ced1b65ea41f08e5e11649602d1f7",
       "version_major": 2,
       "version_minor": 0
      },
      "text/plain": [
       "Epoch 47 / 50:   0%|          | 0/56 [00:00<?, ?it/s]"
      ]
     },
     "metadata": {},
     "output_type": "display_data"
    },
    {
     "name": "stdout",
     "output_type": "stream",
     "text": [
      "--- Train epoch-47, step-2688 ---\n",
      "loss: 0.4412\n"
     ]
    },
    {
     "name": "stderr",
     "output_type": "stream",
     "text": [
      "Evaluation: 100%|███████████████████████████████████████████████████████████████████████| 7/7 [00:00<00:00, 198.44it/s]"
     ]
    },
    {
     "name": "stdout",
     "output_type": "stream",
     "text": [
      "--- Eval epoch-47, step-2688 ---\n",
      "pr_auc: 0.2429\n",
      "roc_auc: 0.6353\n",
      "f1: 0.0769\n",
      "loss: 0.4823\n",
      "\n"
     ]
    },
    {
     "name": "stderr",
     "output_type": "stream",
     "text": [
      "\n"
     ]
    },
    {
     "data": {
      "application/vnd.jupyter.widget-view+json": {
       "model_id": "a8f8ce8d1ff44bc8a752a23399a71b5d",
       "version_major": 2,
       "version_minor": 0
      },
      "text/plain": [
       "Epoch 48 / 50:   0%|          | 0/56 [00:00<?, ?it/s]"
      ]
     },
     "metadata": {},
     "output_type": "display_data"
    },
    {
     "name": "stdout",
     "output_type": "stream",
     "text": [
      "--- Train epoch-48, step-2744 ---\n",
      "loss: 0.4409\n"
     ]
    },
    {
     "name": "stderr",
     "output_type": "stream",
     "text": [
      "Evaluation: 100%|███████████████████████████████████████████████████████████████████████| 7/7 [00:00<00:00, 193.28it/s]"
     ]
    },
    {
     "name": "stdout",
     "output_type": "stream",
     "text": [
      "--- Eval epoch-48, step-2744 ---\n",
      "pr_auc: 0.2413\n",
      "roc_auc: 0.6369\n",
      "f1: 0.0769\n",
      "loss: 0.4839\n",
      "\n"
     ]
    },
    {
     "name": "stderr",
     "output_type": "stream",
     "text": [
      "\n"
     ]
    },
    {
     "data": {
      "application/vnd.jupyter.widget-view+json": {
       "model_id": "c0965313468f45d28a7316e131b83143",
       "version_major": 2,
       "version_minor": 0
      },
      "text/plain": [
       "Epoch 49 / 50:   0%|          | 0/56 [00:00<?, ?it/s]"
      ]
     },
     "metadata": {},
     "output_type": "display_data"
    },
    {
     "name": "stdout",
     "output_type": "stream",
     "text": [
      "--- Train epoch-49, step-2800 ---\n",
      "loss: 0.4332\n"
     ]
    },
    {
     "name": "stderr",
     "output_type": "stream",
     "text": [
      "Evaluation: 100%|███████████████████████████████████████████████████████████████████████| 7/7 [00:00<00:00, 198.71it/s]"
     ]
    },
    {
     "name": "stdout",
     "output_type": "stream",
     "text": [
      "--- Eval epoch-49, step-2800 ---\n",
      "pr_auc: 0.2407\n",
      "roc_auc: 0.6374\n",
      "f1: 0.0769\n",
      "loss: 0.4826\n",
      "New best roc_auc score (0.6374) at epoch-49, step-2800\n",
      "Loaded best model\n",
      "Training started at: 2024-05-05 22:37:27.834133\n",
      "Training ended at: 2024-05-05 22:38:18.177541\n",
      "Total elapsed time: 0:00:50.343408\n",
      "Average epoch time: 0:00:01.006868\n"
     ]
    },
    {
     "name": "stderr",
     "output_type": "stream",
     "text": [
      "\n"
     ]
    }
   ],
   "source": [
    "# Simple model w/time training\n",
    "\n",
    "start_time = datetime.now()\n",
    "\n",
    "time_trainer = Trainer(model=time_model)\n",
    "time_trainer.train(\n",
    "    train_dataloader=train_dataloader,\n",
    "    val_dataloader=val_dataloader,\n",
    "    epochs=50,\n",
    "    optimizer_class=torch.optim.Adam,\n",
    "    optimizer_params={\"lr\": 1e-4},\n",
    "    monitor=\"roc_auc\",\n",
    ")\n",
    "\n",
    "end_time = datetime.now()\n",
    "print(f\"Training started at: {start_time}\")\n",
    "print(f\"Training ended at: {end_time}\")\n",
    "print(f\"Total elapsed time: {end_time - start_time}\")\n",
    "print(f\"Average epoch time: {(end_time - start_time)/50}\")"
   ]
  },
  {
   "cell_type": "code",
   "execution_count": 17,
   "metadata": {
    "id": "zd40vzALJ_5e"
   },
   "outputs": [
    {
     "name": "stdout",
     "output_type": "stream",
     "text": [
      "RNN(\n",
      "  (embeddings): ModuleDict(\n",
      "    (conditions): Embedding(257, 128, padding_idx=0)\n",
      "    (related_conditions): Embedding(30, 128, padding_idx=0)\n",
      "    (procedures): Embedding(174, 128, padding_idx=0)\n",
      "  )\n",
      "  (linear_layers): ModuleDict(\n",
      "    (visit_diff): Linear(in_features=4, out_features=128, bias=True)\n",
      "  )\n",
      "  (rnn): ModuleDict(\n",
      "    (conditions): RNNLayer(\n",
      "      (dropout_layer): Dropout(p=0.5, inplace=False)\n",
      "      (rnn): LSTM(128, 128, batch_first=True)\n",
      "    )\n",
      "    (related_conditions): RNNLayer(\n",
      "      (dropout_layer): Dropout(p=0.5, inplace=False)\n",
      "      (rnn): LSTM(128, 128, batch_first=True)\n",
      "    )\n",
      "    (procedures): RNNLayer(\n",
      "      (dropout_layer): Dropout(p=0.5, inplace=False)\n",
      "      (rnn): LSTM(128, 128, batch_first=True)\n",
      "    )\n",
      "    (visit_diff): RNNLayer(\n",
      "      (dropout_layer): Dropout(p=0.5, inplace=False)\n",
      "      (rnn): LSTM(128, 128, batch_first=True)\n",
      "    )\n",
      "  )\n",
      "  (fc): Linear(in_features=512, out_features=1, bias=True)\n",
      ")\n",
      "Metrics: None\n",
      "Device: cpu\n",
      "\n",
      "Training:\n",
      "Batch size: 32\n",
      "Optimizer: <class 'torch.optim.adam.Adam'>\n",
      "Optimizer params: {'lr': 0.0001}\n",
      "Weight decay: 0.0\n",
      "Max grad norm: None\n",
      "Val dataloader: <torch.utils.data.dataloader.DataLoader object at 0x000002637EC20690>\n",
      "Monitor: roc_auc\n",
      "Monitor criterion: max\n",
      "Epochs: 50\n",
      "\n"
     ]
    },
    {
     "data": {
      "application/vnd.jupyter.widget-view+json": {
       "model_id": "c57d29d36be843c695bb27e86e50bdc5",
       "version_major": 2,
       "version_minor": 0
      },
      "text/plain": [
       "Epoch 0 / 50:   0%|          | 0/56 [00:00<?, ?it/s]"
      ]
     },
     "metadata": {},
     "output_type": "display_data"
    },
    {
     "name": "stdout",
     "output_type": "stream",
     "text": [
      "--- Train epoch-0, step-56 ---\n",
      "loss: 0.6223\n"
     ]
    },
    {
     "name": "stderr",
     "output_type": "stream",
     "text": [
      "Evaluation: 100%|███████████████████████████████████████████████████████████████████████| 7/7 [00:00<00:00, 156.43it/s]"
     ]
    },
    {
     "name": "stdout",
     "output_type": "stream",
     "text": [
      "--- Eval epoch-0, step-56 ---\n",
      "pr_auc: 0.1579\n",
      "roc_auc: 0.3923\n",
      "f1: 0.0000\n",
      "loss: 0.5379\n",
      "New best roc_auc score (0.3923) at epoch-0, step-56\n",
      "\n"
     ]
    },
    {
     "name": "stderr",
     "output_type": "stream",
     "text": [
      "\n"
     ]
    },
    {
     "data": {
      "application/vnd.jupyter.widget-view+json": {
       "model_id": "ba4eb36b55684fd9b934a64817e0716b",
       "version_major": 2,
       "version_minor": 0
      },
      "text/plain": [
       "Epoch 1 / 50:   0%|          | 0/56 [00:00<?, ?it/s]"
      ]
     },
     "metadata": {},
     "output_type": "display_data"
    },
    {
     "name": "stdout",
     "output_type": "stream",
     "text": [
      "--- Train epoch-1, step-112 ---\n",
      "loss: 0.5473\n"
     ]
    },
    {
     "name": "stderr",
     "output_type": "stream",
     "text": [
      "Evaluation: 100%|███████████████████████████████████████████████████████████████████████| 7/7 [00:00<00:00, 155.54it/s]"
     ]
    },
    {
     "name": "stdout",
     "output_type": "stream",
     "text": [
      "--- Eval epoch-1, step-112 ---\n",
      "pr_auc: 0.1557\n",
      "roc_auc: 0.3930\n",
      "f1: 0.0000\n",
      "loss: 0.5087\n",
      "New best roc_auc score (0.3930) at epoch-1, step-112\n",
      "\n"
     ]
    },
    {
     "name": "stderr",
     "output_type": "stream",
     "text": [
      "\n"
     ]
    },
    {
     "data": {
      "application/vnd.jupyter.widget-view+json": {
       "model_id": "dde2eca6ceb943f7ae1ebca862649bf0",
       "version_major": 2,
       "version_minor": 0
      },
      "text/plain": [
       "Epoch 2 / 50:   0%|          | 0/56 [00:00<?, ?it/s]"
      ]
     },
     "metadata": {},
     "output_type": "display_data"
    },
    {
     "name": "stdout",
     "output_type": "stream",
     "text": [
      "--- Train epoch-2, step-168 ---\n",
      "loss: 0.5289\n"
     ]
    },
    {
     "name": "stderr",
     "output_type": "stream",
     "text": [
      "Evaluation: 100%|███████████████████████████████████████████████████████████████████████| 7/7 [00:00<00:00, 117.59it/s]"
     ]
    },
    {
     "name": "stdout",
     "output_type": "stream",
     "text": [
      "--- Eval epoch-2, step-168 ---\n",
      "pr_auc: 0.1570\n",
      "roc_auc: 0.4071\n",
      "f1: 0.0000\n",
      "loss: 0.5070\n",
      "New best roc_auc score (0.4071) at epoch-2, step-168\n",
      "\n"
     ]
    },
    {
     "name": "stderr",
     "output_type": "stream",
     "text": [
      "\n"
     ]
    },
    {
     "data": {
      "application/vnd.jupyter.widget-view+json": {
       "model_id": "e708453f3b544dc0bac2d2f1e85cd378",
       "version_major": 2,
       "version_minor": 0
      },
      "text/plain": [
       "Epoch 3 / 50:   0%|          | 0/56 [00:00<?, ?it/s]"
      ]
     },
     "metadata": {},
     "output_type": "display_data"
    },
    {
     "name": "stdout",
     "output_type": "stream",
     "text": [
      "--- Train epoch-3, step-224 ---\n",
      "loss: 0.5215\n"
     ]
    },
    {
     "name": "stderr",
     "output_type": "stream",
     "text": [
      "Evaluation: 100%|███████████████████████████████████████████████████████████████████████| 7/7 [00:00<00:00, 161.82it/s]"
     ]
    },
    {
     "name": "stdout",
     "output_type": "stream",
     "text": [
      "--- Eval epoch-3, step-224 ---\n",
      "pr_auc: 0.1616\n",
      "roc_auc: 0.4237\n",
      "f1: 0.0000\n",
      "loss: 0.5031\n",
      "New best roc_auc score (0.4237) at epoch-3, step-224\n",
      "\n"
     ]
    },
    {
     "name": "stderr",
     "output_type": "stream",
     "text": [
      "\n"
     ]
    },
    {
     "data": {
      "application/vnd.jupyter.widget-view+json": {
       "model_id": "16726ab9627745508f0964f36e0ee934",
       "version_major": 2,
       "version_minor": 0
      },
      "text/plain": [
       "Epoch 4 / 50:   0%|          | 0/56 [00:00<?, ?it/s]"
      ]
     },
     "metadata": {},
     "output_type": "display_data"
    },
    {
     "name": "stdout",
     "output_type": "stream",
     "text": [
      "--- Train epoch-4, step-280 ---\n",
      "loss: 0.5152\n"
     ]
    },
    {
     "name": "stderr",
     "output_type": "stream",
     "text": [
      "Evaluation: 100%|███████████████████████████████████████████████████████████████████████| 7/7 [00:00<00:00, 169.77it/s]"
     ]
    },
    {
     "name": "stdout",
     "output_type": "stream",
     "text": [
      "--- Eval epoch-4, step-280 ---\n",
      "pr_auc: 0.1661\n",
      "roc_auc: 0.4437\n",
      "f1: 0.0000\n",
      "loss: 0.4983\n",
      "New best roc_auc score (0.4437) at epoch-4, step-280\n",
      "\n"
     ]
    },
    {
     "name": "stderr",
     "output_type": "stream",
     "text": [
      "\n"
     ]
    },
    {
     "data": {
      "application/vnd.jupyter.widget-view+json": {
       "model_id": "5cb34bda34c642a18c3d5e81620ea176",
       "version_major": 2,
       "version_minor": 0
      },
      "text/plain": [
       "Epoch 5 / 50:   0%|          | 0/56 [00:00<?, ?it/s]"
      ]
     },
     "metadata": {},
     "output_type": "display_data"
    },
    {
     "name": "stdout",
     "output_type": "stream",
     "text": [
      "--- Train epoch-5, step-336 ---\n",
      "loss: 0.5133\n"
     ]
    },
    {
     "name": "stderr",
     "output_type": "stream",
     "text": [
      "Evaluation: 100%|███████████████████████████████████████████████████████████████████████| 7/7 [00:00<00:00, 150.49it/s]"
     ]
    },
    {
     "name": "stdout",
     "output_type": "stream",
     "text": [
      "--- Eval epoch-5, step-336 ---\n",
      "pr_auc: 0.1736\n",
      "roc_auc: 0.4646\n",
      "f1: 0.0000\n",
      "loss: 0.4946\n",
      "New best roc_auc score (0.4646) at epoch-5, step-336\n",
      "\n"
     ]
    },
    {
     "name": "stderr",
     "output_type": "stream",
     "text": [
      "\n"
     ]
    },
    {
     "data": {
      "application/vnd.jupyter.widget-view+json": {
       "model_id": "9ccd628c6e0a4072a5e72247d5f92247",
       "version_major": 2,
       "version_minor": 0
      },
      "text/plain": [
       "Epoch 6 / 50:   0%|          | 0/56 [00:00<?, ?it/s]"
      ]
     },
     "metadata": {},
     "output_type": "display_data"
    },
    {
     "name": "stdout",
     "output_type": "stream",
     "text": [
      "--- Train epoch-6, step-392 ---\n",
      "loss: 0.5100\n"
     ]
    },
    {
     "name": "stderr",
     "output_type": "stream",
     "text": [
      "Evaluation: 100%|███████████████████████████████████████████████████████████████████████| 7/7 [00:00<00:00, 156.78it/s]"
     ]
    },
    {
     "name": "stdout",
     "output_type": "stream",
     "text": [
      "--- Eval epoch-6, step-392 ---\n",
      "pr_auc: 0.1792\n",
      "roc_auc: 0.4829\n",
      "f1: 0.0000\n",
      "loss: 0.4915\n",
      "New best roc_auc score (0.4829) at epoch-6, step-392\n",
      "\n"
     ]
    },
    {
     "name": "stderr",
     "output_type": "stream",
     "text": [
      "\n"
     ]
    },
    {
     "data": {
      "application/vnd.jupyter.widget-view+json": {
       "model_id": "4652ac543f8647368639fde15ed3bcb2",
       "version_major": 2,
       "version_minor": 0
      },
      "text/plain": [
       "Epoch 7 / 50:   0%|          | 0/56 [00:00<?, ?it/s]"
      ]
     },
     "metadata": {},
     "output_type": "display_data"
    },
    {
     "name": "stdout",
     "output_type": "stream",
     "text": [
      "--- Train epoch-7, step-448 ---\n",
      "loss: 0.5109\n"
     ]
    },
    {
     "name": "stderr",
     "output_type": "stream",
     "text": [
      "Evaluation: 100%|███████████████████████████████████████████████████████████████████████| 7/7 [00:00<00:00, 157.20it/s]"
     ]
    },
    {
     "name": "stdout",
     "output_type": "stream",
     "text": [
      "--- Eval epoch-7, step-448 ---\n",
      "pr_auc: 0.1898\n",
      "roc_auc: 0.5057\n",
      "f1: 0.0000\n",
      "loss: 0.4883\n",
      "New best roc_auc score (0.5057) at epoch-7, step-448\n",
      "\n"
     ]
    },
    {
     "name": "stderr",
     "output_type": "stream",
     "text": [
      "\n"
     ]
    },
    {
     "data": {
      "application/vnd.jupyter.widget-view+json": {
       "model_id": "ea0bf9da0ac94f7881ff2f5060ce4a9d",
       "version_major": 2,
       "version_minor": 0
      },
      "text/plain": [
       "Epoch 8 / 50:   0%|          | 0/56 [00:00<?, ?it/s]"
      ]
     },
     "metadata": {},
     "output_type": "display_data"
    },
    {
     "name": "stdout",
     "output_type": "stream",
     "text": [
      "--- Train epoch-8, step-504 ---\n",
      "loss: 0.5045\n"
     ]
    },
    {
     "name": "stderr",
     "output_type": "stream",
     "text": [
      "Evaluation: 100%|███████████████████████████████████████████████████████████████████████| 7/7 [00:00<00:00, 143.50it/s]"
     ]
    },
    {
     "name": "stdout",
     "output_type": "stream",
     "text": [
      "--- Eval epoch-8, step-504 ---\n",
      "pr_auc: 0.2034\n",
      "roc_auc: 0.5216\n",
      "f1: 0.0000\n",
      "loss: 0.4867\n",
      "New best roc_auc score (0.5216) at epoch-8, step-504\n",
      "\n"
     ]
    },
    {
     "name": "stderr",
     "output_type": "stream",
     "text": [
      "\n"
     ]
    },
    {
     "data": {
      "application/vnd.jupyter.widget-view+json": {
       "model_id": "3b2b869d52f5483096fcd7e785de630f",
       "version_major": 2,
       "version_minor": 0
      },
      "text/plain": [
       "Epoch 9 / 50:   0%|          | 0/56 [00:00<?, ?it/s]"
      ]
     },
     "metadata": {},
     "output_type": "display_data"
    },
    {
     "name": "stdout",
     "output_type": "stream",
     "text": [
      "--- Train epoch-9, step-560 ---\n",
      "loss: 0.5077\n"
     ]
    },
    {
     "name": "stderr",
     "output_type": "stream",
     "text": [
      "Evaluation: 100%|███████████████████████████████████████████████████████████████████████| 7/7 [00:00<00:00, 121.82it/s]"
     ]
    },
    {
     "name": "stdout",
     "output_type": "stream",
     "text": [
      "--- Eval epoch-9, step-560 ---\n",
      "pr_auc: 0.2172\n",
      "roc_auc: 0.5405\n",
      "f1: 0.0000\n",
      "loss: 0.4845\n",
      "New best roc_auc score (0.5405) at epoch-9, step-560\n",
      "\n"
     ]
    },
    {
     "name": "stderr",
     "output_type": "stream",
     "text": [
      "\n"
     ]
    },
    {
     "data": {
      "application/vnd.jupyter.widget-view+json": {
       "model_id": "ba8c9943074c485c9a5717e47b5f4381",
       "version_major": 2,
       "version_minor": 0
      },
      "text/plain": [
       "Epoch 10 / 50:   0%|          | 0/56 [00:00<?, ?it/s]"
      ]
     },
     "metadata": {},
     "output_type": "display_data"
    },
    {
     "name": "stdout",
     "output_type": "stream",
     "text": [
      "--- Train epoch-10, step-616 ---\n",
      "loss: 0.5020\n"
     ]
    },
    {
     "name": "stderr",
     "output_type": "stream",
     "text": [
      "Evaluation: 100%|███████████████████████████████████████████████████████████████████████| 7/7 [00:00<00:00, 145.10it/s]"
     ]
    },
    {
     "name": "stdout",
     "output_type": "stream",
     "text": [
      "--- Eval epoch-10, step-616 ---\n",
      "pr_auc: 0.2268\n",
      "roc_auc: 0.5550\n",
      "f1: 0.0000\n",
      "loss: 0.4828\n",
      "New best roc_auc score (0.5550) at epoch-10, step-616\n",
      "\n"
     ]
    },
    {
     "name": "stderr",
     "output_type": "stream",
     "text": [
      "\n"
     ]
    },
    {
     "data": {
      "application/vnd.jupyter.widget-view+json": {
       "model_id": "cac4a3b175b443888f16fe8816527858",
       "version_major": 2,
       "version_minor": 0
      },
      "text/plain": [
       "Epoch 11 / 50:   0%|          | 0/56 [00:00<?, ?it/s]"
      ]
     },
     "metadata": {},
     "output_type": "display_data"
    },
    {
     "name": "stdout",
     "output_type": "stream",
     "text": [
      "--- Train epoch-11, step-672 ---\n",
      "loss: 0.5046\n"
     ]
    },
    {
     "name": "stderr",
     "output_type": "stream",
     "text": [
      "Evaluation: 100%|███████████████████████████████████████████████████████████████████████| 7/7 [00:00<00:00, 154.72it/s]"
     ]
    },
    {
     "name": "stdout",
     "output_type": "stream",
     "text": [
      "--- Eval epoch-11, step-672 ---\n",
      "pr_auc: 0.2310\n",
      "roc_auc: 0.5631\n",
      "f1: 0.0000\n",
      "loss: 0.4819\n",
      "New best roc_auc score (0.5631) at epoch-11, step-672\n",
      "\n"
     ]
    },
    {
     "name": "stderr",
     "output_type": "stream",
     "text": [
      "\n"
     ]
    },
    {
     "data": {
      "application/vnd.jupyter.widget-view+json": {
       "model_id": "d396d4afaead45df95f57ca4743eb975",
       "version_major": 2,
       "version_minor": 0
      },
      "text/plain": [
       "Epoch 12 / 50:   0%|          | 0/56 [00:00<?, ?it/s]"
      ]
     },
     "metadata": {},
     "output_type": "display_data"
    },
    {
     "name": "stdout",
     "output_type": "stream",
     "text": [
      "--- Train epoch-12, step-728 ---\n",
      "loss: 0.4988\n"
     ]
    },
    {
     "name": "stderr",
     "output_type": "stream",
     "text": [
      "Evaluation: 100%|███████████████████████████████████████████████████████████████████████| 7/7 [00:00<00:00, 149.91it/s]"
     ]
    },
    {
     "name": "stdout",
     "output_type": "stream",
     "text": [
      "--- Eval epoch-12, step-728 ---\n",
      "pr_auc: 0.2373\n",
      "roc_auc: 0.5762\n",
      "f1: 0.0000\n",
      "loss: 0.4808\n",
      "New best roc_auc score (0.5762) at epoch-12, step-728\n",
      "\n"
     ]
    },
    {
     "name": "stderr",
     "output_type": "stream",
     "text": [
      "\n"
     ]
    },
    {
     "data": {
      "application/vnd.jupyter.widget-view+json": {
       "model_id": "554799f9dd714f2eaf291d3ad388fc31",
       "version_major": 2,
       "version_minor": 0
      },
      "text/plain": [
       "Epoch 13 / 50:   0%|          | 0/56 [00:00<?, ?it/s]"
      ]
     },
     "metadata": {},
     "output_type": "display_data"
    },
    {
     "name": "stdout",
     "output_type": "stream",
     "text": [
      "--- Train epoch-13, step-784 ---\n",
      "loss: 0.5004\n"
     ]
    },
    {
     "name": "stderr",
     "output_type": "stream",
     "text": [
      "Evaluation: 100%|███████████████████████████████████████████████████████████████████████| 7/7 [00:00<00:00, 143.65it/s]"
     ]
    },
    {
     "name": "stdout",
     "output_type": "stream",
     "text": [
      "--- Eval epoch-13, step-784 ---\n",
      "pr_auc: 0.2366\n",
      "roc_auc: 0.5832\n",
      "f1: 0.0000\n",
      "loss: 0.4806\n",
      "New best roc_auc score (0.5832) at epoch-13, step-784\n",
      "\n"
     ]
    },
    {
     "name": "stderr",
     "output_type": "stream",
     "text": [
      "\n"
     ]
    },
    {
     "data": {
      "application/vnd.jupyter.widget-view+json": {
       "model_id": "56e13c332c974e83a2c367f0f51f6332",
       "version_major": 2,
       "version_minor": 0
      },
      "text/plain": [
       "Epoch 14 / 50:   0%|          | 0/56 [00:00<?, ?it/s]"
      ]
     },
     "metadata": {},
     "output_type": "display_data"
    },
    {
     "name": "stdout",
     "output_type": "stream",
     "text": [
      "--- Train epoch-14, step-840 ---\n",
      "loss: 0.4942\n"
     ]
    },
    {
     "name": "stderr",
     "output_type": "stream",
     "text": [
      "Evaluation: 100%|███████████████████████████████████████████████████████████████████████| 7/7 [00:00<00:00, 127.27it/s]"
     ]
    },
    {
     "name": "stdout",
     "output_type": "stream",
     "text": [
      "--- Eval epoch-14, step-840 ---\n",
      "pr_auc: 0.2384\n",
      "roc_auc: 0.5907\n",
      "f1: 0.0000\n",
      "loss: 0.4802\n",
      "New best roc_auc score (0.5907) at epoch-14, step-840\n",
      "\n"
     ]
    },
    {
     "name": "stderr",
     "output_type": "stream",
     "text": [
      "\n"
     ]
    },
    {
     "data": {
      "application/vnd.jupyter.widget-view+json": {
       "model_id": "565063ac64394ad195b3dad622ec169c",
       "version_major": 2,
       "version_minor": 0
      },
      "text/plain": [
       "Epoch 15 / 50:   0%|          | 0/56 [00:00<?, ?it/s]"
      ]
     },
     "metadata": {},
     "output_type": "display_data"
    },
    {
     "name": "stdout",
     "output_type": "stream",
     "text": [
      "--- Train epoch-15, step-896 ---\n",
      "loss: 0.4940\n"
     ]
    },
    {
     "name": "stderr",
     "output_type": "stream",
     "text": [
      "Evaluation: 100%|███████████████████████████████████████████████████████████████████████| 7/7 [00:00<00:00, 158.26it/s]"
     ]
    },
    {
     "name": "stdout",
     "output_type": "stream",
     "text": [
      "--- Eval epoch-15, step-896 ---\n",
      "pr_auc: 0.2396\n",
      "roc_auc: 0.6001\n",
      "f1: 0.0000\n",
      "loss: 0.4793\n",
      "New best roc_auc score (0.6001) at epoch-15, step-896\n",
      "\n"
     ]
    },
    {
     "name": "stderr",
     "output_type": "stream",
     "text": [
      "\n"
     ]
    },
    {
     "data": {
      "application/vnd.jupyter.widget-view+json": {
       "model_id": "c8ef09b433864fbfa6632cb37422e683",
       "version_major": 2,
       "version_minor": 0
      },
      "text/plain": [
       "Epoch 16 / 50:   0%|          | 0/56 [00:00<?, ?it/s]"
      ]
     },
     "metadata": {},
     "output_type": "display_data"
    },
    {
     "name": "stdout",
     "output_type": "stream",
     "text": [
      "--- Train epoch-16, step-952 ---\n",
      "loss: 0.4921\n"
     ]
    },
    {
     "name": "stderr",
     "output_type": "stream",
     "text": [
      "Evaluation: 100%|███████████████████████████████████████████████████████████████████████| 7/7 [00:00<00:00, 119.62it/s]"
     ]
    },
    {
     "name": "stdout",
     "output_type": "stream",
     "text": [
      "--- Eval epoch-16, step-952 ---\n",
      "pr_auc: 0.2409\n",
      "roc_auc: 0.6020\n",
      "f1: 0.0000\n",
      "loss: 0.4793\n",
      "New best roc_auc score (0.6020) at epoch-16, step-952\n",
      "\n"
     ]
    },
    {
     "name": "stderr",
     "output_type": "stream",
     "text": [
      "\n"
     ]
    },
    {
     "data": {
      "application/vnd.jupyter.widget-view+json": {
       "model_id": "d766a2740a9d4096b96755193c083cf7",
       "version_major": 2,
       "version_minor": 0
      },
      "text/plain": [
       "Epoch 17 / 50:   0%|          | 0/56 [00:00<?, ?it/s]"
      ]
     },
     "metadata": {},
     "output_type": "display_data"
    },
    {
     "name": "stdout",
     "output_type": "stream",
     "text": [
      "--- Train epoch-17, step-1008 ---\n",
      "loss: 0.4896\n"
     ]
    },
    {
     "name": "stderr",
     "output_type": "stream",
     "text": [
      "Evaluation: 100%|███████████████████████████████████████████████████████████████████████| 7/7 [00:00<00:00, 145.81it/s]"
     ]
    },
    {
     "name": "stdout",
     "output_type": "stream",
     "text": [
      "--- Eval epoch-17, step-1008 ---\n",
      "pr_auc: 0.2419\n",
      "roc_auc: 0.6054\n",
      "f1: 0.0000\n",
      "loss: 0.4795\n",
      "New best roc_auc score (0.6054) at epoch-17, step-1008\n",
      "\n"
     ]
    },
    {
     "name": "stderr",
     "output_type": "stream",
     "text": [
      "\n"
     ]
    },
    {
     "data": {
      "application/vnd.jupyter.widget-view+json": {
       "model_id": "31d15c21bbdc402eadd3c63fc18b4421",
       "version_major": 2,
       "version_minor": 0
      },
      "text/plain": [
       "Epoch 18 / 50:   0%|          | 0/56 [00:00<?, ?it/s]"
      ]
     },
     "metadata": {},
     "output_type": "display_data"
    },
    {
     "name": "stdout",
     "output_type": "stream",
     "text": [
      "--- Train epoch-18, step-1064 ---\n",
      "loss: 0.4907\n"
     ]
    },
    {
     "name": "stderr",
     "output_type": "stream",
     "text": [
      "Evaluation: 100%|███████████████████████████████████████████████████████████████████████| 7/7 [00:00<00:00, 158.41it/s]"
     ]
    },
    {
     "name": "stdout",
     "output_type": "stream",
     "text": [
      "--- Eval epoch-18, step-1064 ---\n",
      "pr_auc: 0.2416\n",
      "roc_auc: 0.6083\n",
      "f1: 0.0000\n",
      "loss: 0.4797\n",
      "New best roc_auc score (0.6083) at epoch-18, step-1064\n",
      "\n"
     ]
    },
    {
     "name": "stderr",
     "output_type": "stream",
     "text": [
      "\n"
     ]
    },
    {
     "data": {
      "application/vnd.jupyter.widget-view+json": {
       "model_id": "78424c63e49d42cd922f0ad7ba2da805",
       "version_major": 2,
       "version_minor": 0
      },
      "text/plain": [
       "Epoch 19 / 50:   0%|          | 0/56 [00:00<?, ?it/s]"
      ]
     },
     "metadata": {},
     "output_type": "display_data"
    },
    {
     "name": "stdout",
     "output_type": "stream",
     "text": [
      "--- Train epoch-19, step-1120 ---\n",
      "loss: 0.4886\n"
     ]
    },
    {
     "name": "stderr",
     "output_type": "stream",
     "text": [
      "Evaluation: 100%|███████████████████████████████████████████████████████████████████████| 7/7 [00:00<00:00, 153.08it/s]"
     ]
    },
    {
     "name": "stdout",
     "output_type": "stream",
     "text": [
      "--- Eval epoch-19, step-1120 ---\n",
      "pr_auc: 0.2397\n",
      "roc_auc: 0.6104\n",
      "f1: 0.0000\n",
      "loss: 0.4799\n",
      "New best roc_auc score (0.6104) at epoch-19, step-1120\n",
      "\n"
     ]
    },
    {
     "name": "stderr",
     "output_type": "stream",
     "text": [
      "\n"
     ]
    },
    {
     "data": {
      "application/vnd.jupyter.widget-view+json": {
       "model_id": "2905a4cf10cc41608f9d1f5fc6495d10",
       "version_major": 2,
       "version_minor": 0
      },
      "text/plain": [
       "Epoch 20 / 50:   0%|          | 0/56 [00:00<?, ?it/s]"
      ]
     },
     "metadata": {},
     "output_type": "display_data"
    },
    {
     "name": "stdout",
     "output_type": "stream",
     "text": [
      "--- Train epoch-20, step-1176 ---\n",
      "loss: 0.4871\n"
     ]
    },
    {
     "name": "stderr",
     "output_type": "stream",
     "text": [
      "Evaluation: 100%|███████████████████████████████████████████████████████████████████████| 7/7 [00:00<00:00, 139.28it/s]"
     ]
    },
    {
     "name": "stdout",
     "output_type": "stream",
     "text": [
      "--- Eval epoch-20, step-1176 ---\n",
      "pr_auc: 0.2418\n",
      "roc_auc: 0.6149\n",
      "f1: 0.0000\n",
      "loss: 0.4804\n",
      "New best roc_auc score (0.6149) at epoch-20, step-1176\n",
      "\n"
     ]
    },
    {
     "name": "stderr",
     "output_type": "stream",
     "text": [
      "\n"
     ]
    },
    {
     "data": {
      "application/vnd.jupyter.widget-view+json": {
       "model_id": "7d5ee5b9dd9b4405bd744dcf433b426a",
       "version_major": 2,
       "version_minor": 0
      },
      "text/plain": [
       "Epoch 21 / 50:   0%|          | 0/56 [00:00<?, ?it/s]"
      ]
     },
     "metadata": {},
     "output_type": "display_data"
    },
    {
     "name": "stdout",
     "output_type": "stream",
     "text": [
      "--- Train epoch-21, step-1232 ---\n",
      "loss: 0.4897\n"
     ]
    },
    {
     "name": "stderr",
     "output_type": "stream",
     "text": [
      "Evaluation: 100%|███████████████████████████████████████████████████████████████████████| 7/7 [00:00<00:00, 140.81it/s]"
     ]
    },
    {
     "name": "stdout",
     "output_type": "stream",
     "text": [
      "--- Eval epoch-21, step-1232 ---\n",
      "pr_auc: 0.2400\n",
      "roc_auc: 0.6185\n",
      "f1: 0.0000\n",
      "loss: 0.4793\n",
      "New best roc_auc score (0.6185) at epoch-21, step-1232\n",
      "\n"
     ]
    },
    {
     "name": "stderr",
     "output_type": "stream",
     "text": [
      "\n"
     ]
    },
    {
     "data": {
      "application/vnd.jupyter.widget-view+json": {
       "model_id": "d690581c8571491e8f78fa170ed01721",
       "version_major": 2,
       "version_minor": 0
      },
      "text/plain": [
       "Epoch 22 / 50:   0%|          | 0/56 [00:00<?, ?it/s]"
      ]
     },
     "metadata": {},
     "output_type": "display_data"
    },
    {
     "name": "stdout",
     "output_type": "stream",
     "text": [
      "--- Train epoch-22, step-1288 ---\n",
      "loss: 0.4868\n"
     ]
    },
    {
     "name": "stderr",
     "output_type": "stream",
     "text": [
      "Evaluation: 100%|███████████████████████████████████████████████████████████████████████| 7/7 [00:00<00:00, 142.87it/s]"
     ]
    },
    {
     "name": "stdout",
     "output_type": "stream",
     "text": [
      "--- Eval epoch-22, step-1288 ---\n",
      "pr_auc: 0.2411\n",
      "roc_auc: 0.6237\n",
      "f1: 0.0000\n",
      "loss: 0.4796\n",
      "New best roc_auc score (0.6237) at epoch-22, step-1288\n",
      "\n"
     ]
    },
    {
     "name": "stderr",
     "output_type": "stream",
     "text": [
      "\n"
     ]
    },
    {
     "data": {
      "application/vnd.jupyter.widget-view+json": {
       "model_id": "2a0daaf5606c4feba3422cfba0ab8e24",
       "version_major": 2,
       "version_minor": 0
      },
      "text/plain": [
       "Epoch 23 / 50:   0%|          | 0/56 [00:00<?, ?it/s]"
      ]
     },
     "metadata": {},
     "output_type": "display_data"
    },
    {
     "name": "stdout",
     "output_type": "stream",
     "text": [
      "--- Train epoch-23, step-1344 ---\n",
      "loss: 0.4782\n"
     ]
    },
    {
     "name": "stderr",
     "output_type": "stream",
     "text": [
      "Evaluation: 100%|███████████████████████████████████████████████████████████████████████| 7/7 [00:00<00:00, 136.55it/s]"
     ]
    },
    {
     "name": "stdout",
     "output_type": "stream",
     "text": [
      "--- Eval epoch-23, step-1344 ---\n",
      "pr_auc: 0.2400\n",
      "roc_auc: 0.6243\n",
      "f1: 0.0000\n",
      "loss: 0.4796\n",
      "New best roc_auc score (0.6243) at epoch-23, step-1344\n",
      "\n"
     ]
    },
    {
     "name": "stderr",
     "output_type": "stream",
     "text": [
      "\n"
     ]
    },
    {
     "data": {
      "application/vnd.jupyter.widget-view+json": {
       "model_id": "8f69c08621894934952e416704a2f285",
       "version_major": 2,
       "version_minor": 0
      },
      "text/plain": [
       "Epoch 24 / 50:   0%|          | 0/56 [00:00<?, ?it/s]"
      ]
     },
     "metadata": {},
     "output_type": "display_data"
    },
    {
     "name": "stdout",
     "output_type": "stream",
     "text": [
      "--- Train epoch-24, step-1400 ---\n",
      "loss: 0.4828\n"
     ]
    },
    {
     "name": "stderr",
     "output_type": "stream",
     "text": [
      "Evaluation: 100%|███████████████████████████████████████████████████████████████████████| 7/7 [00:00<00:00, 139.74it/s]"
     ]
    },
    {
     "name": "stdout",
     "output_type": "stream",
     "text": [
      "--- Eval epoch-24, step-1400 ---\n",
      "pr_auc: 0.2406\n",
      "roc_auc: 0.6272\n",
      "f1: 0.0000\n",
      "loss: 0.4798\n",
      "New best roc_auc score (0.6272) at epoch-24, step-1400\n",
      "\n"
     ]
    },
    {
     "name": "stderr",
     "output_type": "stream",
     "text": [
      "\n"
     ]
    },
    {
     "data": {
      "application/vnd.jupyter.widget-view+json": {
       "model_id": "5e91e0ae311642a0af2bdcaeacd9b9de",
       "version_major": 2,
       "version_minor": 0
      },
      "text/plain": [
       "Epoch 25 / 50:   0%|          | 0/56 [00:00<?, ?it/s]"
      ]
     },
     "metadata": {},
     "output_type": "display_data"
    },
    {
     "name": "stdout",
     "output_type": "stream",
     "text": [
      "--- Train epoch-25, step-1456 ---\n",
      "loss: 0.4766\n"
     ]
    },
    {
     "name": "stderr",
     "output_type": "stream",
     "text": [
      "Evaluation: 100%|███████████████████████████████████████████████████████████████████████| 7/7 [00:00<00:00, 163.66it/s]"
     ]
    },
    {
     "name": "stdout",
     "output_type": "stream",
     "text": [
      "--- Eval epoch-25, step-1456 ---\n",
      "pr_auc: 0.2411\n",
      "roc_auc: 0.6299\n",
      "f1: 0.0000\n",
      "loss: 0.4805\n",
      "New best roc_auc score (0.6299) at epoch-25, step-1456\n",
      "\n"
     ]
    },
    {
     "name": "stderr",
     "output_type": "stream",
     "text": [
      "\n"
     ]
    },
    {
     "data": {
      "application/vnd.jupyter.widget-view+json": {
       "model_id": "8c40804fdedd4a0ea5746ff136b2d283",
       "version_major": 2,
       "version_minor": 0
      },
      "text/plain": [
       "Epoch 26 / 50:   0%|          | 0/56 [00:00<?, ?it/s]"
      ]
     },
     "metadata": {},
     "output_type": "display_data"
    },
    {
     "name": "stdout",
     "output_type": "stream",
     "text": [
      "--- Train epoch-26, step-1512 ---\n",
      "loss: 0.4769\n"
     ]
    },
    {
     "name": "stderr",
     "output_type": "stream",
     "text": [
      "Evaluation: 100%|███████████████████████████████████████████████████████████████████████| 7/7 [00:00<00:00, 157.24it/s]"
     ]
    },
    {
     "name": "stdout",
     "output_type": "stream",
     "text": [
      "--- Eval epoch-26, step-1512 ---\n",
      "pr_auc: 0.2434\n",
      "roc_auc: 0.6324\n",
      "f1: 0.0000\n",
      "loss: 0.4795\n",
      "New best roc_auc score (0.6324) at epoch-26, step-1512\n",
      "\n"
     ]
    },
    {
     "name": "stderr",
     "output_type": "stream",
     "text": [
      "\n"
     ]
    },
    {
     "data": {
      "application/vnd.jupyter.widget-view+json": {
       "model_id": "1cf49bdc67484b4f92615bf52aa562ea",
       "version_major": 2,
       "version_minor": 0
      },
      "text/plain": [
       "Epoch 27 / 50:   0%|          | 0/56 [00:00<?, ?it/s]"
      ]
     },
     "metadata": {},
     "output_type": "display_data"
    },
    {
     "name": "stdout",
     "output_type": "stream",
     "text": [
      "--- Train epoch-27, step-1568 ---\n",
      "loss: 0.4762\n"
     ]
    },
    {
     "name": "stderr",
     "output_type": "stream",
     "text": [
      "Evaluation: 100%|███████████████████████████████████████████████████████████████████████| 7/7 [00:00<00:00, 162.04it/s]"
     ]
    },
    {
     "name": "stdout",
     "output_type": "stream",
     "text": [
      "--- Eval epoch-27, step-1568 ---\n",
      "pr_auc: 0.2439\n",
      "roc_auc: 0.6343\n",
      "f1: 0.0000\n",
      "loss: 0.4790\n",
      "New best roc_auc score (0.6343) at epoch-27, step-1568\n",
      "\n"
     ]
    },
    {
     "name": "stderr",
     "output_type": "stream",
     "text": [
      "\n"
     ]
    },
    {
     "data": {
      "application/vnd.jupyter.widget-view+json": {
       "model_id": "9c505efc6220409e828234dccde66c1d",
       "version_major": 2,
       "version_minor": 0
      },
      "text/plain": [
       "Epoch 28 / 50:   0%|          | 0/56 [00:00<?, ?it/s]"
      ]
     },
     "metadata": {},
     "output_type": "display_data"
    },
    {
     "name": "stdout",
     "output_type": "stream",
     "text": [
      "--- Train epoch-28, step-1624 ---\n",
      "loss: 0.4705\n"
     ]
    },
    {
     "name": "stderr",
     "output_type": "stream",
     "text": [
      "Evaluation: 100%|███████████████████████████████████████████████████████████████████████| 7/7 [00:00<00:00, 148.94it/s]"
     ]
    },
    {
     "name": "stdout",
     "output_type": "stream",
     "text": [
      "--- Eval epoch-28, step-1624 ---\n",
      "pr_auc: 0.2431\n",
      "roc_auc: 0.6341\n",
      "f1: 0.0000\n",
      "loss: 0.4809\n",
      "\n"
     ]
    },
    {
     "name": "stderr",
     "output_type": "stream",
     "text": [
      "\n"
     ]
    },
    {
     "data": {
      "application/vnd.jupyter.widget-view+json": {
       "model_id": "f2e275addfed4a3bb8f579ae8198f380",
       "version_major": 2,
       "version_minor": 0
      },
      "text/plain": [
       "Epoch 29 / 50:   0%|          | 0/56 [00:00<?, ?it/s]"
      ]
     },
     "metadata": {},
     "output_type": "display_data"
    },
    {
     "name": "stdout",
     "output_type": "stream",
     "text": [
      "--- Train epoch-29, step-1680 ---\n",
      "loss: 0.4697\n"
     ]
    },
    {
     "name": "stderr",
     "output_type": "stream",
     "text": [
      "Evaluation: 100%|███████████████████████████████████████████████████████████████████████| 7/7 [00:00<00:00, 144.27it/s]"
     ]
    },
    {
     "name": "stdout",
     "output_type": "stream",
     "text": [
      "--- Eval epoch-29, step-1680 ---\n",
      "pr_auc: 0.2430\n",
      "roc_auc: 0.6339\n",
      "f1: 0.0000\n",
      "loss: 0.4800\n",
      "\n"
     ]
    },
    {
     "name": "stderr",
     "output_type": "stream",
     "text": [
      "\n"
     ]
    },
    {
     "data": {
      "application/vnd.jupyter.widget-view+json": {
       "model_id": "20046787f18048dca0aad18790798150",
       "version_major": 2,
       "version_minor": 0
      },
      "text/plain": [
       "Epoch 30 / 50:   0%|          | 0/56 [00:00<?, ?it/s]"
      ]
     },
     "metadata": {},
     "output_type": "display_data"
    },
    {
     "name": "stdout",
     "output_type": "stream",
     "text": [
      "--- Train epoch-30, step-1736 ---\n",
      "loss: 0.4690\n"
     ]
    },
    {
     "name": "stderr",
     "output_type": "stream",
     "text": [
      "Evaluation: 100%|███████████████████████████████████████████████████████████████████████| 7/7 [00:00<00:00, 145.86it/s]"
     ]
    },
    {
     "name": "stdout",
     "output_type": "stream",
     "text": [
      "--- Eval epoch-30, step-1736 ---\n",
      "pr_auc: 0.2437\n",
      "roc_auc: 0.6349\n",
      "f1: 0.0000\n",
      "loss: 0.4809\n",
      "New best roc_auc score (0.6349) at epoch-30, step-1736\n",
      "\n"
     ]
    },
    {
     "name": "stderr",
     "output_type": "stream",
     "text": [
      "\n"
     ]
    },
    {
     "data": {
      "application/vnd.jupyter.widget-view+json": {
       "model_id": "5cdf7913331e4fb684b3fa3bb7175aae",
       "version_major": 2,
       "version_minor": 0
      },
      "text/plain": [
       "Epoch 31 / 50:   0%|          | 0/56 [00:00<?, ?it/s]"
      ]
     },
     "metadata": {},
     "output_type": "display_data"
    },
    {
     "name": "stdout",
     "output_type": "stream",
     "text": [
      "--- Train epoch-31, step-1792 ---\n",
      "loss: 0.4713\n"
     ]
    },
    {
     "name": "stderr",
     "output_type": "stream",
     "text": [
      "Evaluation: 100%|███████████████████████████████████████████████████████████████████████| 7/7 [00:00<00:00, 135.89it/s]"
     ]
    },
    {
     "name": "stdout",
     "output_type": "stream",
     "text": [
      "--- Eval epoch-31, step-1792 ---\n",
      "pr_auc: 0.2433\n",
      "roc_auc: 0.6351\n",
      "f1: 0.0000\n",
      "loss: 0.4805\n",
      "New best roc_auc score (0.6351) at epoch-31, step-1792\n",
      "\n"
     ]
    },
    {
     "name": "stderr",
     "output_type": "stream",
     "text": [
      "\n"
     ]
    },
    {
     "data": {
      "application/vnd.jupyter.widget-view+json": {
       "model_id": "b0584fcf4e3747e6a851a7a59b54e885",
       "version_major": 2,
       "version_minor": 0
      },
      "text/plain": [
       "Epoch 32 / 50:   0%|          | 0/56 [00:00<?, ?it/s]"
      ]
     },
     "metadata": {},
     "output_type": "display_data"
    },
    {
     "name": "stdout",
     "output_type": "stream",
     "text": [
      "--- Train epoch-32, step-1848 ---\n",
      "loss: 0.4680\n"
     ]
    },
    {
     "name": "stderr",
     "output_type": "stream",
     "text": [
      "Evaluation: 100%|███████████████████████████████████████████████████████████████████████| 7/7 [00:00<00:00, 150.42it/s]"
     ]
    },
    {
     "name": "stdout",
     "output_type": "stream",
     "text": [
      "--- Eval epoch-32, step-1848 ---\n",
      "pr_auc: 0.2438\n",
      "roc_auc: 0.6351\n",
      "f1: 0.0000\n",
      "loss: 0.4814\n",
      "\n"
     ]
    },
    {
     "name": "stderr",
     "output_type": "stream",
     "text": [
      "\n"
     ]
    },
    {
     "data": {
      "application/vnd.jupyter.widget-view+json": {
       "model_id": "6e91867987004af8bf221244452dc439",
       "version_major": 2,
       "version_minor": 0
      },
      "text/plain": [
       "Epoch 33 / 50:   0%|          | 0/56 [00:00<?, ?it/s]"
      ]
     },
     "metadata": {},
     "output_type": "display_data"
    },
    {
     "name": "stdout",
     "output_type": "stream",
     "text": [
      "--- Train epoch-33, step-1904 ---\n",
      "loss: 0.4668\n"
     ]
    },
    {
     "name": "stderr",
     "output_type": "stream",
     "text": [
      "Evaluation: 100%|███████████████████████████████████████████████████████████████████████| 7/7 [00:00<00:00, 153.78it/s]"
     ]
    },
    {
     "name": "stdout",
     "output_type": "stream",
     "text": [
      "--- Eval epoch-33, step-1904 ---\n",
      "pr_auc: 0.2433\n",
      "roc_auc: 0.6343\n",
      "f1: 0.0000\n",
      "loss: 0.4807\n",
      "\n"
     ]
    },
    {
     "name": "stderr",
     "output_type": "stream",
     "text": [
      "\n"
     ]
    },
    {
     "data": {
      "application/vnd.jupyter.widget-view+json": {
       "model_id": "50bd243ae8bb4b02a31343ae6c31758c",
       "version_major": 2,
       "version_minor": 0
      },
      "text/plain": [
       "Epoch 34 / 50:   0%|          | 0/56 [00:00<?, ?it/s]"
      ]
     },
     "metadata": {},
     "output_type": "display_data"
    },
    {
     "name": "stdout",
     "output_type": "stream",
     "text": [
      "--- Train epoch-34, step-1960 ---\n",
      "loss: 0.4624\n"
     ]
    },
    {
     "name": "stderr",
     "output_type": "stream",
     "text": [
      "Evaluation: 100%|███████████████████████████████████████████████████████████████████████| 7/7 [00:00<00:00, 129.64it/s]"
     ]
    },
    {
     "name": "stdout",
     "output_type": "stream",
     "text": [
      "--- Eval epoch-34, step-1960 ---\n",
      "pr_auc: 0.2426\n",
      "roc_auc: 0.6348\n",
      "f1: 0.0000\n",
      "loss: 0.4820\n",
      "\n"
     ]
    },
    {
     "name": "stderr",
     "output_type": "stream",
     "text": [
      "\n"
     ]
    },
    {
     "data": {
      "application/vnd.jupyter.widget-view+json": {
       "model_id": "071c323140024413841fd30dfd49aee0",
       "version_major": 2,
       "version_minor": 0
      },
      "text/plain": [
       "Epoch 35 / 50:   0%|          | 0/56 [00:00<?, ?it/s]"
      ]
     },
     "metadata": {},
     "output_type": "display_data"
    },
    {
     "name": "stdout",
     "output_type": "stream",
     "text": [
      "--- Train epoch-35, step-2016 ---\n",
      "loss: 0.4608\n"
     ]
    },
    {
     "name": "stderr",
     "output_type": "stream",
     "text": [
      "Evaluation: 100%|███████████████████████████████████████████████████████████████████████| 7/7 [00:00<00:00, 163.07it/s]"
     ]
    },
    {
     "name": "stdout",
     "output_type": "stream",
     "text": [
      "--- Eval epoch-35, step-2016 ---\n",
      "pr_auc: 0.2424\n",
      "roc_auc: 0.6340\n",
      "f1: 0.0000\n",
      "loss: 0.4831\n",
      "\n"
     ]
    },
    {
     "name": "stderr",
     "output_type": "stream",
     "text": [
      "\n"
     ]
    },
    {
     "data": {
      "application/vnd.jupyter.widget-view+json": {
       "model_id": "a1933b59c178472bbeaf0d200a30e6c6",
       "version_major": 2,
       "version_minor": 0
      },
      "text/plain": [
       "Epoch 36 / 50:   0%|          | 0/56 [00:00<?, ?it/s]"
      ]
     },
     "metadata": {},
     "output_type": "display_data"
    },
    {
     "name": "stdout",
     "output_type": "stream",
     "text": [
      "--- Train epoch-36, step-2072 ---\n",
      "loss: 0.4611\n"
     ]
    },
    {
     "name": "stderr",
     "output_type": "stream",
     "text": [
      "Evaluation: 100%|███████████████████████████████████████████████████████████████████████| 7/7 [00:00<00:00, 152.64it/s]"
     ]
    },
    {
     "name": "stdout",
     "output_type": "stream",
     "text": [
      "--- Eval epoch-36, step-2072 ---\n",
      "pr_auc: 0.2435\n",
      "roc_auc: 0.6357\n",
      "f1: 0.0000\n",
      "loss: 0.4825\n",
      "New best roc_auc score (0.6357) at epoch-36, step-2072\n",
      "\n"
     ]
    },
    {
     "name": "stderr",
     "output_type": "stream",
     "text": [
      "\n"
     ]
    },
    {
     "data": {
      "application/vnd.jupyter.widget-view+json": {
       "model_id": "9114915912e6401ca0e4dfb59a31c85e",
       "version_major": 2,
       "version_minor": 0
      },
      "text/plain": [
       "Epoch 37 / 50:   0%|          | 0/56 [00:00<?, ?it/s]"
      ]
     },
     "metadata": {},
     "output_type": "display_data"
    },
    {
     "name": "stdout",
     "output_type": "stream",
     "text": [
      "--- Train epoch-37, step-2128 ---\n",
      "loss: 0.4587\n"
     ]
    },
    {
     "name": "stderr",
     "output_type": "stream",
     "text": [
      "Evaluation: 100%|███████████████████████████████████████████████████████████████████████| 7/7 [00:00<00:00, 137.86it/s]"
     ]
    },
    {
     "name": "stdout",
     "output_type": "stream",
     "text": [
      "--- Eval epoch-37, step-2128 ---\n",
      "pr_auc: 0.2434\n",
      "roc_auc: 0.6368\n",
      "f1: 0.0000\n",
      "loss: 0.4837\n",
      "New best roc_auc score (0.6368) at epoch-37, step-2128\n",
      "\n"
     ]
    },
    {
     "name": "stderr",
     "output_type": "stream",
     "text": [
      "\n"
     ]
    },
    {
     "data": {
      "application/vnd.jupyter.widget-view+json": {
       "model_id": "0d4a3052207f40238479dc3e93c3d603",
       "version_major": 2,
       "version_minor": 0
      },
      "text/plain": [
       "Epoch 38 / 50:   0%|          | 0/56 [00:00<?, ?it/s]"
      ]
     },
     "metadata": {},
     "output_type": "display_data"
    },
    {
     "name": "stdout",
     "output_type": "stream",
     "text": [
      "--- Train epoch-38, step-2184 ---\n",
      "loss: 0.4533\n"
     ]
    },
    {
     "name": "stderr",
     "output_type": "stream",
     "text": [
      "Evaluation: 100%|███████████████████████████████████████████████████████████████████████| 7/7 [00:00<00:00, 148.25it/s]"
     ]
    },
    {
     "name": "stdout",
     "output_type": "stream",
     "text": [
      "--- Eval epoch-38, step-2184 ---\n",
      "pr_auc: 0.2444\n",
      "roc_auc: 0.6370\n",
      "f1: 0.0000\n",
      "loss: 0.4838\n",
      "New best roc_auc score (0.6370) at epoch-38, step-2184\n",
      "\n"
     ]
    },
    {
     "name": "stderr",
     "output_type": "stream",
     "text": [
      "\n"
     ]
    },
    {
     "data": {
      "application/vnd.jupyter.widget-view+json": {
       "model_id": "51cf80f84ac54c87b0f0fa1e9ecf814c",
       "version_major": 2,
       "version_minor": 0
      },
      "text/plain": [
       "Epoch 39 / 50:   0%|          | 0/56 [00:00<?, ?it/s]"
      ]
     },
     "metadata": {},
     "output_type": "display_data"
    },
    {
     "name": "stdout",
     "output_type": "stream",
     "text": [
      "--- Train epoch-39, step-2240 ---\n",
      "loss: 0.4573\n"
     ]
    },
    {
     "name": "stderr",
     "output_type": "stream",
     "text": [
      "Evaluation: 100%|███████████████████████████████████████████████████████████████████████| 7/7 [00:00<00:00, 162.06it/s]"
     ]
    },
    {
     "name": "stdout",
     "output_type": "stream",
     "text": [
      "--- Eval epoch-39, step-2240 ---\n",
      "pr_auc: 0.2439\n",
      "roc_auc: 0.6360\n",
      "f1: 0.0000\n",
      "loss: 0.4819\n",
      "\n"
     ]
    },
    {
     "name": "stderr",
     "output_type": "stream",
     "text": [
      "\n"
     ]
    },
    {
     "data": {
      "application/vnd.jupyter.widget-view+json": {
       "model_id": "1249f34354924e679b4728c9c7025fb2",
       "version_major": 2,
       "version_minor": 0
      },
      "text/plain": [
       "Epoch 40 / 50:   0%|          | 0/56 [00:00<?, ?it/s]"
      ]
     },
     "metadata": {},
     "output_type": "display_data"
    },
    {
     "name": "stdout",
     "output_type": "stream",
     "text": [
      "--- Train epoch-40, step-2296 ---\n",
      "loss: 0.4490\n"
     ]
    },
    {
     "name": "stderr",
     "output_type": "stream",
     "text": [
      "Evaluation: 100%|███████████████████████████████████████████████████████████████████████| 7/7 [00:00<00:00, 159.08it/s]"
     ]
    },
    {
     "name": "stdout",
     "output_type": "stream",
     "text": [
      "--- Eval epoch-40, step-2296 ---\n",
      "pr_auc: 0.2455\n",
      "roc_auc: 0.6389\n",
      "f1: 0.0000\n",
      "loss: 0.4828\n",
      "New best roc_auc score (0.6389) at epoch-40, step-2296\n",
      "\n"
     ]
    },
    {
     "name": "stderr",
     "output_type": "stream",
     "text": [
      "\n"
     ]
    },
    {
     "data": {
      "application/vnd.jupyter.widget-view+json": {
       "model_id": "f7c66627e19146c3a7b94d1c1d62e28d",
       "version_major": 2,
       "version_minor": 0
      },
      "text/plain": [
       "Epoch 41 / 50:   0%|          | 0/56 [00:00<?, ?it/s]"
      ]
     },
     "metadata": {},
     "output_type": "display_data"
    },
    {
     "name": "stdout",
     "output_type": "stream",
     "text": [
      "--- Train epoch-41, step-2352 ---\n",
      "loss: 0.4508\n"
     ]
    },
    {
     "name": "stderr",
     "output_type": "stream",
     "text": [
      "Evaluation: 100%|███████████████████████████████████████████████████████████████████████| 7/7 [00:00<00:00, 146.58it/s]"
     ]
    },
    {
     "name": "stdout",
     "output_type": "stream",
     "text": [
      "--- Eval epoch-41, step-2352 ---\n",
      "pr_auc: 0.2474\n",
      "roc_auc: 0.6417\n",
      "f1: 0.0000\n",
      "loss: 0.4831\n",
      "New best roc_auc score (0.6417) at epoch-41, step-2352\n",
      "\n"
     ]
    },
    {
     "name": "stderr",
     "output_type": "stream",
     "text": [
      "\n"
     ]
    },
    {
     "data": {
      "application/vnd.jupyter.widget-view+json": {
       "model_id": "aa9db1cd93c94a2c8065edd385689a4b",
       "version_major": 2,
       "version_minor": 0
      },
      "text/plain": [
       "Epoch 42 / 50:   0%|          | 0/56 [00:00<?, ?it/s]"
      ]
     },
     "metadata": {},
     "output_type": "display_data"
    },
    {
     "name": "stdout",
     "output_type": "stream",
     "text": [
      "--- Train epoch-42, step-2408 ---\n",
      "loss: 0.4446\n"
     ]
    },
    {
     "name": "stderr",
     "output_type": "stream",
     "text": [
      "Evaluation: 100%|███████████████████████████████████████████████████████████████████████| 7/7 [00:00<00:00, 156.33it/s]"
     ]
    },
    {
     "name": "stdout",
     "output_type": "stream",
     "text": [
      "--- Eval epoch-42, step-2408 ---\n",
      "pr_auc: 0.2455\n",
      "roc_auc: 0.6374\n",
      "f1: 0.0000\n",
      "loss: 0.4834\n",
      "\n"
     ]
    },
    {
     "name": "stderr",
     "output_type": "stream",
     "text": [
      "\n"
     ]
    },
    {
     "data": {
      "application/vnd.jupyter.widget-view+json": {
       "model_id": "a5320d1e5c8c475d9ee43860df5ff8f6",
       "version_major": 2,
       "version_minor": 0
      },
      "text/plain": [
       "Epoch 43 / 50:   0%|          | 0/56 [00:00<?, ?it/s]"
      ]
     },
     "metadata": {},
     "output_type": "display_data"
    },
    {
     "name": "stdout",
     "output_type": "stream",
     "text": [
      "--- Train epoch-43, step-2464 ---\n",
      "loss: 0.4498\n"
     ]
    },
    {
     "name": "stderr",
     "output_type": "stream",
     "text": [
      "Evaluation: 100%|███████████████████████████████████████████████████████████████████████| 7/7 [00:00<00:00, 142.85it/s]"
     ]
    },
    {
     "name": "stdout",
     "output_type": "stream",
     "text": [
      "--- Eval epoch-43, step-2464 ---\n",
      "pr_auc: 0.2466\n",
      "roc_auc: 0.6388\n",
      "f1: 0.0000\n",
      "loss: 0.4846\n",
      "\n"
     ]
    },
    {
     "name": "stderr",
     "output_type": "stream",
     "text": [
      "\n"
     ]
    },
    {
     "data": {
      "application/vnd.jupyter.widget-view+json": {
       "model_id": "79a887e8021d4d2783ff77bd7ff78da2",
       "version_major": 2,
       "version_minor": 0
      },
      "text/plain": [
       "Epoch 44 / 50:   0%|          | 0/56 [00:00<?, ?it/s]"
      ]
     },
     "metadata": {},
     "output_type": "display_data"
    },
    {
     "name": "stdout",
     "output_type": "stream",
     "text": [
      "--- Train epoch-44, step-2520 ---\n",
      "loss: 0.4426\n"
     ]
    },
    {
     "name": "stderr",
     "output_type": "stream",
     "text": [
      "Evaluation: 100%|███████████████████████████████████████████████████████████████████████| 7/7 [00:00<00:00, 153.51it/s]"
     ]
    },
    {
     "name": "stdout",
     "output_type": "stream",
     "text": [
      "--- Eval epoch-44, step-2520 ---\n",
      "pr_auc: 0.2467\n",
      "roc_auc: 0.6372\n",
      "f1: 0.0000\n",
      "loss: 0.4848\n",
      "\n"
     ]
    },
    {
     "name": "stderr",
     "output_type": "stream",
     "text": [
      "\n"
     ]
    },
    {
     "data": {
      "application/vnd.jupyter.widget-view+json": {
       "model_id": "ad3bf4e56d5f4f8d8c540ec1e25c5ea6",
       "version_major": 2,
       "version_minor": 0
      },
      "text/plain": [
       "Epoch 45 / 50:   0%|          | 0/56 [00:00<?, ?it/s]"
      ]
     },
     "metadata": {},
     "output_type": "display_data"
    },
    {
     "name": "stdout",
     "output_type": "stream",
     "text": [
      "--- Train epoch-45, step-2576 ---\n",
      "loss: 0.4436\n"
     ]
    },
    {
     "name": "stderr",
     "output_type": "stream",
     "text": [
      "Evaluation: 100%|███████████████████████████████████████████████████████████████████████| 7/7 [00:00<00:00, 114.49it/s]"
     ]
    },
    {
     "name": "stdout",
     "output_type": "stream",
     "text": [
      "--- Eval epoch-45, step-2576 ---\n",
      "pr_auc: 0.2481\n",
      "roc_auc: 0.6380\n",
      "f1: 0.0000\n",
      "loss: 0.4853\n",
      "\n"
     ]
    },
    {
     "name": "stderr",
     "output_type": "stream",
     "text": [
      "\n"
     ]
    },
    {
     "data": {
      "application/vnd.jupyter.widget-view+json": {
       "model_id": "17d8eabdcf3d47f3bfb617380b41d60c",
       "version_major": 2,
       "version_minor": 0
      },
      "text/plain": [
       "Epoch 46 / 50:   0%|          | 0/56 [00:00<?, ?it/s]"
      ]
     },
     "metadata": {},
     "output_type": "display_data"
    },
    {
     "name": "stdout",
     "output_type": "stream",
     "text": [
      "--- Train epoch-46, step-2632 ---\n",
      "loss: 0.4410\n"
     ]
    },
    {
     "name": "stderr",
     "output_type": "stream",
     "text": [
      "Evaluation: 100%|███████████████████████████████████████████████████████████████████████| 7/7 [00:00<00:00, 152.85it/s]"
     ]
    },
    {
     "name": "stdout",
     "output_type": "stream",
     "text": [
      "--- Eval epoch-46, step-2632 ---\n",
      "pr_auc: 0.2486\n",
      "roc_auc: 0.6392\n",
      "f1: 0.0000\n",
      "loss: 0.4863\n",
      "\n"
     ]
    },
    {
     "name": "stderr",
     "output_type": "stream",
     "text": [
      "\n"
     ]
    },
    {
     "data": {
      "application/vnd.jupyter.widget-view+json": {
       "model_id": "3d02ee134eed4113bdde40d04874fe31",
       "version_major": 2,
       "version_minor": 0
      },
      "text/plain": [
       "Epoch 47 / 50:   0%|          | 0/56 [00:00<?, ?it/s]"
      ]
     },
     "metadata": {},
     "output_type": "display_data"
    },
    {
     "name": "stdout",
     "output_type": "stream",
     "text": [
      "--- Train epoch-47, step-2688 ---\n",
      "loss: 0.4422\n"
     ]
    },
    {
     "name": "stderr",
     "output_type": "stream",
     "text": [
      "Evaluation: 100%|███████████████████████████████████████████████████████████████████████| 7/7 [00:00<00:00, 138.70it/s]"
     ]
    },
    {
     "name": "stdout",
     "output_type": "stream",
     "text": [
      "--- Eval epoch-47, step-2688 ---\n",
      "pr_auc: 0.2495\n",
      "roc_auc: 0.6402\n",
      "f1: 0.0000\n",
      "loss: 0.4859\n",
      "\n"
     ]
    },
    {
     "name": "stderr",
     "output_type": "stream",
     "text": [
      "\n"
     ]
    },
    {
     "data": {
      "application/vnd.jupyter.widget-view+json": {
       "model_id": "0255fc5cc3374c49a8790810f713fe7e",
       "version_major": 2,
       "version_minor": 0
      },
      "text/plain": [
       "Epoch 48 / 50:   0%|          | 0/56 [00:00<?, ?it/s]"
      ]
     },
     "metadata": {},
     "output_type": "display_data"
    },
    {
     "name": "stdout",
     "output_type": "stream",
     "text": [
      "--- Train epoch-48, step-2744 ---\n",
      "loss: 0.4319\n"
     ]
    },
    {
     "name": "stderr",
     "output_type": "stream",
     "text": [
      "Evaluation: 100%|███████████████████████████████████████████████████████████████████████| 7/7 [00:00<00:00, 123.76it/s]"
     ]
    },
    {
     "name": "stdout",
     "output_type": "stream",
     "text": [
      "--- Eval epoch-48, step-2744 ---\n",
      "pr_auc: 0.2499\n",
      "roc_auc: 0.6409\n",
      "f1: 0.0000\n",
      "loss: 0.4871\n",
      "\n"
     ]
    },
    {
     "name": "stderr",
     "output_type": "stream",
     "text": [
      "\n"
     ]
    },
    {
     "data": {
      "application/vnd.jupyter.widget-view+json": {
       "model_id": "e0712ecb7c8d4fb3b53a6a2e40ef27cd",
       "version_major": 2,
       "version_minor": 0
      },
      "text/plain": [
       "Epoch 49 / 50:   0%|          | 0/56 [00:00<?, ?it/s]"
      ]
     },
     "metadata": {},
     "output_type": "display_data"
    },
    {
     "name": "stdout",
     "output_type": "stream",
     "text": [
      "--- Train epoch-49, step-2800 ---\n",
      "loss: 0.4331\n"
     ]
    },
    {
     "name": "stderr",
     "output_type": "stream",
     "text": [
      "Evaluation: 100%|███████████████████████████████████████████████████████████████████████| 7/7 [00:00<00:00, 129.75it/s]"
     ]
    },
    {
     "name": "stdout",
     "output_type": "stream",
     "text": [
      "--- Eval epoch-49, step-2800 ---\n",
      "pr_auc: 0.2492\n",
      "roc_auc: 0.6397\n",
      "f1: 0.0000\n",
      "loss: 0.4873\n",
      "Loaded best model\n",
      "Training started at: 2024-05-05 22:38:18.188236\n",
      "Training ended at: 2024-05-05 22:39:23.933962\n",
      "Total elapsed time: 0:01:05.745726\n",
      "Average epoch time: 0:00:01.314915\n"
     ]
    },
    {
     "name": "stderr",
     "output_type": "stream",
     "text": [
      "\n"
     ]
    }
   ],
   "source": [
    "# Full model training\n",
    "from datetime import datetime\n",
    "\n",
    "start_time = datetime.now()\n",
    "\n",
    "full_gn_rnn_trainer = Trainer(model=full_gn_rnn_model)\n",
    "full_gn_rnn_trainer.train(\n",
    "    train_dataloader=train_dataloader,\n",
    "    val_dataloader=val_dataloader,\n",
    "    epochs=50,\n",
    "    optimizer_class=torch.optim.Adam,\n",
    "    optimizer_params={\"lr\": 1e-4},\n",
    "    monitor=\"roc_auc\",\n",
    ")\n",
    "\n",
    "end_time = datetime.now()\n",
    "print(f\"Training started at: {start_time}\")\n",
    "print(f\"Training ended at: {end_time}\")\n",
    "print(f\"Total elapsed time: {end_time - start_time}\")\n",
    "print(f\"Average epoch time: {(end_time - start_time)/50}\")"
   ]
  },
  {
   "cell_type": "markdown",
   "metadata": {
    "id": "f5K9X3Eu10lU"
   },
   "source": [
    "## Evaluation\n",
    "\n",
    "All three models were evaluated using a test set of 10% of the original dataset that was held out for testing. The metric of interest was the area under the receiver operating characteristic curve (AUROC), which provides a measure of model performance in binary classification tasks where scores range from 0-1 and higher scores indicate better model performance. Note that all three models were tested on the same set."
   ]
  },
  {
   "cell_type": "code",
   "execution_count": 18,
   "metadata": {
    "id": "sejoFOah_HvI"
   },
   "outputs": [
    {
     "name": "stderr",
     "output_type": "stream",
     "text": [
      "Evaluation: 100%|███████████████████████████████████████████████████████████████████████| 7/7 [00:00<00:00, 249.99it/s]"
     ]
    },
    {
     "name": "stdout",
     "output_type": "stream",
     "text": [
      "{'pr_auc': 0.3339877879056099, 'roc_auc': 0.6564784053156146, 'f1': 0.08163265306122448, 'loss': 0.47674400891576496}\n"
     ]
    },
    {
     "name": "stderr",
     "output_type": "stream",
     "text": [
      "\n"
     ]
    }
   ],
   "source": [
    "# Simple DG-RNN model performance\n",
    "\n",
    "print(base_trainer.evaluate(test_dataloader))"
   ]
  },
  {
   "cell_type": "code",
   "execution_count": 19,
   "metadata": {
    "id": "rYPIVAjdH-77"
   },
   "outputs": [
    {
     "name": "stderr",
     "output_type": "stream",
     "text": [
      "Evaluation: 100%|███████████████████████████████████████████████████████████████████████| 7/7 [00:00<00:00, 194.19it/s]\n"
     ]
    },
    {
     "name": "stdout",
     "output_type": "stream",
     "text": [
      "{'pr_auc': 0.3131919157061534, 'roc_auc': 0.6554152823920265, 'f1': 0.1176470588235294, 'loss': 0.47826909167425974}\n"
     ]
    }
   ],
   "source": [
    "# Simple DG-RNN model performance with time added\n",
    "\n",
    "print(time_trainer.evaluate(test_dataloader))"
   ]
  },
  {
   "cell_type": "code",
   "execution_count": 20,
   "metadata": {
    "id": "MKzPYUmPQuhu"
   },
   "outputs": [
    {
     "name": "stderr",
     "output_type": "stream",
     "text": [
      "Evaluation: 100%|███████████████████████████████████████████████████████████████████████| 7/7 [00:00<00:00, 139.30it/s]"
     ]
    },
    {
     "name": "stdout",
     "output_type": "stream",
     "text": [
      "{'pr_auc': 0.3419007661502155, 'roc_auc': 0.6607308970099668, 'f1': 0.04347826086956522, 'loss': 0.4675425376210894}\n"
     ]
    },
    {
     "name": "stderr",
     "output_type": "stream",
     "text": [
      "\n"
     ]
    }
   ],
   "source": [
    "# Full DG-RNN model performance\n",
    "\n",
    "print(full_gn_rnn_trainer.evaluate(test_dataloader))"
   ]
  },
  {
   "cell_type": "markdown",
   "metadata": {
    "id": "eO17Oye-dJ1I"
   },
   "source": [
    "# Results\n",
    "\n",
    "Similar to the models presented in the original paper, information from the knowledge graph led to improved overall performance (Table 1). For instance, the full model (AUROC = 0.6607) outperformed the partial model that included the time component, but not the knowledge graph information (AUROC = 0.6554), which, however, underperformed the base model with no time or knowledge graph information (AUROC = 0.6565).\n",
    "\n",
    "These findings support the hypothesis that the knowledge graph would improve the model relative to the model with only the time component. The other hypothesis that the model with the time information would outperform the base mode was not supported."
   ]
  },
  {
   "cell_type": "markdown",
   "metadata": {
    "id": "rJkv78gkplbo"
   },
   "source": [
    "*Table 1.* Model AUROC values.\n",
    "\n",
    "| Full Model | Model w/o KG | Simple Model w/o Time or KG |\n",
    "|----------|----------|----------|\n",
    "|    0.6607     |    0.6554     |    0.6565     |\n"
   ]
  },
  {
   "cell_type": "markdown",
   "metadata": {
    "id": "lyEZt13lPCtn"
   },
   "source": [
    "## Model comparison\n",
    "\n",
    "The authors reported an AUROC of 0.7375 for the full DG-RNN model on the MIMIC-III dataset [2]. They also report lowered performance (AUROC = 0.7238) for the simpler model without the knowledge graph included. Note that they did not include a comparison with a base model with no time between visits information.\n",
    "\n",
    "For this replication, there was a similar pattern, but the overall AUROC was lower across the board. The possible reasons for the lowered performance is discussed below.\n",
    "\n",
    "The full model that included both the time component and the additional information from the knowledge graph outperformed the model with only the time component. However, the the simplest model with no time or knowledge graph information outperformed the model with only the time information added (Table 1).\n",
    "\n",
    "While the predictive ability was lower overall for the replication models, they display the same pattern as the original results. This replicates the finding that adding further knowledge of interconnections can improve model performance and enhance predictive ability."
   ]
  },
  {
   "cell_type": "markdown",
   "metadata": {
    "id": "_WJDsqqEbU6v"
   },
   "source": [
    "# Discussion\n",
    "\n",
    "This model supports the overarching claim from the original authors that adding knowledge about disease relationships can enhance an RNN over-and-above the base model in a heart failure prediction task [2].\n",
    "\n",
    "In this replication pyhealth [7,8] was used where possible as it simplifies data pre-processing, model building/training, and model evaluation. In addition to simplifying the process, the resulting code is more human-readable. Overall, using pyhealth has made the reproduction easier than it would have been otherwise and more portable to show to less technical audiences.\n",
    "\n",
    "The largest challenge faced had to do with the knowledge graph. The one that the original authors used [9] no longer appears to be available and the other knowledge graphs that were explored had their own challenges. For instance, the knowledge graph, PrimeKG [10], that ended up being used was extensive, but used a medical coding style, MONDO, that was difficult to translate to ICD-9 and CCSCM codes.\n",
    "\n",
    "In order to make this knowledge graph work with the MIMIC-III dataset, the diagnostic codes needed to be manually coded into an ICD-9 format. Not only is this prone to human error, but as the original dataset consisted of 6,392 individual nodes and numerous connections, the dataset had to be focused to only disease-related codes and only those that were related on the heart. Between this reduction, the conversion to the less granular ICD-9 codes, and the further conversion to even less granular CCSCM codes, a lot of information that may have been predictive of heart failure at the next visit was lost. This likely led, in part, to the lower AUROC score for the model.\n",
    "\n",
    "Another possible reason for the reduced performance relative to what was reported in the paper, may have to do with the fact that the datasets used were not exactly the same. Since this is public, the synthesized version of the MIMIC-III dataset [8] was used instead of the original MIMIC-III dataset. Moreover, the original article also used data from a proprietary source that was not available for this replication. Those two factors may also have figured into the differences in overall magnitude of the model performance. Future replication that is not public facing may be improved with the use of the original MIMIC-III and proprietary datasets.\n",
    "\n",
    "That being said, the replication showed the same pattern of results as the original article. This is important in that it demonstrates that an enhanced knowledge base can be used to improve the predictive quality of a model and may allow physicians to intervene sooner, resulting in better outcomes for patients. Additionally, this replication was accomplished using a new package, pyhealth, that could make this type of model simpler to implement in clincal settings. Future research should expand on this by generalizing to other diseases."
   ]
  },
  {
   "cell_type": "markdown",
   "metadata": {
    "id": "SHMI2chl9omn"
   },
   "source": [
    "# References\n",
    "\n",
    "1.   Bolnick, H. J., Bui, A. L., Bulchis, A., Chen, C., Chapin, A., Lomsadze, L., ... Dieleman, J. L. (2020). Health-care spending attributable to modifiable risk factors in the USA: An economic attribution analysis. The Lancet Public Health, 5(10), e525-e535. https://doi.org/10.1016/S2468-2667(20)30203-6\n",
    "2.   Yin, C., Zhao, R., Qian, B., Lv, X., & Zhang, P. (2019). Domain Knowledge Guided Deep Learning with Electronic Health Records. In 2019 IEEE International Conference on Data Mining (ICDM) (pp. 738-747). Beijing, China. https://doi.org/10.1109/ICDM.2019.00084\n",
    "3.   Hochreiter, S., & Schmidhuber, J. (1997). Long Short-Term Memory. Neural Computation, 9(8), 1735-1780. https://doi.org/10.1162/neco.1997.9.8.1735\n",
    "4.   Johnson, A., Pollard, T., & Mark, R. (2016). MIMIC-III Clinical Database (version 1.4). PhysioNet. https://doi.org/10.13026/C2XW26.\n",
    "5.   Johnson, A. E. W., Pollard, T. J., Shen, L., Lehman, L. H., Feng, M., Ghassemi, M., Moody, B., Szolovits, P., Celi, L. A., & Mark, R. G. (2016). MIMIC-III, a freely accessible critical care database. Scientific Data, 3, 160035.\n",
    "6.   Goldberger, A., Amaral, L., Glass, L., Hausdorff, J., Ivanov, P. C., Mark, R., ... & Stanley, H. E. (2000). PhysioBank, PhysioToolkit, and PhysioNet: Components of a new research resource for complex physiologic signals. Circulation [Online]. 101 (23), pp. e215–e220.\n",
    "7.   Yang, C., Wu, Z., Jiang, P., Lin, Z., Gao, J., Danek, B. P., & Sun, J. (2023). PyHealth: A Deep Learning Toolkit for Healthcare Applications. In Proceedings of the 29th ACM SIGKDD Conference on Knowledge Discovery and Data Mining (pp. 5788–5789). New York, NY, USA: Association for Computing Machinery.\n",
    "8.   Theodorou, B., Xiao, C., & Sun, J. (2023). Synthesize high-dimensional longitudinal electronic health records via hierarchical autoregressive language model. Nature Communications, 14, 5305. https://doi.org/10.1038/s41467-023-41093-0\n",
    "8.   Ernst, P., Siu, A., & Weikum, G. (2015). Knowlife: A versatile approach for constructing a large knowledge graph for biomedical sciences. BMC Bioinformatics.\n",
    "9.   Chandak, P., Huang, K., & Zitnik, M. (2023). Building a knowledge graph to enable precision medicine. Scientific Data, 10(1), Article 67. https://doi.org/10.1038/s41597-023-01960-3\n",
    "10.   Chandak, P. (2022). PrimeKG (V2) [Data set]. Harvard Dataverse. https://doi.org/10.7910/DVN/IXA7BM"
   ]
  }
 ],
 "metadata": {
  "colab": {
   "include_colab_link": true,
   "private_outputs": true,
   "provenance": [],
   "toc_visible": true
  },
  "kernelspec": {
   "display_name": "Python 3 (ipykernel)",
   "language": "python",
   "name": "python3"
  },
  "language_info": {
   "codemirror_mode": {
    "name": "ipython",
    "version": 3
   },
   "file_extension": ".py",
   "mimetype": "text/x-python",
   "name": "python",
   "nbconvert_exporter": "python",
   "pygments_lexer": "ipython3",
   "version": "3.11.9"
  }
 },
 "nbformat": 4,
 "nbformat_minor": 4
}
